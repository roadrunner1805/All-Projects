{
 "cells": [
  {
   "cell_type": "code",
   "execution_count": 1,
   "id": "9b11441f-f218-4f9f-82e7-5a118d78a246",
   "metadata": {},
   "outputs": [
    {
     "name": "stdout",
     "output_type": "stream",
     "text": [
      "[1] \"Jedi Consular\"\n"
     ]
    }
   ],
   "source": [
    "# Assign a single color to test\n",
    "color <- \"green\"  # try changing this to \"blue\", \"red\", \"yellow\" etc.\n",
    "\n",
    "# Classification using if/else chain\n",
    "if (color == \"green\") {\n",
    "  print(\"Jedi Consular\")\n",
    "} else if (color == \"blue\") {\n",
    "  print(\"Jedi Guardian\")\n",
    "} else if (color == \"purple\") {\n",
    "  print(\"Unique Balance\")\n",
    "} else if (color == \"red\") {\n",
    "  print(\"Sith Lord\")\n",
    "} else {\n",
    "  print(\"Rare Occurrence\")\n",
    "}"
   ]
  },
  {
   "cell_type": "code",
   "execution_count": 2,
   "id": "42d7e4e5-6fff-4556-9ff9-2f8927d2ec19",
   "metadata": {},
   "outputs": [
    {
     "name": "stdout",
     "output_type": "stream",
     "text": [
      " [1] \"Jedi Consular\"   \"Jedi Guardian\"   \"Sith Lord\"       \"Rare Occurrence\"\n",
      " [5] \"Jedi Guardian\"   \"Sith Lord\"       \"Unique Balance\"  \"Jedi Consular\"  \n",
      " [9] \"Sith Lord\"       \"Jedi Guardian\"   \"Sith Lord\"       \"Jedi Guardian\"  \n"
     ]
    }
   ],
   "source": [
    "# Vector of colors for multiple characters\n",
    "colors <- c(\"green\", \"blue\", \"red\", \"yellow\", \"blue\", \"red\", \n",
    "            \"purple\", \"green\", \"red\", \"blue\", \"red\", \"blue\")\n",
    "\n",
    "# Vectorized classification using ifelse\n",
    "roles <- ifelse(colors == \"green\", \"Jedi Consular\",\n",
    "         ifelse(colors == \"blue\", \"Jedi Guardian\",\n",
    "         ifelse(colors == \"purple\", \"Unique Balance\",\n",
    "         ifelse(colors == \"red\", \"Sith Lord\", \"Rare Occurrence\"))))\n",
    "\n",
    "# Print the roles vector\n",
    "print(roles)"
   ]
  },
  {
   "cell_type": "code",
   "execution_count": 3,
   "id": "3347d3e9-d575-4d81-b9d2-e06dcea50b3c",
   "metadata": {},
   "outputs": [
    {
     "ename": "ERROR",
     "evalue": "Error in parse(text = x, srcfile = src): <text>:1:2: unexpected '['\n1:  [\n     ^\n",
     "output_type": "error",
     "traceback": [
      "Error in parse(text = x, srcfile = src): <text>:1:2: unexpected '['\n1:  [\n     ^\nTraceback:\n"
     ]
    }
   ],
   "source": [
    "# if / else if / else:\n",
    "# Used for scalar (single) logical checks.\n",
    "# Runs one block of code depending on the first TRUE condition.\n",
    "# Good for control flow or when classifying single values.\n",
    "\n",
    "# ifelse():\n",
    "# Evaluates a condition for each element in a vector and returns a vector of results.\n",
    "# More concise and efficient when working with large datasets.\n",
    "# Cannot execute multiple lines of code per condition — only returns values."
   ]
  },
  {
   "cell_type": "code",
   "execution_count": 4,
   "id": "bb62f016-3e9c-4673-b9d8-00344ebe7269",
   "metadata": {},
   "outputs": [
    {
     "data": {
      "text/html": [
       "<style>\n",
       ".list-inline {list-style: none; margin:0; padding: 0}\n",
       ".list-inline>li {display: inline-block}\n",
       ".list-inline>li:not(:last-child)::after {content: \"\\00b7\"; padding: 0 .5ex}\n",
       "</style>\n",
       "<ol class=list-inline><li>705</li><li>13</li></ol>\n"
      ],
      "text/latex": [
       "\\begin{enumerate*}\n",
       "\\item 705\n",
       "\\item 13\n",
       "\\end{enumerate*}\n"
      ],
      "text/markdown": [
       "1. 705\n",
       "2. 13\n",
       "\n",
       "\n"
      ],
      "text/plain": [
       "[1] 705  13"
      ]
     },
     "metadata": {},
     "output_type": "display_data"
    },
    {
     "data": {
      "text/html": [
       "<table class=\"dataframe\">\n",
       "<caption>A data.frame: 6 × 13</caption>\n",
       "<thead>\n",
       "\t<tr><th></th><th scope=col>Student_ID</th><th scope=col>Age</th><th scope=col>Gender</th><th scope=col>Academic_Level</th><th scope=col>Country</th><th scope=col>Avg_Daily_Usage_Hours</th><th scope=col>Most_Used_Platform</th><th scope=col>Affects_Academic_Performance</th><th scope=col>Sleep_Hours_Per_Night</th><th scope=col>Mental_Health_Score</th><th scope=col>Relationship_Status</th><th scope=col>Conflicts_Over_Social_Media</th><th scope=col>Addicted_Score</th></tr>\n",
       "\t<tr><th></th><th scope=col>&lt;int&gt;</th><th scope=col>&lt;int&gt;</th><th scope=col>&lt;chr&gt;</th><th scope=col>&lt;chr&gt;</th><th scope=col>&lt;chr&gt;</th><th scope=col>&lt;dbl&gt;</th><th scope=col>&lt;chr&gt;</th><th scope=col>&lt;chr&gt;</th><th scope=col>&lt;dbl&gt;</th><th scope=col>&lt;int&gt;</th><th scope=col>&lt;chr&gt;</th><th scope=col>&lt;int&gt;</th><th scope=col>&lt;int&gt;</th></tr>\n",
       "</thead>\n",
       "<tbody>\n",
       "\t<tr><th scope=row>1</th><td>1</td><td>19</td><td>Female</td><td>Undergraduate</td><td>Bangladesh</td><td>5.2</td><td>Instagram</td><td>Yes</td><td>6.5</td><td>6</td><td>In Relationship</td><td>3</td><td>8</td></tr>\n",
       "\t<tr><th scope=row>2</th><td>2</td><td>22</td><td>Male  </td><td>Graduate     </td><td>India     </td><td>2.1</td><td>Twitter  </td><td>No </td><td>7.5</td><td>8</td><td>Single         </td><td>0</td><td>3</td></tr>\n",
       "\t<tr><th scope=row>3</th><td>3</td><td>20</td><td>Female</td><td>Undergraduate</td><td>USA       </td><td>6.0</td><td>TikTok   </td><td>Yes</td><td>5.0</td><td>5</td><td>Complicated    </td><td>4</td><td>9</td></tr>\n",
       "\t<tr><th scope=row>4</th><td>4</td><td>18</td><td>Male  </td><td>High School  </td><td>UK        </td><td>3.0</td><td>YouTube  </td><td>No </td><td>7.0</td><td>7</td><td>Single         </td><td>1</td><td>4</td></tr>\n",
       "\t<tr><th scope=row>5</th><td>5</td><td>21</td><td>Male  </td><td>Graduate     </td><td>Canada    </td><td>4.5</td><td>Facebook </td><td>Yes</td><td>6.0</td><td>6</td><td>In Relationship</td><td>2</td><td>7</td></tr>\n",
       "\t<tr><th scope=row>6</th><td>6</td><td>19</td><td>Female</td><td>Undergraduate</td><td>Australia </td><td>7.2</td><td>Instagram</td><td>Yes</td><td>4.5</td><td>4</td><td>Complicated    </td><td>5</td><td>9</td></tr>\n",
       "</tbody>\n",
       "</table>\n"
      ],
      "text/latex": [
       "A data.frame: 6 × 13\n",
       "\\begin{tabular}{r|lllllllllllll}\n",
       "  & Student\\_ID & Age & Gender & Academic\\_Level & Country & Avg\\_Daily\\_Usage\\_Hours & Most\\_Used\\_Platform & Affects\\_Academic\\_Performance & Sleep\\_Hours\\_Per\\_Night & Mental\\_Health\\_Score & Relationship\\_Status & Conflicts\\_Over\\_Social\\_Media & Addicted\\_Score\\\\\n",
       "  & <int> & <int> & <chr> & <chr> & <chr> & <dbl> & <chr> & <chr> & <dbl> & <int> & <chr> & <int> & <int>\\\\\n",
       "\\hline\n",
       "\t1 & 1 & 19 & Female & Undergraduate & Bangladesh & 5.2 & Instagram & Yes & 6.5 & 6 & In Relationship & 3 & 8\\\\\n",
       "\t2 & 2 & 22 & Male   & Graduate      & India      & 2.1 & Twitter   & No  & 7.5 & 8 & Single          & 0 & 3\\\\\n",
       "\t3 & 3 & 20 & Female & Undergraduate & USA        & 6.0 & TikTok    & Yes & 5.0 & 5 & Complicated     & 4 & 9\\\\\n",
       "\t4 & 4 & 18 & Male   & High School   & UK         & 3.0 & YouTube   & No  & 7.0 & 7 & Single          & 1 & 4\\\\\n",
       "\t5 & 5 & 21 & Male   & Graduate      & Canada     & 4.5 & Facebook  & Yes & 6.0 & 6 & In Relationship & 2 & 7\\\\\n",
       "\t6 & 6 & 19 & Female & Undergraduate & Australia  & 7.2 & Instagram & Yes & 4.5 & 4 & Complicated     & 5 & 9\\\\\n",
       "\\end{tabular}\n"
      ],
      "text/markdown": [
       "\n",
       "A data.frame: 6 × 13\n",
       "\n",
       "| <!--/--> | Student_ID &lt;int&gt; | Age &lt;int&gt; | Gender &lt;chr&gt; | Academic_Level &lt;chr&gt; | Country &lt;chr&gt; | Avg_Daily_Usage_Hours &lt;dbl&gt; | Most_Used_Platform &lt;chr&gt; | Affects_Academic_Performance &lt;chr&gt; | Sleep_Hours_Per_Night &lt;dbl&gt; | Mental_Health_Score &lt;int&gt; | Relationship_Status &lt;chr&gt; | Conflicts_Over_Social_Media &lt;int&gt; | Addicted_Score &lt;int&gt; |\n",
       "|---|---|---|---|---|---|---|---|---|---|---|---|---|---|\n",
       "| 1 | 1 | 19 | Female | Undergraduate | Bangladesh | 5.2 | Instagram | Yes | 6.5 | 6 | In Relationship | 3 | 8 |\n",
       "| 2 | 2 | 22 | Male   | Graduate      | India      | 2.1 | Twitter   | No  | 7.5 | 8 | Single          | 0 | 3 |\n",
       "| 3 | 3 | 20 | Female | Undergraduate | USA        | 6.0 | TikTok    | Yes | 5.0 | 5 | Complicated     | 4 | 9 |\n",
       "| 4 | 4 | 18 | Male   | High School   | UK         | 3.0 | YouTube   | No  | 7.0 | 7 | Single          | 1 | 4 |\n",
       "| 5 | 5 | 21 | Male   | Graduate      | Canada     | 4.5 | Facebook  | Yes | 6.0 | 6 | In Relationship | 2 | 7 |\n",
       "| 6 | 6 | 19 | Female | Undergraduate | Australia  | 7.2 | Instagram | Yes | 4.5 | 4 | Complicated     | 5 | 9 |\n",
       "\n"
      ],
      "text/plain": [
       "  Student_ID Age Gender Academic_Level Country    Avg_Daily_Usage_Hours\n",
       "1 1          19  Female Undergraduate  Bangladesh 5.2                  \n",
       "2 2          22  Male   Graduate       India      2.1                  \n",
       "3 3          20  Female Undergraduate  USA        6.0                  \n",
       "4 4          18  Male   High School    UK         3.0                  \n",
       "5 5          21  Male   Graduate       Canada     4.5                  \n",
       "6 6          19  Female Undergraduate  Australia  7.2                  \n",
       "  Most_Used_Platform Affects_Academic_Performance Sleep_Hours_Per_Night\n",
       "1 Instagram          Yes                          6.5                  \n",
       "2 Twitter            No                           7.5                  \n",
       "3 TikTok             Yes                          5.0                  \n",
       "4 YouTube            No                           7.0                  \n",
       "5 Facebook           Yes                          6.0                  \n",
       "6 Instagram          Yes                          4.5                  \n",
       "  Mental_Health_Score Relationship_Status Conflicts_Over_Social_Media\n",
       "1 6                   In Relationship     3                          \n",
       "2 8                   Single              0                          \n",
       "3 5                   Complicated         4                          \n",
       "4 7                   Single              1                          \n",
       "5 6                   In Relationship     2                          \n",
       "6 4                   Complicated         5                          \n",
       "  Addicted_Score\n",
       "1 8             \n",
       "2 3             \n",
       "3 9             \n",
       "4 4             \n",
       "5 7             \n",
       "6 9             "
      ]
     },
     "metadata": {},
     "output_type": "display_data"
    },
    {
     "name": "stdout",
     "output_type": "stream",
     "text": [
      "[1] 9.6\n",
      "[1] 8.5\n"
     ]
    }
   ],
   "source": [
    "# Read the dataset\n",
    "myDF <- read.csv(\"/anvil/projects/tdm/data/social_media_addiction/social_media.csv\")\n",
    "\n",
    "# Check the dimensions (rows x columns)\n",
    "dim(myDF)\n",
    "\n",
    "# View the first few rows\n",
    "head(myDF)\n",
    "\n",
    "# Find the longest recorded sleep time\n",
    "max_sleep <- max(myDF$Sleep_Hours_Per_Night, na.rm = TRUE)\n",
    "print(max_sleep)\n",
    "\n",
    "# Find the longest recorded social media time\n",
    "max_social <- max(myDF$Avg_Daily_Usage_Hours, na.rm = TRUE)\n",
    "print(max_social)"
   ]
  },
  {
   "cell_type": "code",
   "execution_count": 5,
   "id": "00202531-14fd-42ef-b25b-8bc1019c3423",
   "metadata": {},
   "outputs": [
    {
     "data": {
      "text/html": [
       "<table class=\"dataframe\">\n",
       "<caption>A data.frame: 6 × 3</caption>\n",
       "<thead>\n",
       "\t<tr><th></th><th scope=col>Sleep_Hours_Per_Night</th><th scope=col>Avg_Daily_Usage_Hours</th><th scope=col>Status</th></tr>\n",
       "\t<tr><th></th><th scope=col>&lt;dbl&gt;</th><th scope=col>&lt;dbl&gt;</th><th scope=col>&lt;chr&gt;</th></tr>\n",
       "</thead>\n",
       "<tbody>\n",
       "\t<tr><th scope=row>1</th><td>6.5</td><td>5.2</td><td>Thriving</td></tr>\n",
       "\t<tr><th scope=row>2</th><td>7.5</td><td>2.1</td><td>Thriving</td></tr>\n",
       "\t<tr><th scope=row>3</th><td>5.0</td><td>6.0</td><td>Zombie  </td></tr>\n",
       "\t<tr><th scope=row>4</th><td>7.0</td><td>3.0</td><td>Thriving</td></tr>\n",
       "\t<tr><th scope=row>5</th><td>6.0</td><td>4.5</td><td>Thriving</td></tr>\n",
       "\t<tr><th scope=row>6</th><td>4.5</td><td>7.2</td><td>Zombie  </td></tr>\n",
       "</tbody>\n",
       "</table>\n"
      ],
      "text/latex": [
       "A data.frame: 6 × 3\n",
       "\\begin{tabular}{r|lll}\n",
       "  & Sleep\\_Hours\\_Per\\_Night & Avg\\_Daily\\_Usage\\_Hours & Status\\\\\n",
       "  & <dbl> & <dbl> & <chr>\\\\\n",
       "\\hline\n",
       "\t1 & 6.5 & 5.2 & Thriving\\\\\n",
       "\t2 & 7.5 & 2.1 & Thriving\\\\\n",
       "\t3 & 5.0 & 6.0 & Zombie  \\\\\n",
       "\t4 & 7.0 & 3.0 & Thriving\\\\\n",
       "\t5 & 6.0 & 4.5 & Thriving\\\\\n",
       "\t6 & 4.5 & 7.2 & Zombie  \\\\\n",
       "\\end{tabular}\n"
      ],
      "text/markdown": [
       "\n",
       "A data.frame: 6 × 3\n",
       "\n",
       "| <!--/--> | Sleep_Hours_Per_Night &lt;dbl&gt; | Avg_Daily_Usage_Hours &lt;dbl&gt; | Status &lt;chr&gt; |\n",
       "|---|---|---|---|\n",
       "| 1 | 6.5 | 5.2 | Thriving |\n",
       "| 2 | 7.5 | 2.1 | Thriving |\n",
       "| 3 | 5.0 | 6.0 | Zombie   |\n",
       "| 4 | 7.0 | 3.0 | Thriving |\n",
       "| 5 | 6.0 | 4.5 | Thriving |\n",
       "| 6 | 4.5 | 7.2 | Zombie   |\n",
       "\n"
      ],
      "text/plain": [
       "  Sleep_Hours_Per_Night Avg_Daily_Usage_Hours Status  \n",
       "1 6.5                   5.2                   Thriving\n",
       "2 7.5                   2.1                   Thriving\n",
       "3 5.0                   6.0                   Zombie  \n",
       "4 7.0                   3.0                   Thriving\n",
       "5 6.0                   4.5                   Thriving\n",
       "6 4.5                   7.2                   Zombie  "
      ]
     },
     "metadata": {},
     "output_type": "display_data"
    },
    {
     "data": {
      "text/plain": [
       "\n",
       "Doom Scroll    Thriving      Zombie \n",
       "         22         536         147 "
      ]
     },
     "metadata": {},
     "output_type": "display_data"
    }
   ],
   "source": [
    "# Create Status column with nested ifelse\n",
    "myDF$Status <- ifelse(myDF$Avg_Daily_Usage_Hours > myDF$Sleep_Hours_Per_Night, \"Zombie\",\n",
    "               ifelse(myDF$Avg_Daily_Usage_Hours == myDF$Sleep_Hours_Per_Night, \"Doom Scroll\",\n",
    "                      \"Thriving\"))\n",
    "\n",
    "# Check the head of the dataframe to see the new column\n",
    "head(myDF[, c(\"Sleep_Hours_Per_Night\", \"Avg_Daily_Usage_Hours\", \"Status\")])\n",
    "\n",
    "# Use table to count how many students fall into each Status category\n",
    "table(myDF$Status)"
   ]
  },
  {
   "cell_type": "code",
   "execution_count": 8,
   "id": "1903f510-1364-4874-a981-4cacb66b26e6",
   "metadata": {},
   "outputs": [],
   "source": [
    "# longest sleep = 10 hrs and longest social media is 8.5 hours "
   ]
  },
  {
   "cell_type": "code",
   "execution_count": 7,
   "id": "39043ab5-7aa7-4c0e-baec-a6d53661a6aa",
   "metadata": {},
   "outputs": [],
   "source": [
    "# The most common habit ratio among students is typically “Thriving” (where sleep hours > social media hours)."
   ]
  },
  {
   "cell_type": "code",
   "execution_count": 9,
   "id": "bc0a24b6-ccf0-4e1a-a148-78a676e960f8",
   "metadata": {},
   "outputs": [
    {
     "name": "stdout",
     "output_type": "stream",
     "text": [
      "[1] \"Screen time: 10 hours\"\n",
      "[1] \"Screen time: 9 hours\"\n",
      "[1] \"Screen time: 8 hours\"\n",
      "[1] \"Screen time: 7 hours\"\n",
      "[1] \"Screen time: 6 hours\"\n",
      "[1] \"Screen time: 5 hours\"\n",
      "[1] \"Screen time: 4 hours\"\n",
      "[1] \"Screen time: 3 hours\"\n"
     ]
    }
   ],
   "source": [
    "# Initialize screen_time\n",
    "screen_time <- 10\n",
    "\n",
    "# While loop to print and decrease screen_time\n",
    "while (screen_time > 2) {\n",
    "  print(paste(\"Screen time:\", screen_time, \"hours\"))\n",
    "  screen_time <- screen_time - 1\n",
    "}"
   ]
  },
  {
   "cell_type": "code",
   "execution_count": 11,
   "id": "36118848-839c-4bb1-ab20-359d92b81f19",
   "metadata": {},
   "outputs": [
    {
     "name": "stdout",
     "output_type": "stream",
     "text": [
      "[1] \"Sleep time: 2 hours\"\n",
      "[1] \"Sleep time: 3 hours\"\n",
      "[1] \"Sleep time: 4 hours\"\n",
      "[1] \"Sleep time: 5 hours\"\n",
      "[1] \"Sleep time: 6 hours\"\n",
      "[1] \"Sleep time: 7 hours\"\n",
      "[1] \"Sleep time: 8 hours\"\n",
      "[1] \"Sleep time: 9 hours\"\n"
     ]
    }
   ],
   "source": [
    "# Initialize sleep_time\n",
    "sleep_time <- 2\n",
    "\n",
    "# While loop to print and increase sleep_time\n",
    "while (sleep_time < 10) {\n",
    "  print(paste(\"Sleep time:\", sleep_time, \"hours\"))\n",
    "  sleep_time <- sleep_time + 1\n",
    "}"
   ]
  },
  {
   "cell_type": "code",
   "execution_count": null,
   "id": "573620fe-c87f-4229-911a-7e995f3eafa8",
   "metadata": {},
   "outputs": [],
   "source": [
    "# print paste: Returns the value and shows [1] because it prints the character vector returned by paste().\n",
    "# Prints text directly to the console, no [1].\n"
   ]
  },
  {
   "cell_type": "code",
   "execution_count": 12,
   "id": "040e179e-55be-42b5-a0a4-1c31b4e94ab8",
   "metadata": {},
   "outputs": [
    {
     "name": "stdout",
     "output_type": "stream",
     "text": [
      "Screen time: 10 hours | Sleep time: 2 hours\n",
      "Screen time: 9.5 hours | Sleep time: 2.5 hours\n",
      "Screen time: 9 hours | Sleep time: 3 hours\n",
      "Screen time: 8.5 hours | Sleep time: 3.5 hours\n",
      "Screen time: 8 hours | Sleep time: 4 hours\n",
      "Screen time: 7.5 hours | Sleep time: 4.5 hours\n",
      "Screen time: 7 hours | Sleep time: 5 hours\n",
      "Screen time: 6.5 hours | Sleep time: 5.5 hours\n",
      "Screen time: 6 hours | Sleep time: 6 hours\n",
      "Screen time: 5.5 hours | Sleep time: 6.5 hours\n",
      "Screen time: 5 hours | Sleep time: 7 hours\n",
      "Screen time: 4.5 hours | Sleep time: 7.5 hours\n",
      "Screen time: 4 hours | Sleep time: 8 hours\n",
      "Screen time: 3.5 hours | Sleep time: 8.5 hours\n",
      "Screen time: 3 hours | Sleep time: 9 hours\n",
      "Screen time: 2.5 hours | Sleep time: 9.5 hours\n"
     ]
    }
   ],
   "source": [
    "# Reset variables\n",
    "screen_time <- 10\n",
    "sleep_time <- 2\n",
    "\n",
    "# Loop while screen_time is greater than 2\n",
    "while (screen_time > 2) {\n",
    "  cat(\"Screen time:\", screen_time, \"hours | Sleep time:\", sleep_time, \"hours\\n\")\n",
    "  screen_time <- screen_time - 0.5\n",
    "  sleep_time <- sleep_time + 0.5\n",
    "}"
   ]
  },
  {
   "cell_type": "code",
   "execution_count": 13,
   "id": "fdc4d38f-6d56-4c9f-bb55-88417ea9b12b",
   "metadata": {},
   "outputs": [
    {
     "data": {
      "text/html": [
       "<table class=\"dataframe\">\n",
       "<caption>A data.frame: 6 × 13</caption>\n",
       "<thead>\n",
       "\t<tr><th></th><th scope=col>id</th><th scope=col>name</th><th scope=col>species</th><th scope=col>gender</th><th scope=col>height</th><th scope=col>weight</th><th scope=col>hair_color</th><th scope=col>eye_color</th><th scope=col>skin_color</th><th scope=col>year_born</th><th scope=col>homeworld</th><th scope=col>year_died</th><th scope=col>description</th></tr>\n",
       "\t<tr><th></th><th scope=col>&lt;int&gt;</th><th scope=col>&lt;chr&gt;</th><th scope=col>&lt;chr&gt;</th><th scope=col>&lt;chr&gt;</th><th scope=col>&lt;dbl&gt;</th><th scope=col>&lt;dbl&gt;</th><th scope=col>&lt;chr&gt;</th><th scope=col>&lt;chr&gt;</th><th scope=col>&lt;chr&gt;</th><th scope=col>&lt;int&gt;</th><th scope=col>&lt;chr&gt;</th><th scope=col>&lt;int&gt;</th><th scope=col>&lt;chr&gt;</th></tr>\n",
       "</thead>\n",
       "<tbody>\n",
       "\t<tr><th scope=row>1</th><td>1</td><td>Luke Skywalker</td><td>Human         </td><td>Male  </td><td>1.72</td><td> 77</td><td>Blond</td><td>Blue  </td><td>Light</td><td> 19</td><td>Tatooine</td><td>34</td><td>The main protagonist of the original trilogy.                    </td></tr>\n",
       "\t<tr><th scope=row>2</th><td>2</td><td>Leia Organa   </td><td>Human         </td><td>Female</td><td>1.50</td><td> 49</td><td>Brown</td><td>Brown </td><td>Light</td><td> 19</td><td>Alderaan</td><td>35</td><td>A leader in the Rebel Alliance and twin sister of Luke Skywalker.</td></tr>\n",
       "\t<tr><th scope=row>3</th><td>3</td><td>Darth Vader   </td><td>Human         </td><td>Male  </td><td>2.02</td><td>136</td><td>None </td><td>Yellow</td><td>Pale </td><td> 41</td><td>Tatooine</td><td> 4</td><td>The Sith Lord formerly known as Anakin Skywalker.                </td></tr>\n",
       "\t<tr><th scope=row>4</th><td>4</td><td>Yoda          </td><td>Yoda's species</td><td>Male  </td><td>0.66</td><td> 17</td><td>White</td><td>Brown </td><td>Green</td><td>896</td><td>Unknown </td><td> 4</td><td>A wise and powerful Jedi Master.                                 </td></tr>\n",
       "\t<tr><th scope=row>5</th><td>5</td><td>Han Solo      </td><td>Human         </td><td>Male  </td><td>1.80</td><td> 80</td><td>Brown</td><td>Hazel </td><td>Light</td><td> 29</td><td>Corellia</td><td>34</td><td>A smuggler turned hero in the Rebel Alliance.                    </td></tr>\n",
       "\t<tr><th scope=row>6</th><td>6</td><td>Chewbacca     </td><td>Wookiee       </td><td>Male  </td><td>2.28</td><td>112</td><td>Brown</td><td>Blue  </td><td>Brown</td><td>200</td><td>Kashyyyk</td><td>NA</td><td>A loyal Wookiee and co-pilot of the Millennium Falcon.           </td></tr>\n",
       "</tbody>\n",
       "</table>\n"
      ],
      "text/latex": [
       "A data.frame: 6 × 13\n",
       "\\begin{tabular}{r|lllllllllllll}\n",
       "  & id & name & species & gender & height & weight & hair\\_color & eye\\_color & skin\\_color & year\\_born & homeworld & year\\_died & description\\\\\n",
       "  & <int> & <chr> & <chr> & <chr> & <dbl> & <dbl> & <chr> & <chr> & <chr> & <int> & <chr> & <int> & <chr>\\\\\n",
       "\\hline\n",
       "\t1 & 1 & Luke Skywalker & Human          & Male   & 1.72 &  77 & Blond & Blue   & Light &  19 & Tatooine & 34 & The main protagonist of the original trilogy.                    \\\\\n",
       "\t2 & 2 & Leia Organa    & Human          & Female & 1.50 &  49 & Brown & Brown  & Light &  19 & Alderaan & 35 & A leader in the Rebel Alliance and twin sister of Luke Skywalker.\\\\\n",
       "\t3 & 3 & Darth Vader    & Human          & Male   & 2.02 & 136 & None  & Yellow & Pale  &  41 & Tatooine &  4 & The Sith Lord formerly known as Anakin Skywalker.                \\\\\n",
       "\t4 & 4 & Yoda           & Yoda's species & Male   & 0.66 &  17 & White & Brown  & Green & 896 & Unknown  &  4 & A wise and powerful Jedi Master.                                 \\\\\n",
       "\t5 & 5 & Han Solo       & Human          & Male   & 1.80 &  80 & Brown & Hazel  & Light &  29 & Corellia & 34 & A smuggler turned hero in the Rebel Alliance.                    \\\\\n",
       "\t6 & 6 & Chewbacca      & Wookiee        & Male   & 2.28 & 112 & Brown & Blue   & Brown & 200 & Kashyyyk & NA & A loyal Wookiee and co-pilot of the Millennium Falcon.           \\\\\n",
       "\\end{tabular}\n"
      ],
      "text/markdown": [
       "\n",
       "A data.frame: 6 × 13\n",
       "\n",
       "| <!--/--> | id &lt;int&gt; | name &lt;chr&gt; | species &lt;chr&gt; | gender &lt;chr&gt; | height &lt;dbl&gt; | weight &lt;dbl&gt; | hair_color &lt;chr&gt; | eye_color &lt;chr&gt; | skin_color &lt;chr&gt; | year_born &lt;int&gt; | homeworld &lt;chr&gt; | year_died &lt;int&gt; | description &lt;chr&gt; |\n",
       "|---|---|---|---|---|---|---|---|---|---|---|---|---|---|\n",
       "| 1 | 1 | Luke Skywalker | Human          | Male   | 1.72 |  77 | Blond | Blue   | Light |  19 | Tatooine | 34 | The main protagonist of the original trilogy.                     |\n",
       "| 2 | 2 | Leia Organa    | Human          | Female | 1.50 |  49 | Brown | Brown  | Light |  19 | Alderaan | 35 | A leader in the Rebel Alliance and twin sister of Luke Skywalker. |\n",
       "| 3 | 3 | Darth Vader    | Human          | Male   | 2.02 | 136 | None  | Yellow | Pale  |  41 | Tatooine |  4 | The Sith Lord formerly known as Anakin Skywalker.                 |\n",
       "| 4 | 4 | Yoda           | Yoda's species | Male   | 0.66 |  17 | White | Brown  | Green | 896 | Unknown  |  4 | A wise and powerful Jedi Master.                                  |\n",
       "| 5 | 5 | Han Solo       | Human          | Male   | 1.80 |  80 | Brown | Hazel  | Light |  29 | Corellia | 34 | A smuggler turned hero in the Rebel Alliance.                     |\n",
       "| 6 | 6 | Chewbacca      | Wookiee        | Male   | 2.28 | 112 | Brown | Blue   | Brown | 200 | Kashyyyk | NA | A loyal Wookiee and co-pilot of the Millennium Falcon.            |\n",
       "\n"
      ],
      "text/plain": [
       "  id name           species        gender height weight hair_color eye_color\n",
       "1 1  Luke Skywalker Human          Male   1.72    77    Blond      Blue     \n",
       "2 2  Leia Organa    Human          Female 1.50    49    Brown      Brown    \n",
       "3 3  Darth Vader    Human          Male   2.02   136    None       Yellow   \n",
       "4 4  Yoda           Yoda's species Male   0.66    17    White      Brown    \n",
       "5 5  Han Solo       Human          Male   1.80    80    Brown      Hazel    \n",
       "6 6  Chewbacca      Wookiee        Male   2.28   112    Brown      Blue     \n",
       "  skin_color year_born homeworld year_died\n",
       "1 Light       19       Tatooine  34       \n",
       "2 Light       19       Alderaan  35       \n",
       "3 Pale        41       Tatooine   4       \n",
       "4 Green      896       Unknown    4       \n",
       "5 Light       29       Corellia  34       \n",
       "6 Brown      200       Kashyyyk  NA       \n",
       "  description                                                      \n",
       "1 The main protagonist of the original trilogy.                    \n",
       "2 A leader in the Rebel Alliance and twin sister of Luke Skywalker.\n",
       "3 The Sith Lord formerly known as Anakin Skywalker.                \n",
       "4 A wise and powerful Jedi Master.                                 \n",
       "5 A smuggler turned hero in the Rebel Alliance.                    \n",
       "6 A loyal Wookiee and co-pilot of the Millennium Falcon.           "
      ]
     },
     "metadata": {},
     "output_type": "display_data"
    }
   ],
   "source": [
    "# Read the Star Wars characters dataset\n",
    "characters <- read.csv(\"/anvil/projects/tdm/data/starwars/characters.csv\")\n",
    "\n",
    "# Check structure (optional)\n",
    "head(characters)"
   ]
  },
  {
   "cell_type": "code",
   "execution_count": 14,
   "id": "1bd7080b-7aeb-4112-89dd-2b43e670a608",
   "metadata": {},
   "outputs": [
    {
     "name": "stdout",
     "output_type": "stream",
     "text": [
      "1 - This is a human\n",
      "2 - This is a human\n",
      "3 - This is a human\n",
      "[1] \"This is not a human\"\n",
      "5 - This is a human\n",
      "[1] \"This is not a human\"\n",
      "7 - This is a human\n",
      "8 - This is a human\n",
      "9 - This is a human\n",
      "10 - This is a human\n",
      "11 - This is a human\n",
      "12 - This is a human\n",
      "[1] \"This is not a human\"\n",
      "14 - This is a human\n",
      "15 - This is a human\n",
      "16 - This is a human\n",
      "17 - This is a human\n",
      "18 - This is a human\n",
      "[1] \"This is not a human\"\n",
      "[1] \"This is not a human\"\n",
      "Total non-humans among the first 20 characters: 5 \n"
     ]
    }
   ],
   "source": [
    "# Initialize loop counters\n",
    "i <- 1\n",
    "char_count <- 0\n",
    "non_human_count <- 0\n",
    "\n",
    "# While loop for first 20 characters\n",
    "while (char_count < 20) {\n",
    "  if (characters$species[i] == \"Human\") {\n",
    "    cat(char_count + 1, \"- This is a human\\n\")\n",
    "  } else {\n",
    "    print(\"This is not a human\")\n",
    "    non_human_count <- non_human_count + 1\n",
    "  }\n",
    "  \n",
    "  i <- i + 1\n",
    "  char_count <- char_count + 1\n",
    "}\n",
    "\n",
    "# Print total non-human count\n",
    "cat(\"Total non-humans among the first 20 characters:\", non_human_count, \"\\n\")"
   ]
  },
  {
   "cell_type": "code",
   "execution_count": 15,
   "id": "fe11985a-9dd6-4026-85d8-02698240e9aa",
   "metadata": {},
   "outputs": [
    {
     "data": {
      "text/html": [
       "5"
      ],
      "text/latex": [
       "5"
      ],
      "text/markdown": [
       "5"
      ],
      "text/plain": [
       "[1] 5"
      ]
     },
     "metadata": {},
     "output_type": "display_data"
    }
   ],
   "source": [
    "# Take the first 20 species values\n",
    "first20_species <- characters$species[1:20]\n",
    "\n",
    "# Count non-humans\n",
    "non_humans_vectorized <- sum(first20_species != \"Human\")\n",
    "non_humans_vectorized"
   ]
  },
  {
   "cell_type": "code",
   "execution_count": 16,
   "id": "78f3c91b-9483-407f-8632-9e6561d4b5fb",
   "metadata": {},
   "outputs": [
    {
     "name": "stdout",
     "output_type": "stream",
     "text": [
      "0 + 1 = 1 \n",
      "1 + 4 = 5 \n",
      "5 + 5 = 10 \n",
      "10 + 2 = 12 \n",
      "12 + 8 = 20 \n",
      "20 + 4 = 24 \n",
      "24 + 6 = 30 \n",
      "30 + 3 = 33 \n",
      "33 + 9 = 42 \n",
      "[1] \"You win!!!!!!\"\n"
     ]
    }
   ],
   "source": [
    "# Define vector\n",
    "my_vec <- c(1, 4, 5, 2, 8, 4, 6, 3, 9, 3, 2, 2, 4, 1)\n",
    "\n",
    "# Initialize counters\n",
    "i <- 1\n",
    "total_count <- 0\n",
    "\n",
    "# Repeat loop\n",
    "repeat {\n",
    "  my_score <- my_vec[i]\n",
    "  cat(total_count, \"+\", my_score, \"= \")\n",
    "  total_count <- total_count + my_score\n",
    "  cat(total_count, \"\\n\")\n",
    "  \n",
    "  if (total_count > 40) {\n",
    "    print(\"You win!!!!!!\")\n",
    "    break\n",
    "  }\n",
    "  \n",
    "  i <- i + 1\n",
    "}"
   ]
  },
  {
   "cell_type": "code",
   "execution_count": 17,
   "id": "89896999-e21a-40fb-af60-840f98cacb9e",
   "metadata": {},
   "outputs": [
    {
     "name": "stdout",
     "output_type": "stream",
     "text": [
      "Mental health of student 1 is 6 \n",
      "Current total mental health score is 0 \n",
      "\n",
      "Mental health of student 2 is 8 \n",
      "Current total mental health score is 6 \n",
      "\n",
      "Mental health of student 3 is 5 \n",
      "Current total mental health score is 14 \n",
      "\n",
      "Mental health of student 4 is 7 \n",
      "Current total mental health score is 19 \n",
      "\n",
      "Mental health of student 5 is 6 \n",
      "Current total mental health score is 26 \n",
      "\n",
      "Mental health of student 6 is 4 \n",
      "Current total mental health score is 32 \n",
      "\n",
      "Mental health of student 7 is 9 \n",
      "Current total mental health score is 36 \n",
      "\n",
      "Mental health of student 8 is 6 \n",
      "Current total mental health score is 45 \n",
      "\n",
      "Mental health of student 9 is 7 \n",
      "Current total mental health score is 51 \n",
      "\n",
      "Mental health of student 10 is 7 \n",
      "Current total mental health score is 58 \n",
      "\n",
      "Mental health of student 11 is 5 \n",
      "Current total mental health score is 65 \n",
      "\n",
      "Mental health of student 12 is 6 \n",
      "Current total mental health score is 70 \n",
      "\n",
      "Mental health of student 13 is 8 \n",
      "Current total mental health score is 76 \n",
      "\n",
      "Mental health of student 14 is 5 \n",
      "Current total mental health score is 84 \n",
      "\n",
      "Mental health of student 15 is 7 \n",
      "Current total mental health score is 89 \n",
      "\n",
      "Mental health of student 16 is 6 \n",
      "Current total mental health score is 96 \n",
      "\n",
      "[1] \"ALLL DONEEEEE\"\n"
     ]
    }
   ],
   "source": [
    "# Read Social Media dataset (if not already loaded)\n",
    "myDF <- read.csv(\"/anvil/projects/tdm/data/social_media_addiction/social_media.csv\")\n",
    "\n",
    "# Initialize counters\n",
    "i <- 1\n",
    "total_count <- 0\n",
    "\n",
    "# Repeat loop: add up mental health scores until total >= 100\n",
    "repeat {\n",
    "  student_score <- myDF$Mental_Health_Score[i]\n",
    "  cat(\"Mental health of student\", i, \"is\", student_score, \"\\n\")\n",
    "  cat(\"Current total mental health score is\", total_count, \"\\n\\n\")\n",
    "  \n",
    "  total_count <- total_count + student_score\n",
    "  \n",
    "  if (total_count >= 100) {\n",
    "    print(\"ALLL DONEEEEE\")\n",
    "    break\n",
    "  }\n",
    "  \n",
    "  i <- i + 1\n",
    "}"
   ]
  },
  {
   "cell_type": "code",
   "execution_count": 18,
   "id": "67ccb036-fa7e-4eb8-a297-0565b1e184bb",
   "metadata": {},
   "outputs": [
    {
     "name": "stdout",
     "output_type": "stream",
     "text": [
      "Mental health of student 1 is 6 \n",
      "Current total mental health score is 0 \n",
      "\n",
      "Mental health of student 2 is 8 \n",
      "Current total mental health score is 6 \n",
      "\n",
      "Mental health of student 3 is 5 \n",
      "Current total mental health score is 14 \n",
      "\n",
      "Mental health of student 4 is 7 \n",
      "Current total mental health score is 19 \n",
      "\n",
      "Mental health of student 5 is 6 \n",
      "Current total mental health score is 26 \n",
      "\n",
      "Mental health of student 6 is 4 \n",
      "Current total mental health score is 32 \n",
      "\n",
      "Mental health of student 7 is 9 \n",
      "Current total mental health score is 36 \n",
      "\n",
      "Mental health of student 8 is 6 \n",
      "Current total mental health score is 45 \n",
      "\n",
      "Mental health of student 9 is 7 \n",
      "Current total mental health score is 51 \n",
      "\n",
      "Mental health of student 10 is 7 \n",
      "Current total mental health score is 58 \n",
      "\n",
      "Mental health of student 11 is 5 \n",
      "Current total mental health score is 65 \n",
      "\n",
      "Mental health of student 12 is 6 \n",
      "Current total mental health score is 70 \n",
      "\n",
      "Mental health of student 13 is 8 \n",
      "Current total mental health score is 76 \n",
      "\n",
      "Mental health of student 14 is 5 \n",
      "Current total mental health score is 84 \n",
      "\n",
      "Mental health of student 15 is 7 \n",
      "Current total mental health score is 89 \n",
      "\n",
      "Mental health of student 16 is 6 \n",
      "Current total mental health score is 96 \n",
      "\n",
      "[1] \"ALLL DONEEEEE\"\n"
     ]
    }
   ],
   "source": [
    "# Read Social Media dataset (if not already loaded)\n",
    "myDF <- read.csv(\"/anvil/projects/tdm/data/social_media_addiction/social_media.csv\")\n",
    "\n",
    "# Initialize counters\n",
    "i <- 1\n",
    "total_count <- 0\n",
    "\n",
    "# Repeat loop: add up mental health scores until total >= 100\n",
    "repeat {\n",
    "  student_score <- myDF$Mental_Health_Score[i]\n",
    "  cat(\"Mental health of student\", i, \"is\", student_score, \"\\n\")\n",
    "  cat(\"Current total mental health score is\", total_count, \"\\n\\n\")\n",
    "  \n",
    "  total_count <- total_count + student_score\n",
    "  \n",
    "  if (total_count >= 100) {\n",
    "    print(\"ALLL DONEEEEE\")\n",
    "    break\n",
    "  }\n",
    "  \n",
    "  i <- i + 1\n",
    "}"
   ]
  },
  {
   "cell_type": "code",
   "execution_count": null,
   "id": "32f26c98-1c8f-4911-aa3a-d69012fa6e12",
   "metadata": {},
   "outputs": [],
   "source": [
    "# While loop: Checks the condition at the beginning of each iteration. If FALSE, the loop never runs.\n",
    "# Repeat loop: Has no initial condition - always runs at least once."
   ]
  },
  {
   "cell_type": "code",
   "execution_count": null,
   "id": "d1ac6e4c-1e5b-456b-8d08-c9459bab83cb",
   "metadata": {},
   "outputs": [],
   "source": []
  }
 ],
 "metadata": {
  "kernelspec": {
   "display_name": "R",
   "language": "R",
   "name": "ir"
  },
  "language_info": {
   "codemirror_mode": "r",
   "file_extension": ".r",
   "mimetype": "text/x-r-source",
   "name": "R",
   "pygments_lexer": "r",
   "version": "4.3.3"
  }
 },
 "nbformat": 4,
 "nbformat_minor": 5
}
