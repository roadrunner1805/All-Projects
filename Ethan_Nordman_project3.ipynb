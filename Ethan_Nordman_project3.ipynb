{
 "cells": [
  {
   "cell_type": "code",
   "execution_count": 2,
   "id": "50f8b11d-aa28-4edf-97d9-06607c11ace9",
   "metadata": {},
   "outputs": [],
   "source": [
    "library(data.table)\n",
    "myDF <- fread(\"/anvil/projects/tdm/data/election/itcont1980.txt\", quote=\"\")\n",
    "names(myDF) <- c(\"CMTE_ID\", \"AMNDT_IND\", \"RPT_TP\", \"TRANSACTION_PGI\", \"IMAGE_NUM\", \"TRANSACTION_TP\", \"ENTITY_TP\", \"NAME\", \"CITY\", \"STATE\", \"ZIP_CODE\", \"EMPLOYER\", \"OCCUPATION\", \"TRANSACTION_DT\", \"TRANSACTION_AMT\", \"OTHER_ID\", \"TRAN_ID\", \"FILE_NUM\", \"MEMO_CD\", \"MEMO_TEXT\", \"SUB_ID\")"
   ]
  },
  {
   "cell_type": "code",
   "execution_count": 4,
   "id": "f9d87e0d-4c1d-4ce0-8b76-e277ba2cdfac",
   "metadata": {},
   "outputs": [
    {
     "data": {
      "text/html": [
       "<style>\n",
       ".dl-inline {width: auto; margin:0; padding: 0}\n",
       ".dl-inline>dt, .dl-inline>dd {float: none; width: auto; display: inline-block}\n",
       ".dl-inline>dt::after {content: \":\\0020\"; padding-right: .5ex}\n",
       ".dl-inline>dt:not(:first-of-type) {padding-left: .5ex}\n",
       "</style><dl class=dl-inline><dt>1</dt><dd>17916669</dd><dt>01</dt><dd>1550</dd><dt>AK</dt><dd>531485</dd><dt>AL</dt><dd>2596149</dd><dt>AR</dt><dd>954867</dd><dt>AS</dt><dd>1500</dd><dt>AZ</dt><dd>2178217</dd><dt>BE</dt><dd>750</dd><dt>CA</dt><dd>24085171</dd><dt>CO</dt><dd>2708667</dd><dt>CT</dt><dd>5328197</dd><dt>CZ</dt><dd>950</dd><dt>DC</dt><dd>5689543</dd><dt>DE</dt><dd>595008</dd><dt>EL</dt><dd>1000</dd><dt>FL</dt><dd>10514203</dd><dt>GA</dt><dd>4201705</dd><dt>GU</dt><dd>29835</dd><dt>HI</dt><dd>610401</dd><dt>IA</dt><dd>1279935</dd><dt>ID</dt><dd>543468</dd><dt>IL</dt><dd>9105545</dd><dt>IN</dt><dd>2518579</dd><dt>KS</dt><dd>2230356</dd><dt>KY</dt><dd>1536043</dd><dt>LA</dt><dd>4394374</dd><dt>MA</dt><dd>4233203</dd><dt>MD</dt><dd>2660154</dd><dt>ME</dt><dd>311825</dd><dt>MI</dt><dd>4585088</dd><dt>MN</dt><dd>2454049</dd><dt>MO</dt><dd>3211817</dd><dt>MS</dt><dd>1147941</dd><dt>MT</dt><dd>288802</dd><dt>NC</dt><dd>1644856</dd><dt>ND</dt><dd>119115</dd><dt>NE</dt><dd>508252</dd><dt>NH</dt><dd>861868</dd><dt>NJ</dt><dd>4489040</dd><dt>NM</dt><dd>668358</dd><dt>NV</dt><dd>1490702</dd><dt>NY</dt><dd>18673301</dd><dt>OH</dt><dd>7237330</dd><dt>OK</dt><dd>5047135</dd><dt>OR</dt><dd>1093271</dd><dt>PA</dt><dd>5705339</dd><dt>PR</dt><dd>385311</dd><dt>RI</dt><dd>495636</dd><dt>SC</dt><dd>1371766</dd><dt>SD</dt><dd>295014</dd><dt>TN</dt><dd>3043735</dd><dt>TU</dt><dd>250</dd><dt>TX</dt><dd>24472610</dd><dt>UT</dt><dd>681255</dd><dt>VA</dt><dd>2830422</dd><dt>VI</dt><dd>75350</dd><dt>VT</dt><dd>207943</dd><dt>WA</dt><dd>1872939</dd><dt>WI</dt><dd>1342009</dd><dt>WV</dt><dd>414924</dd><dt>WY</dt><dd>504073</dd><dt>ZZ</dt><dd>302079</dd></dl>\n"
      ],
      "text/latex": [
       "\\begin{description*}\n",
       "\\item[1] 17916669\n",
       "\\item[01] 1550\n",
       "\\item[AK] 531485\n",
       "\\item[AL] 2596149\n",
       "\\item[AR] 954867\n",
       "\\item[AS] 1500\n",
       "\\item[AZ] 2178217\n",
       "\\item[BE] 750\n",
       "\\item[CA] 24085171\n",
       "\\item[CO] 2708667\n",
       "\\item[CT] 5328197\n",
       "\\item[CZ] 950\n",
       "\\item[DC] 5689543\n",
       "\\item[DE] 595008\n",
       "\\item[EL] 1000\n",
       "\\item[FL] 10514203\n",
       "\\item[GA] 4201705\n",
       "\\item[GU] 29835\n",
       "\\item[HI] 610401\n",
       "\\item[IA] 1279935\n",
       "\\item[ID] 543468\n",
       "\\item[IL] 9105545\n",
       "\\item[IN] 2518579\n",
       "\\item[KS] 2230356\n",
       "\\item[KY] 1536043\n",
       "\\item[LA] 4394374\n",
       "\\item[MA] 4233203\n",
       "\\item[MD] 2660154\n",
       "\\item[ME] 311825\n",
       "\\item[MI] 4585088\n",
       "\\item[MN] 2454049\n",
       "\\item[MO] 3211817\n",
       "\\item[MS] 1147941\n",
       "\\item[MT] 288802\n",
       "\\item[NC] 1644856\n",
       "\\item[ND] 119115\n",
       "\\item[NE] 508252\n",
       "\\item[NH] 861868\n",
       "\\item[NJ] 4489040\n",
       "\\item[NM] 668358\n",
       "\\item[NV] 1490702\n",
       "\\item[NY] 18673301\n",
       "\\item[OH] 7237330\n",
       "\\item[OK] 5047135\n",
       "\\item[OR] 1093271\n",
       "\\item[PA] 5705339\n",
       "\\item[PR] 385311\n",
       "\\item[RI] 495636\n",
       "\\item[SC] 1371766\n",
       "\\item[SD] 295014\n",
       "\\item[TN] 3043735\n",
       "\\item[TU] 250\n",
       "\\item[TX] 24472610\n",
       "\\item[UT] 681255\n",
       "\\item[VA] 2830422\n",
       "\\item[VI] 75350\n",
       "\\item[VT] 207943\n",
       "\\item[WA] 1872939\n",
       "\\item[WI] 1342009\n",
       "\\item[WV] 414924\n",
       "\\item[WY] 504073\n",
       "\\item[ZZ] 302079\n",
       "\\end{description*}\n"
      ],
      "text/markdown": [
       "1\n",
       ":   1791666901\n",
       ":   1550AK\n",
       ":   531485AL\n",
       ":   2596149AR\n",
       ":   954867AS\n",
       ":   1500AZ\n",
       ":   2178217BE\n",
       ":   750CA\n",
       ":   24085171CO\n",
       ":   2708667CT\n",
       ":   5328197CZ\n",
       ":   950DC\n",
       ":   5689543DE\n",
       ":   595008EL\n",
       ":   1000FL\n",
       ":   10514203GA\n",
       ":   4201705GU\n",
       ":   29835HI\n",
       ":   610401IA\n",
       ":   1279935ID\n",
       ":   543468IL\n",
       ":   9105545IN\n",
       ":   2518579KS\n",
       ":   2230356KY\n",
       ":   1536043LA\n",
       ":   4394374MA\n",
       ":   4233203MD\n",
       ":   2660154ME\n",
       ":   311825MI\n",
       ":   4585088MN\n",
       ":   2454049MO\n",
       ":   3211817MS\n",
       ":   1147941MT\n",
       ":   288802NC\n",
       ":   1644856ND\n",
       ":   119115NE\n",
       ":   508252NH\n",
       ":   861868NJ\n",
       ":   4489040NM\n",
       ":   668358NV\n",
       ":   1490702NY\n",
       ":   18673301OH\n",
       ":   7237330OK\n",
       ":   5047135OR\n",
       ":   1093271PA\n",
       ":   5705339PR\n",
       ":   385311RI\n",
       ":   495636SC\n",
       ":   1371766SD\n",
       ":   295014TN\n",
       ":   3043735TU\n",
       ":   250TX\n",
       ":   24472610UT\n",
       ":   681255VA\n",
       ":   2830422VI\n",
       ":   75350VT\n",
       ":   207943WA\n",
       ":   1872939WI\n",
       ":   1342009WV\n",
       ":   414924WY\n",
       ":   504073ZZ\n",
       ":   302079\n",
       "\n"
      ],
      "text/plain": [
       "               01       AK       AL       AR       AS       AZ       BE \n",
       "17916669     1550   531485  2596149   954867     1500  2178217      750 \n",
       "      CA       CO       CT       CZ       DC       DE       EL       FL \n",
       "24085171  2708667  5328197      950  5689543   595008     1000 10514203 \n",
       "      GA       GU       HI       IA       ID       IL       IN       KS \n",
       " 4201705    29835   610401  1279935   543468  9105545  2518579  2230356 \n",
       "      KY       LA       MA       MD       ME       MI       MN       MO \n",
       " 1536043  4394374  4233203  2660154   311825  4585088  2454049  3211817 \n",
       "      MS       MT       NC       ND       NE       NH       NJ       NM \n",
       " 1147941   288802  1644856   119115   508252   861868  4489040   668358 \n",
       "      NV       NY       OH       OK       OR       PA       PR       RI \n",
       " 1490702 18673301  7237330  5047135  1093271  5705339   385311   495636 \n",
       "      SC       SD       TN       TU       TX       UT       VA       VI \n",
       " 1371766   295014  3043735      250 24472610   681255  2830422    75350 \n",
       "      VT       WA       WI       WV       WY       ZZ \n",
       "  207943  1872939  1342009   414924   504073   302079 "
      ]
     },
     "metadata": {},
     "output_type": "display_data"
    }
   ],
   "source": [
    "tapply(myDF$TRANSACTION_AMT, myDF$STATE, sum)"
   ]
  },
  {
   "cell_type": "code",
   "execution_count": 6,
   "id": "13b654e1-f5ce-48ec-a97d-708a90326bd2",
   "metadata": {},
   "outputs": [],
   "source": [
    "video_games <- read.csv(\"/anvil/projects/tdm/data/grouping/vgchartz-2024.csv\")"
   ]
  },
  {
   "cell_type": "code",
   "execution_count": 7,
   "id": "fa528e6e-47ff-487a-a809-a11ed368d745",
   "metadata": {},
   "outputs": [],
   "source": [
    "# Average Critic Score by Genre\n",
    "avg_critic <- tapply(video_games$critic_score, video_games$genre, mean, na.rm = TRUE)"
   ]
  },
  {
   "cell_type": "code",
   "execution_count": 8,
   "id": "d7867762-253a-4d89-8d29-6dbb7e2e484d",
   "metadata": {},
   "outputs": [
    {
     "data": {
      "text/html": [
       "<style>\n",
       ".dl-inline {width: auto; margin:0; padding: 0}\n",
       ".dl-inline>dt, .dl-inline>dd {float: none; width: auto; display: inline-block}\n",
       ".dl-inline>dt::after {content: \":\\0020\"; padding-right: .5ex}\n",
       ".dl-inline>dt:not(:first-of-type) {padding-left: .5ex}\n",
       "</style><dl class=dl-inline><dt>Action</dt><dd>6.83100775193798</dd><dt>Action-Adventure</dt><dd>7.67837837837838</dd><dt>Adventure</dt><dd>7.34105793450882</dd><dt>Board Game</dt><dd>5.3</dd><dt>Education</dt><dd>7.75</dd><dt>Fighting</dt><dd>7.39242424242424</dd><dt>MMO</dt><dd>7.78181818181818</dd><dt>Misc</dt><dd>6.88459302325581</dd><dt>Music</dt><dd>7.99259259259259</dd><dt>Party</dt><dd>5.96875</dd><dt>Platform</dt><dd>7.30763765541741</dd><dt>Puzzle</dt><dd>7.20104895104895</dd><dt>Racing</dt><dd>7.18752436647173</dd><dt>Role-Playing</dt><dd>7.47091954022989</dd><dt>Sandbox</dt><dd>9.2</dd><dt>Shooter</dt><dd>7.2768</dd><dt>Simulation</dt><dd>6.91471861471861</dd><dt>Sports</dt><dd>7.29102749638206</dd><dt>Strategy</dt><dd>7.43173333333333</dd><dt>Visual Novel</dt><dd>8.5</dd></dl>\n"
      ],
      "text/latex": [
       "\\begin{description*}\n",
       "\\item[Action] 6.83100775193798\n",
       "\\item[Action-Adventure] 7.67837837837838\n",
       "\\item[Adventure] 7.34105793450882\n",
       "\\item[Board Game] 5.3\n",
       "\\item[Education] 7.75\n",
       "\\item[Fighting] 7.39242424242424\n",
       "\\item[MMO] 7.78181818181818\n",
       "\\item[Misc] 6.88459302325581\n",
       "\\item[Music] 7.99259259259259\n",
       "\\item[Party] 5.96875\n",
       "\\item[Platform] 7.30763765541741\n",
       "\\item[Puzzle] 7.20104895104895\n",
       "\\item[Racing] 7.18752436647173\n",
       "\\item[Role-Playing] 7.47091954022989\n",
       "\\item[Sandbox] 9.2\n",
       "\\item[Shooter] 7.2768\n",
       "\\item[Simulation] 6.91471861471861\n",
       "\\item[Sports] 7.29102749638206\n",
       "\\item[Strategy] 7.43173333333333\n",
       "\\item[Visual Novel] 8.5\n",
       "\\end{description*}\n"
      ],
      "text/markdown": [
       "Action\n",
       ":   6.83100775193798Action-Adventure\n",
       ":   7.67837837837838Adventure\n",
       ":   7.34105793450882Board Game\n",
       ":   5.3Education\n",
       ":   7.75Fighting\n",
       ":   7.39242424242424MMO\n",
       ":   7.78181818181818Misc\n",
       ":   6.88459302325581Music\n",
       ":   7.99259259259259Party\n",
       ":   5.96875Platform\n",
       ":   7.30763765541741Puzzle\n",
       ":   7.20104895104895Racing\n",
       ":   7.18752436647173Role-Playing\n",
       ":   7.47091954022989Sandbox\n",
       ":   9.2Shooter\n",
       ":   7.2768Simulation\n",
       ":   6.91471861471861Sports\n",
       ":   7.29102749638206Strategy\n",
       ":   7.43173333333333Visual Novel\n",
       ":   8.5\n",
       "\n"
      ],
      "text/plain": [
       "          Action Action-Adventure        Adventure       Board Game \n",
       "        6.831008         7.678378         7.341058         5.300000 \n",
       "       Education         Fighting              MMO             Misc \n",
       "        7.750000         7.392424         7.781818         6.884593 \n",
       "           Music            Party         Platform           Puzzle \n",
       "        7.992593         5.968750         7.307638         7.201049 \n",
       "          Racing     Role-Playing          Sandbox          Shooter \n",
       "        7.187524         7.470920         9.200000         7.276800 \n",
       "      Simulation           Sports         Strategy     Visual Novel \n",
       "        6.914719         7.291027         7.431733         8.500000 "
      ]
     },
     "metadata": {},
     "output_type": "display_data"
    }
   ],
   "source": [
    "# View all genres with their average critic scores\n",
    "avg_critic"
   ]
  },
  {
   "cell_type": "code",
   "execution_count": 9,
   "id": "9b9350d5-9c1e-4c0b-8cd1-38aff3924704",
   "metadata": {},
   "outputs": [
    {
     "data": {
      "text/html": [
       "<strong>Sandbox:</strong> 9.2"
      ],
      "text/latex": [
       "\\textbf{Sandbox:} 9.2"
      ],
      "text/markdown": [
       "**Sandbox:** 9.2"
      ],
      "text/plain": [
       "Sandbox \n",
       "    9.2 "
      ]
     },
     "metadata": {},
     "output_type": "display_data"
    }
   ],
   "source": [
    "# What genre has the highest score \n",
    "highest_avg_critic <- avg_critic[which.max(avg_critic)]\n",
    "highest_avg_critic"
   ]
  },
  {
   "cell_type": "code",
   "execution_count": null,
   "id": "c9bbf38a-bbcf-4879-b31d-fed570405d7b",
   "metadata": {},
   "outputs": [],
   "source": [
    "# The video game genre that had the highest average critic score is sandbox"
   ]
  },
  {
   "cell_type": "code",
   "execution_count": 10,
   "id": "9572e5f1-2596-4842-afa1-889e3b47a076",
   "metadata": {},
   "outputs": [],
   "source": [
    "# Find the sum of total sales by console\n",
    "sales_by_console <- tapply(video_games$total_sales, video_games$console, sum, na.rm = TRUE)"
   ]
  },
  {
   "cell_type": "code",
   "execution_count": 11,
   "id": "41bc8d5f-1da3-4258-80b9-bbd25f52b7cd",
   "metadata": {},
   "outputs": [],
   "source": [
    "# Sort the results in decreasing order\n",
    "sales_sorted <- sort(sales_by_console, decreasing = TRUE)"
   ]
  },
  {
   "cell_type": "code",
   "execution_count": 12,
   "id": "8842661c-b64b-4ca0-bb54-6346c6183ccf",
   "metadata": {},
   "outputs": [
    {
     "data": {
      "text/html": [
       "<strong>PS2:</strong> 1027.76"
      ],
      "text/latex": [
       "\\textbf{PS2:} 1027.76"
      ],
      "text/markdown": [
       "**PS2:** 1027.76"
      ],
      "text/plain": [
       "    PS2 \n",
       "1027.76 "
      ]
     },
     "metadata": {},
     "output_type": "display_data"
    }
   ],
   "source": [
    "sales_sorted[1]"
   ]
  },
  {
   "cell_type": "code",
   "execution_count": null,
   "id": "362ccb74-eb96-4019-82e9-18f2eed30277",
   "metadata": {},
   "outputs": [],
   "source": [
    "# The PS2 has the highest number of total sales among consoles"
   ]
  },
  {
   "cell_type": "code",
   "execution_count": null,
   "id": "b60a2ca7-c3ec-40af-8943-252b81a446ad",
   "metadata": {},
   "outputs": [],
   "source": [
    "# The tapply function applies a calculation to parts of a dataset that are split into different groups. It can find the average critic score for each video game genre or the total sales for each console. This function makes grouping data fast and keeps the code shorter"
   ]
  },
  {
   "cell_type": "code",
   "execution_count": 14,
   "id": "b1f3ba3c-35bd-48c3-b738-82aac63054b7",
   "metadata": {
    "scrolled": true
   },
   "outputs": [
    {
     "name": "stderr",
     "output_type": "stream",
     "text": [
      "\n",
      "Attaching package: 'dplyr'\n",
      "\n",
      "\n",
      "The following objects are masked from 'package:data.table':\n",
      "\n",
      "    between, first, last\n",
      "\n",
      "\n",
      "The following objects are masked from 'package:stats':\n",
      "\n",
      "    filter, lag\n",
      "\n",
      "\n",
      "The following objects are masked from 'package:base':\n",
      "\n",
      "    intersect, setdiff, setequal, union\n",
      "\n",
      "\n"
     ]
    }
   ],
   "source": [
    "library(dplyr)\n",
    "avg_scores <- video_games %>%\n",
    "group_by(genre) %>%\n",
    "summarize(avg_critic_score = mean(critic_score, na.rm =TRUE)) %>%\n",
    "arrange(desc(avg_critic_score)) "
   ]
  },
  {
   "cell_type": "code",
   "execution_count": 16,
   "id": "d971d11c-758c-48e5-b1c4-fc2b1766c970",
   "metadata": {
    "scrolled": true
   },
   "outputs": [
    {
     "data": {
      "text/html": [
       "<table class=\"dataframe\">\n",
       "<caption>A tibble: 20 x 3</caption>\n",
       "<thead>\n",
       "\t<tr><th scope=col>genre</th><th scope=col>avg_critic_score</th><th scope=col>num_games</th></tr>\n",
       "\t<tr><th scope=col>&lt;chr&gt;</th><th scope=col>&lt;dbl&gt;</th><th scope=col>&lt;int&gt;</th></tr>\n",
       "</thead>\n",
       "<tbody>\n",
       "\t<tr><td>Sandbox         </td><td>9.200000</td><td>  20</td></tr>\n",
       "\t<tr><td>Visual Novel    </td><td>8.500000</td><td> 493</td></tr>\n",
       "\t<tr><td>Music           </td><td>7.992593</td><td> 297</td></tr>\n",
       "\t<tr><td>MMO             </td><td>7.781818</td><td> 115</td></tr>\n",
       "\t<tr><td>Education       </td><td>7.750000</td><td>  35</td></tr>\n",
       "\t<tr><td>Action-Adventure</td><td>7.678378</td><td>1877</td></tr>\n",
       "\t<tr><td>Role-Playing    </td><td>7.470920</td><td>5721</td></tr>\n",
       "\t<tr><td>Strategy        </td><td>7.431733</td><td>3685</td></tr>\n",
       "\t<tr><td>Fighting        </td><td>7.392424</td><td>2367</td></tr>\n",
       "\t<tr><td>Adventure       </td><td>7.341058</td><td>6260</td></tr>\n",
       "\t<tr><td>Platform        </td><td>7.307638</td><td>4001</td></tr>\n",
       "\t<tr><td>Sports          </td><td>7.291027</td><td>5586</td></tr>\n",
       "\t<tr><td>Shooter         </td><td>7.276800</td><td>5410</td></tr>\n",
       "\t<tr><td>Puzzle          </td><td>7.201049</td><td>3521</td></tr>\n",
       "\t<tr><td>Racing          </td><td>7.187524</td><td>3425</td></tr>\n",
       "\t<tr><td>Simulation      </td><td>6.914719</td><td>3158</td></tr>\n",
       "\t<tr><td>Misc            </td><td>6.884593</td><td>9304</td></tr>\n",
       "\t<tr><td>Action          </td><td>6.831008</td><td>8557</td></tr>\n",
       "\t<tr><td>Party           </td><td>5.968750</td><td> 151</td></tr>\n",
       "\t<tr><td>Board Game      </td><td>5.300000</td><td>  33</td></tr>\n",
       "</tbody>\n",
       "</table>\n"
      ],
      "text/latex": [
       "A tibble: 20 x 3\n",
       "\\begin{tabular}{lll}\n",
       " genre & avg\\_critic\\_score & num\\_games\\\\\n",
       " <chr> & <dbl> & <int>\\\\\n",
       "\\hline\n",
       "\t Sandbox          & 9.200000 &   20\\\\\n",
       "\t Visual Novel     & 8.500000 &  493\\\\\n",
       "\t Music            & 7.992593 &  297\\\\\n",
       "\t MMO              & 7.781818 &  115\\\\\n",
       "\t Education        & 7.750000 &   35\\\\\n",
       "\t Action-Adventure & 7.678378 & 1877\\\\\n",
       "\t Role-Playing     & 7.470920 & 5721\\\\\n",
       "\t Strategy         & 7.431733 & 3685\\\\\n",
       "\t Fighting         & 7.392424 & 2367\\\\\n",
       "\t Adventure        & 7.341058 & 6260\\\\\n",
       "\t Platform         & 7.307638 & 4001\\\\\n",
       "\t Sports           & 7.291027 & 5586\\\\\n",
       "\t Shooter          & 7.276800 & 5410\\\\\n",
       "\t Puzzle           & 7.201049 & 3521\\\\\n",
       "\t Racing           & 7.187524 & 3425\\\\\n",
       "\t Simulation       & 6.914719 & 3158\\\\\n",
       "\t Misc             & 6.884593 & 9304\\\\\n",
       "\t Action           & 6.831008 & 8557\\\\\n",
       "\t Party            & 5.968750 &  151\\\\\n",
       "\t Board Game       & 5.300000 &   33\\\\\n",
       "\\end{tabular}\n"
      ],
      "text/markdown": [
       "\n",
       "A tibble: 20 x 3\n",
       "\n",
       "| genre &lt;chr&gt; | avg_critic_score &lt;dbl&gt; | num_games &lt;int&gt; |\n",
       "|---|---|---|\n",
       "| Sandbox          | 9.200000 |   20 |\n",
       "| Visual Novel     | 8.500000 |  493 |\n",
       "| Music            | 7.992593 |  297 |\n",
       "| MMO              | 7.781818 |  115 |\n",
       "| Education        | 7.750000 |   35 |\n",
       "| Action-Adventure | 7.678378 | 1877 |\n",
       "| Role-Playing     | 7.470920 | 5721 |\n",
       "| Strategy         | 7.431733 | 3685 |\n",
       "| Fighting         | 7.392424 | 2367 |\n",
       "| Adventure        | 7.341058 | 6260 |\n",
       "| Platform         | 7.307638 | 4001 |\n",
       "| Sports           | 7.291027 | 5586 |\n",
       "| Shooter          | 7.276800 | 5410 |\n",
       "| Puzzle           | 7.201049 | 3521 |\n",
       "| Racing           | 7.187524 | 3425 |\n",
       "| Simulation       | 6.914719 | 3158 |\n",
       "| Misc             | 6.884593 | 9304 |\n",
       "| Action           | 6.831008 | 8557 |\n",
       "| Party            | 5.968750 |  151 |\n",
       "| Board Game       | 5.300000 |   33 |\n",
       "\n"
      ],
      "text/plain": [
       "   genre            avg_critic_score num_games\n",
       "1  Sandbox          9.200000           20     \n",
       "2  Visual Novel     8.500000          493     \n",
       "3  Music            7.992593          297     \n",
       "4  MMO              7.781818          115     \n",
       "5  Education        7.750000           35     \n",
       "6  Action-Adventure 7.678378         1877     \n",
       "7  Role-Playing     7.470920         5721     \n",
       "8  Strategy         7.431733         3685     \n",
       "9  Fighting         7.392424         2367     \n",
       "10 Adventure        7.341058         6260     \n",
       "11 Platform         7.307638         4001     \n",
       "12 Sports           7.291027         5586     \n",
       "13 Shooter          7.276800         5410     \n",
       "14 Puzzle           7.201049         3521     \n",
       "15 Racing           7.187524         3425     \n",
       "16 Simulation       6.914719         3158     \n",
       "17 Misc             6.884593         9304     \n",
       "18 Action           6.831008         8557     \n",
       "19 Party            5.968750          151     \n",
       "20 Board Game       5.300000           33     "
      ]
     },
     "metadata": {},
     "output_type": "display_data"
    }
   ],
   "source": [
    "library(dplyr)\n",
    "\n",
    "# calculate both average critic score and number of games per genre\n",
    "genre_summary <- video_games %>%\n",
    "group_by(genre) %>%\n",
    "summarize(\n",
    "    avg_critic_score = mean(critic_score, na.rm = TRUE),\n",
    "    num_games = n()\n",
    "    ) %>%\n",
    "arrange(desc(avg_critic_score))\n",
    "genre_summary"
   ]
  },
  {
   "cell_type": "code",
   "execution_count": null,
   "id": "b06da73b-6d4f-423d-977e-9ccb9792d521",
   "metadata": {},
   "outputs": [],
   "source": [
    "# I prefer to use dplyer because it is easier to read. The pipe %>% clearly shows each step of grouping, summarizing, and storing."
   ]
  },
  {
   "cell_type": "code",
   "execution_count": 17,
   "id": "d68e7bb5-fb1f-40bf-ac88-417676ade9af",
   "metadata": {
    "scrolled": true
   },
   "outputs": [
    {
     "data": {
      "text/html": [
       "<table class=\"dataframe\">\n",
       "<caption>A tibble: 20 x 2</caption>\n",
       "<thead>\n",
       "\t<tr><th scope=col>console</th><th scope=col>total_sales</th></tr>\n",
       "\t<tr><th scope=col>&lt;chr&gt;</th><th scope=col>&lt;dbl&gt;</th></tr>\n",
       "</thead>\n",
       "<tbody>\n",
       "\t<tr><td>PS2 </td><td>1027.76</td></tr>\n",
       "\t<tr><td>X360</td><td> 859.79</td></tr>\n",
       "\t<tr><td>PS3 </td><td> 839.70</td></tr>\n",
       "\t<tr><td>PS  </td><td> 546.25</td></tr>\n",
       "\t<tr><td>PS4 </td><td> 539.92</td></tr>\n",
       "\t<tr><td>Wii </td><td> 459.44</td></tr>\n",
       "\t<tr><td>DS  </td><td> 458.17</td></tr>\n",
       "\t<tr><td>XOne</td><td> 268.96</td></tr>\n",
       "\t<tr><td>PSP </td><td> 245.29</td></tr>\n",
       "\t<tr><td>XB  </td><td> 232.05</td></tr>\n",
       "\t<tr><td>GBA </td><td> 224.48</td></tr>\n",
       "\t<tr><td>PC  </td><td> 168.99</td></tr>\n",
       "\t<tr><td>GC  </td><td> 119.53</td></tr>\n",
       "\t<tr><td>3DS </td><td>  99.27</td></tr>\n",
       "\t<tr><td>N64 </td><td>  93.79</td></tr>\n",
       "\t<tr><td>2600</td><td>  75.66</td></tr>\n",
       "\t<tr><td>SNES</td><td>  65.71</td></tr>\n",
       "\t<tr><td>PSV </td><td>  63.02</td></tr>\n",
       "\t<tr><td>NES </td><td>  47.93</td></tr>\n",
       "\t<tr><td>NS  </td><td>  36.46</td></tr>\n",
       "</tbody>\n",
       "</table>\n"
      ],
      "text/latex": [
       "A tibble: 20 x 2\n",
       "\\begin{tabular}{ll}\n",
       " console & total\\_sales\\\\\n",
       " <chr> & <dbl>\\\\\n",
       "\\hline\n",
       "\t PS2  & 1027.76\\\\\n",
       "\t X360 &  859.79\\\\\n",
       "\t PS3  &  839.70\\\\\n",
       "\t PS   &  546.25\\\\\n",
       "\t PS4  &  539.92\\\\\n",
       "\t Wii  &  459.44\\\\\n",
       "\t DS   &  458.17\\\\\n",
       "\t XOne &  268.96\\\\\n",
       "\t PSP  &  245.29\\\\\n",
       "\t XB   &  232.05\\\\\n",
       "\t GBA  &  224.48\\\\\n",
       "\t PC   &  168.99\\\\\n",
       "\t GC   &  119.53\\\\\n",
       "\t 3DS  &   99.27\\\\\n",
       "\t N64  &   93.79\\\\\n",
       "\t 2600 &   75.66\\\\\n",
       "\t SNES &   65.71\\\\\n",
       "\t PSV  &   63.02\\\\\n",
       "\t NES  &   47.93\\\\\n",
       "\t NS   &   36.46\\\\\n",
       "\\end{tabular}\n"
      ],
      "text/markdown": [
       "\n",
       "A tibble: 20 x 2\n",
       "\n",
       "| console &lt;chr&gt; | total_sales &lt;dbl&gt; |\n",
       "|---|---|\n",
       "| PS2  | 1027.76 |\n",
       "| X360 |  859.79 |\n",
       "| PS3  |  839.70 |\n",
       "| PS   |  546.25 |\n",
       "| PS4  |  539.92 |\n",
       "| Wii  |  459.44 |\n",
       "| DS   |  458.17 |\n",
       "| XOne |  268.96 |\n",
       "| PSP  |  245.29 |\n",
       "| XB   |  232.05 |\n",
       "| GBA  |  224.48 |\n",
       "| PC   |  168.99 |\n",
       "| GC   |  119.53 |\n",
       "| 3DS  |   99.27 |\n",
       "| N64  |   93.79 |\n",
       "| 2600 |   75.66 |\n",
       "| SNES |   65.71 |\n",
       "| PSV  |   63.02 |\n",
       "| NES  |   47.93 |\n",
       "| NS   |   36.46 |\n",
       "\n"
      ],
      "text/plain": [
       "   console total_sales\n",
       "1  PS2     1027.76    \n",
       "2  X360     859.79    \n",
       "3  PS3      839.70    \n",
       "4  PS       546.25    \n",
       "5  PS4      539.92    \n",
       "6  Wii      459.44    \n",
       "7  DS       458.17    \n",
       "8  XOne     268.96    \n",
       "9  PSP      245.29    \n",
       "10 XB       232.05    \n",
       "11 GBA      224.48    \n",
       "12 PC       168.99    \n",
       "13 GC       119.53    \n",
       "14 3DS       99.27    \n",
       "15 N64       93.79    \n",
       "16 2600      75.66    \n",
       "17 SNES      65.71    \n",
       "18 PSV       63.02    \n",
       "19 NES       47.93    \n",
       "20 NS        36.46    "
      ]
     },
     "metadata": {},
     "output_type": "display_data"
    },
    {
     "data": {
      "text/html": [
       "'PS2'"
      ],
      "text/latex": [
       "'PS2'"
      ],
      "text/markdown": [
       "'PS2'"
      ],
      "text/plain": [
       "[1] \"PS2\""
      ]
     },
     "metadata": {},
     "output_type": "display_data"
    }
   ],
   "source": [
    "library(dplyr)\n",
    "# Group by console and sum of total sales\n",
    "console_sales <- video_games %>%\n",
    "group_by(console) %>%\n",
    "summarize(total_sales = sum(total_sales, na.rm = TRUE)) %>%\n",
    "arrange(desc(total_sales))\n",
    "\n",
    "# View the top 20 consoles\n",
    "head(console_sales, n=20)\n",
    "\n",
    "# Console with the most sales\n",
    "top_console <- console_sales$console[1]\n",
    "top_console"
   ]
  },
  {
   "cell_type": "code",
   "execution_count": 18,
   "id": "f7c42704-b60a-48f6-9091-10ef4ede6676",
   "metadata": {},
   "outputs": [
    {
     "data": {
      "text/html": [
       "<table class=\"dataframe\">\n",
       "<caption>A data.frame: 1 x 1</caption>\n",
       "<thead>\n",
       "\t<tr><th></th><th scope=col>total_titles</th></tr>\n",
       "\t<tr><th></th><th scope=col>&lt;int&gt;</th></tr>\n",
       "</thead>\n",
       "<tbody>\n",
       "\t<tr><th scope=row>1</th><td>64016</td></tr>\n",
       "</tbody>\n",
       "</table>\n"
      ],
      "text/latex": [
       "A data.frame: 1 x 1\n",
       "\\begin{tabular}{r|l}\n",
       "  & total\\_titles\\\\\n",
       "  & <int>\\\\\n",
       "\\hline\n",
       "\t1 & 64016\\\\\n",
       "\\end{tabular}\n"
      ],
      "text/markdown": [
       "\n",
       "A data.frame: 1 x 1\n",
       "\n",
       "| <!--/--> | total_titles &lt;int&gt; |\n",
       "|---|---|\n",
       "| 1 | 64016 |\n",
       "\n"
      ],
      "text/plain": [
       "  total_titles\n",
       "1 64016       "
      ]
     },
     "metadata": {},
     "output_type": "display_data"
    },
    {
     "data": {
      "text/plain": [
       "NULL"
      ]
     },
     "metadata": {},
     "output_type": "display_data"
    }
   ],
   "source": [
    "# Count number of games per genre\n",
    "genre_title_counts <- video_games %>%\n",
    "summarize(total_titles = n()) %>%\n",
    "arrange(total_titles)\n",
    "\n",
    "# View the genre with number of titles \n",
    "head(genre_title_counts, n = 1)\n",
    "\n",
    "# Save the genre with the least titles \n",
    "least_genre <- genre_title_counts$genre[1]\n",
    "least_genre"
   ]
  },
  {
   "cell_type": "code",
   "execution_count": 21,
   "id": "83088eee-5303-41dd-83cf-20bf2641b444",
   "metadata": {},
   "outputs": [
    {
     "name": "stderr",
     "output_type": "stream",
     "text": [
      "\u001b[1m\u001b[22m`summarise()` has grouped output by 'genre'. You can override using the\n",
      "`.groups` argument.\n"
     ]
    },
    {
     "data": {
      "text/html": [
       "<table class=\"dataframe\">\n",
       "<caption>A grouped_df: 20 x 3</caption>\n",
       "<thead>\n",
       "\t<tr><th scope=col>genre</th><th scope=col>console</th><th scope=col>total_sales</th></tr>\n",
       "\t<tr><th scope=col>&lt;chr&gt;</th><th scope=col>&lt;chr&gt;</th><th scope=col>&lt;dbl&gt;</th></tr>\n",
       "</thead>\n",
       "<tbody>\n",
       "\t<tr><td>Sports    </td><td>PS2 </td><td>266.38</td></tr>\n",
       "\t<tr><td>Shooter   </td><td>X360</td><td>231.35</td></tr>\n",
       "\t<tr><td>Action    </td><td>PS3 </td><td>191.66</td></tr>\n",
       "\t<tr><td>Shooter   </td><td>PS3 </td><td>189.53</td></tr>\n",
       "\t<tr><td>Action    </td><td>PS2 </td><td>171.01</td></tr>\n",
       "\t<tr><td>Action    </td><td>X360</td><td>161.90</td></tr>\n",
       "\t<tr><td>Sports    </td><td>PS3 </td><td>153.41</td></tr>\n",
       "\t<tr><td>Shooter   </td><td>PS4 </td><td>144.95</td></tr>\n",
       "\t<tr><td>Sports    </td><td>X360</td><td>141.09</td></tr>\n",
       "\t<tr><td>Racing    </td><td>PS2 </td><td>129.79</td></tr>\n",
       "\t<tr><td>Misc      </td><td>Wii </td><td>122.52</td></tr>\n",
       "\t<tr><td>Sports    </td><td>PS  </td><td>115.91</td></tr>\n",
       "\t<tr><td>Sports    </td><td>PS4 </td><td>108.84</td></tr>\n",
       "\t<tr><td>Shooter   </td><td>PS2 </td><td>104.20</td></tr>\n",
       "\t<tr><td>Action    </td><td>PS4 </td><td> 92.41</td></tr>\n",
       "\t<tr><td>Sports    </td><td>Wii </td><td> 92.15</td></tr>\n",
       "\t<tr><td>Shooter   </td><td>XOne</td><td> 90.32</td></tr>\n",
       "\t<tr><td>Simulation</td><td>DS  </td><td> 89.04</td></tr>\n",
       "\t<tr><td>Misc      </td><td>PS2 </td><td> 87.56</td></tr>\n",
       "\t<tr><td>Action    </td><td>PS  </td><td> 78.44</td></tr>\n",
       "</tbody>\n",
       "</table>\n"
      ],
      "text/latex": [
       "A grouped\\_df: 20 x 3\n",
       "\\begin{tabular}{lll}\n",
       " genre & console & total\\_sales\\\\\n",
       " <chr> & <chr> & <dbl>\\\\\n",
       "\\hline\n",
       "\t Sports     & PS2  & 266.38\\\\\n",
       "\t Shooter    & X360 & 231.35\\\\\n",
       "\t Action     & PS3  & 191.66\\\\\n",
       "\t Shooter    & PS3  & 189.53\\\\\n",
       "\t Action     & PS2  & 171.01\\\\\n",
       "\t Action     & X360 & 161.90\\\\\n",
       "\t Sports     & PS3  & 153.41\\\\\n",
       "\t Shooter    & PS4  & 144.95\\\\\n",
       "\t Sports     & X360 & 141.09\\\\\n",
       "\t Racing     & PS2  & 129.79\\\\\n",
       "\t Misc       & Wii  & 122.52\\\\\n",
       "\t Sports     & PS   & 115.91\\\\\n",
       "\t Sports     & PS4  & 108.84\\\\\n",
       "\t Shooter    & PS2  & 104.20\\\\\n",
       "\t Action     & PS4  &  92.41\\\\\n",
       "\t Sports     & Wii  &  92.15\\\\\n",
       "\t Shooter    & XOne &  90.32\\\\\n",
       "\t Simulation & DS   &  89.04\\\\\n",
       "\t Misc       & PS2  &  87.56\\\\\n",
       "\t Action     & PS   &  78.44\\\\\n",
       "\\end{tabular}\n"
      ],
      "text/markdown": [
       "\n",
       "A grouped_df: 20 x 3\n",
       "\n",
       "| genre &lt;chr&gt; | console &lt;chr&gt; | total_sales &lt;dbl&gt; |\n",
       "|---|---|---|\n",
       "| Sports     | PS2  | 266.38 |\n",
       "| Shooter    | X360 | 231.35 |\n",
       "| Action     | PS3  | 191.66 |\n",
       "| Shooter    | PS3  | 189.53 |\n",
       "| Action     | PS2  | 171.01 |\n",
       "| Action     | X360 | 161.90 |\n",
       "| Sports     | PS3  | 153.41 |\n",
       "| Shooter    | PS4  | 144.95 |\n",
       "| Sports     | X360 | 141.09 |\n",
       "| Racing     | PS2  | 129.79 |\n",
       "| Misc       | Wii  | 122.52 |\n",
       "| Sports     | PS   | 115.91 |\n",
       "| Sports     | PS4  | 108.84 |\n",
       "| Shooter    | PS2  | 104.20 |\n",
       "| Action     | PS4  |  92.41 |\n",
       "| Sports     | Wii  |  92.15 |\n",
       "| Shooter    | XOne |  90.32 |\n",
       "| Simulation | DS   |  89.04 |\n",
       "| Misc       | PS2  |  87.56 |\n",
       "| Action     | PS   |  78.44 |\n",
       "\n"
      ],
      "text/plain": [
       "   genre      console total_sales\n",
       "1  Sports     PS2     266.38     \n",
       "2  Shooter    X360    231.35     \n",
       "3  Action     PS3     191.66     \n",
       "4  Shooter    PS3     189.53     \n",
       "5  Action     PS2     171.01     \n",
       "6  Action     X360    161.90     \n",
       "7  Sports     PS3     153.41     \n",
       "8  Shooter    PS4     144.95     \n",
       "9  Sports     X360    141.09     \n",
       "10 Racing     PS2     129.79     \n",
       "11 Misc       Wii     122.52     \n",
       "12 Sports     PS      115.91     \n",
       "13 Sports     PS4     108.84     \n",
       "14 Shooter    PS2     104.20     \n",
       "15 Action     PS4      92.41     \n",
       "16 Sports     Wii      92.15     \n",
       "17 Shooter    XOne     90.32     \n",
       "18 Simulation DS       89.04     \n",
       "19 Misc       PS2      87.56     \n",
       "20 Action     PS       78.44     "
      ]
     },
     "metadata": {},
     "output_type": "display_data"
    }
   ],
   "source": [
    "# Total sales per genre and console\n",
    "genre_console_sales <- video_games %>%\n",
    "  group_by(genre, console) %>%\n",
    "  summarize(total_sales = sum(total_sales, na.rm = TRUE)) %>%\n",
    "  arrange(desc(total_sales))\n",
    "\n",
    "# View the top 20 combos\n",
    "head(genre_console_sales, n = 20)genre_console_sales <- video_games %>%\n",
    "  group_by(genre, console) %>%\n",
    "  summarize(total_sales = sum(total_sales, na.rm = TRUE)) %>%\n",
    "  arrange(desc(total_sales))\n",
    "\n",
    "head(genre_console_sales, n = 20) "
   ]
  },
  {
   "cell_type": "code",
   "execution_count": 22,
   "id": "2ee1d750-a82a-4959-85de-f1b890678c17",
   "metadata": {},
   "outputs": [
    {
     "name": "stderr",
     "output_type": "stream",
     "text": [
      "\u001b[1m\u001b[22m`summarise()` has grouped output by 'genre'. You can override using the\n",
      "`.groups` argument.\n"
     ]
    },
    {
     "data": {
      "text/html": [
       "<table class=\"dataframe\">\n",
       "<caption>A grouped_df: 20 x 3</caption>\n",
       "<thead>\n",
       "\t<tr><th scope=col>genre</th><th scope=col>console</th><th scope=col>total_sales</th></tr>\n",
       "\t<tr><th scope=col>&lt;chr&gt;</th><th scope=col>&lt;chr&gt;</th><th scope=col>&lt;dbl&gt;</th></tr>\n",
       "</thead>\n",
       "<tbody>\n",
       "\t<tr><td>Sports    </td><td>PS2 </td><td>266.38</td></tr>\n",
       "\t<tr><td>Shooter   </td><td>X360</td><td>231.35</td></tr>\n",
       "\t<tr><td>Action    </td><td>PS3 </td><td>191.66</td></tr>\n",
       "\t<tr><td>Shooter   </td><td>PS3 </td><td>189.53</td></tr>\n",
       "\t<tr><td>Action    </td><td>PS2 </td><td>171.01</td></tr>\n",
       "\t<tr><td>Action    </td><td>X360</td><td>161.90</td></tr>\n",
       "\t<tr><td>Sports    </td><td>PS3 </td><td>153.41</td></tr>\n",
       "\t<tr><td>Shooter   </td><td>PS4 </td><td>144.95</td></tr>\n",
       "\t<tr><td>Sports    </td><td>X360</td><td>141.09</td></tr>\n",
       "\t<tr><td>Racing    </td><td>PS2 </td><td>129.79</td></tr>\n",
       "\t<tr><td>Misc      </td><td>Wii </td><td>122.52</td></tr>\n",
       "\t<tr><td>Sports    </td><td>PS  </td><td>115.91</td></tr>\n",
       "\t<tr><td>Sports    </td><td>PS4 </td><td>108.84</td></tr>\n",
       "\t<tr><td>Shooter   </td><td>PS2 </td><td>104.20</td></tr>\n",
       "\t<tr><td>Action    </td><td>PS4 </td><td> 92.41</td></tr>\n",
       "\t<tr><td>Sports    </td><td>Wii </td><td> 92.15</td></tr>\n",
       "\t<tr><td>Shooter   </td><td>XOne</td><td> 90.32</td></tr>\n",
       "\t<tr><td>Simulation</td><td>DS  </td><td> 89.04</td></tr>\n",
       "\t<tr><td>Misc      </td><td>PS2 </td><td> 87.56</td></tr>\n",
       "\t<tr><td>Action    </td><td>PS  </td><td> 78.44</td></tr>\n",
       "</tbody>\n",
       "</table>\n"
      ],
      "text/latex": [
       "A grouped\\_df: 20 x 3\n",
       "\\begin{tabular}{lll}\n",
       " genre & console & total\\_sales\\\\\n",
       " <chr> & <chr> & <dbl>\\\\\n",
       "\\hline\n",
       "\t Sports     & PS2  & 266.38\\\\\n",
       "\t Shooter    & X360 & 231.35\\\\\n",
       "\t Action     & PS3  & 191.66\\\\\n",
       "\t Shooter    & PS3  & 189.53\\\\\n",
       "\t Action     & PS2  & 171.01\\\\\n",
       "\t Action     & X360 & 161.90\\\\\n",
       "\t Sports     & PS3  & 153.41\\\\\n",
       "\t Shooter    & PS4  & 144.95\\\\\n",
       "\t Sports     & X360 & 141.09\\\\\n",
       "\t Racing     & PS2  & 129.79\\\\\n",
       "\t Misc       & Wii  & 122.52\\\\\n",
       "\t Sports     & PS   & 115.91\\\\\n",
       "\t Sports     & PS4  & 108.84\\\\\n",
       "\t Shooter    & PS2  & 104.20\\\\\n",
       "\t Action     & PS4  &  92.41\\\\\n",
       "\t Sports     & Wii  &  92.15\\\\\n",
       "\t Shooter    & XOne &  90.32\\\\\n",
       "\t Simulation & DS   &  89.04\\\\\n",
       "\t Misc       & PS2  &  87.56\\\\\n",
       "\t Action     & PS   &  78.44\\\\\n",
       "\\end{tabular}\n"
      ],
      "text/markdown": [
       "\n",
       "A grouped_df: 20 x 3\n",
       "\n",
       "| genre &lt;chr&gt; | console &lt;chr&gt; | total_sales &lt;dbl&gt; |\n",
       "|---|---|---|\n",
       "| Sports     | PS2  | 266.38 |\n",
       "| Shooter    | X360 | 231.35 |\n",
       "| Action     | PS3  | 191.66 |\n",
       "| Shooter    | PS3  | 189.53 |\n",
       "| Action     | PS2  | 171.01 |\n",
       "| Action     | X360 | 161.90 |\n",
       "| Sports     | PS3  | 153.41 |\n",
       "| Shooter    | PS4  | 144.95 |\n",
       "| Sports     | X360 | 141.09 |\n",
       "| Racing     | PS2  | 129.79 |\n",
       "| Misc       | Wii  | 122.52 |\n",
       "| Sports     | PS   | 115.91 |\n",
       "| Sports     | PS4  | 108.84 |\n",
       "| Shooter    | PS2  | 104.20 |\n",
       "| Action     | PS4  |  92.41 |\n",
       "| Sports     | Wii  |  92.15 |\n",
       "| Shooter    | XOne |  90.32 |\n",
       "| Simulation | DS   |  89.04 |\n",
       "| Misc       | PS2  |  87.56 |\n",
       "| Action     | PS   |  78.44 |\n",
       "\n"
      ],
      "text/plain": [
       "   genre      console total_sales\n",
       "1  Sports     PS2     266.38     \n",
       "2  Shooter    X360    231.35     \n",
       "3  Action     PS3     191.66     \n",
       "4  Shooter    PS3     189.53     \n",
       "5  Action     PS2     171.01     \n",
       "6  Action     X360    161.90     \n",
       "7  Sports     PS3     153.41     \n",
       "8  Shooter    PS4     144.95     \n",
       "9  Sports     X360    141.09     \n",
       "10 Racing     PS2     129.79     \n",
       "11 Misc       Wii     122.52     \n",
       "12 Sports     PS      115.91     \n",
       "13 Sports     PS4     108.84     \n",
       "14 Shooter    PS2     104.20     \n",
       "15 Action     PS4      92.41     \n",
       "16 Sports     Wii      92.15     \n",
       "17 Shooter    XOne     90.32     \n",
       "18 Simulation DS       89.04     \n",
       "19 Misc       PS2      87.56     \n",
       "20 Action     PS       78.44     "
      ]
     },
     "metadata": {},
     "output_type": "display_data"
    }
   ],
   "source": [
    "genre_console_sales <- video_games %>%\n",
    "  group_by(genre, console) %>%\n",
    "  summarize(total_sales = sum(total_sales, na.rm = TRUE)) %>%\n",
    "  arrange(desc(total_sales))\n",
    "\n",
    "head(genre_console_sales, n = 20) "
   ]
  },
  {
   "cell_type": "code",
   "execution_count": 23,
   "id": "be9fe111-9d5f-4f70-804a-25002455e9cc",
   "metadata": {},
   "outputs": [],
   "source": [
    "# Load the dataset\n",
    "app_store <- read.csv(\"/anvil/projects/tdm/data/grouping/googleplaystore.csv\")\n"
   ]
  },
  {
   "cell_type": "code",
   "execution_count": 24,
   "id": "81d6d33c-7abd-4ff4-9c9e-478a59d2435d",
   "metadata": {},
   "outputs": [
    {
     "data": {
      "text/html": [
       "<table class=\"dataframe\">\n",
       "<caption>A data.frame: 6 x 2</caption>\n",
       "<thead>\n",
       "\t<tr><th></th><th scope=col>Rating</th><th scope=col>Reviews</th></tr>\n",
       "\t<tr><th></th><th scope=col>&lt;dbl&gt;</th><th scope=col>&lt;chr&gt;</th></tr>\n",
       "</thead>\n",
       "<tbody>\n",
       "\t<tr><th scope=row>1</th><td>4.1</td><td>159   </td></tr>\n",
       "\t<tr><th scope=row>2</th><td>3.9</td><td>967   </td></tr>\n",
       "\t<tr><th scope=row>3</th><td>4.7</td><td>87510 </td></tr>\n",
       "\t<tr><th scope=row>4</th><td>4.5</td><td>215644</td></tr>\n",
       "\t<tr><th scope=row>5</th><td>4.3</td><td>967   </td></tr>\n",
       "\t<tr><th scope=row>6</th><td>4.4</td><td>167   </td></tr>\n",
       "</tbody>\n",
       "</table>\n"
      ],
      "text/latex": [
       "A data.frame: 6 x 2\n",
       "\\begin{tabular}{r|ll}\n",
       "  & Rating & Reviews\\\\\n",
       "  & <dbl> & <chr>\\\\\n",
       "\\hline\n",
       "\t1 & 4.1 & 159   \\\\\n",
       "\t2 & 3.9 & 967   \\\\\n",
       "\t3 & 4.7 & 87510 \\\\\n",
       "\t4 & 4.5 & 215644\\\\\n",
       "\t5 & 4.3 & 967   \\\\\n",
       "\t6 & 4.4 & 167   \\\\\n",
       "\\end{tabular}\n"
      ],
      "text/markdown": [
       "\n",
       "A data.frame: 6 x 2\n",
       "\n",
       "| <!--/--> | Rating &lt;dbl&gt; | Reviews &lt;chr&gt; |\n",
       "|---|---|---|\n",
       "| 1 | 4.1 | 159    |\n",
       "| 2 | 3.9 | 967    |\n",
       "| 3 | 4.7 | 87510  |\n",
       "| 4 | 4.5 | 215644 |\n",
       "| 5 | 4.3 | 967    |\n",
       "| 6 | 4.4 | 167    |\n",
       "\n"
      ],
      "text/plain": [
       "  Rating Reviews\n",
       "1 4.1    159    \n",
       "2 3.9    967    \n",
       "3 4.7    87510  \n",
       "4 4.5    215644 \n",
       "5 4.3    967    \n",
       "6 4.4    167    "
      ]
     },
     "metadata": {},
     "output_type": "display_data"
    }
   ],
   "source": [
    "# Check the columns\n",
    "head(app_store[, c(\"Rating\", \"Reviews\")])"
   ]
  },
  {
   "cell_type": "code",
   "execution_count": 25,
   "id": "d3d884e0-968d-4ae9-890e-a325736ba939",
   "metadata": {},
   "outputs": [
    {
     "name": "stderr",
     "output_type": "stream",
     "text": [
      "Warning message:\n",
      "\"NAs introduced by coercion\"\n"
     ]
    },
    {
     "data": {
      "text/html": [
       "'3.0M'"
      ],
      "text/latex": [
       "'3.0M'"
      ],
      "text/markdown": [
       "'3.0M'"
      ],
      "text/plain": [
       "[1] \"3.0M\""
      ]
     },
     "metadata": {},
     "output_type": "display_data"
    }
   ],
   "source": [
    "# Remove the commas \n",
    "app_store$Clean_Reviews <- gsub(\",\", \"\", app_store$Reviews)\n",
    "\n",
    "# Convert to numeric\n",
    "app_store$Numeric_Reviews <- as.numeric(app_store$Clean_Reviews)\n",
    "\n",
    "# Check for problematic values\n",
    "app_store[is.na(app_store$Numeric_Reviews) & !is.na(app_store$Reviews), \"Reviews\"]"
   ]
  },
  {
   "cell_type": "code",
   "execution_count": 28,
   "id": "f2a6e190-2e5d-48ab-933e-024cc022c624",
   "metadata": {},
   "outputs": [
    {
     "name": "stderr",
     "output_type": "stream",
     "text": [
      "Warning message:\n",
      "\"NAs introduced by coercion\"\n"
     ]
    },
    {
     "data": {
      "text/html": [
       "'3.0M'"
      ],
      "text/latex": [
       "'3.0M'"
      ],
      "text/markdown": [
       "'3.0M'"
      ],
      "text/plain": [
       "[1] \"3.0M\""
      ]
     },
     "metadata": {},
     "output_type": "display_data"
    },
    {
     "data": {
      "text/html": [
       "<table class=\"dataframe\">\n",
       "<caption>A data.frame: 0 x 1</caption>\n",
       "<thead>\n",
       "\t<tr><th scope=col>Reviews</th></tr>\n",
       "\t<tr><th scope=col>&lt;chr&gt;</th></tr>\n",
       "</thead>\n",
       "<tbody>\n",
       "</tbody>\n",
       "</table>\n"
      ],
      "text/latex": [
       "A data.frame: 0 x 1\n",
       "\\begin{tabular}{l}\n",
       " Reviews\\\\\n",
       " <chr>\\\\\n",
       "\\hline\n",
       "\\end{tabular}\n"
      ],
      "text/markdown": [
       "\n",
       "A data.frame: 0 x 1\n",
       "\n",
       "| Reviews &lt;chr&gt; |\n",
       "|---|\n",
       "\n"
      ],
      "text/plain": [
       "     Reviews"
      ]
     },
     "metadata": {},
     "output_type": "display_data"
    },
    {
     "data": {
      "text/html": [
       "<style>\n",
       ".list-inline {list-style: none; margin:0; padding: 0}\n",
       ".list-inline>li {display: inline-block}\n",
       ".list-inline>li:not(:last-child)::after {content: \"\\00b7\"; padding: 0 .5ex}\n",
       "</style>\n",
       "<ol class=list-inline><li>0.0257861635220126</li><li>0.00403309203722854</li><li>5.37081476402697e-05</li><li>2.08677264380182e-05</li><li>0.00444674250258532</li><li>0.0263473053892216</li></ol>\n"
      ],
      "text/latex": [
       "\\begin{enumerate*}\n",
       "\\item 0.0257861635220126\n",
       "\\item 0.00403309203722854\n",
       "\\item 5.37081476402697e-05\n",
       "\\item 2.08677264380182e-05\n",
       "\\item 0.00444674250258532\n",
       "\\item 0.0263473053892216\n",
       "\\end{enumerate*}\n"
      ],
      "text/markdown": [
       "1. 0.0257861635220126\n",
       "2. 0.00403309203722854\n",
       "3. 5.37081476402697e-05\n",
       "4. 2.08677264380182e-05\n",
       "5. 0.00444674250258532\n",
       "6. 0.0263473053892216\n",
       "\n",
       "\n"
      ],
      "text/plain": [
       "[1] 2.578616e-02 4.033092e-03 5.370815e-05 2.086773e-05 4.446743e-03\n",
       "[6] 2.634731e-02"
      ]
     },
     "metadata": {},
     "output_type": "display_data"
    }
   ],
   "source": [
    "# Load dplyr for data manipulation\n",
    "library(dplyr)\n",
    "\n",
    "# Read in the Google Play Store dataset\n",
    "app_store <- read.csv('/anvil/projects/tdm/data/grouping/googleplaystore.csv')\n",
    "\n",
    "# Create Numeric_Reviews using basic R (for reference)\n",
    "app_store$Clean_Reviews <- gsub(\",\", \"\", app_store$Reviews)\n",
    "app_store$Numeric_Reviews <- as.numeric(app_store$Clean_Reviews)\n",
    "\n",
    "# Check for problematic values\n",
    "problem_values <- app_store[is.na(app_store$Numeric_Reviews) & !is.na(app_store$Reviews), \"Reviews\"]\n",
    "problem_values  # Should show \"3.0M\"\n",
    "\n",
    "# Clean the dataset using dplyr, remove problematic rows, and create numeric column\n",
    "app_store_cleaned <- app_store %>%\n",
    "  mutate(\n",
    "    Clean_Reviews = gsub(\",\", \"\", Reviews),\n",
    "    Numeric_Reviews = suppressWarnings(as.numeric(Clean_Reviews))  # suppress warnings from coercion\n",
    "  ) %>%\n",
    "  filter(!is.na(Numeric_Reviews))  # remove problematic \"3.0M\" value\n",
    "\n",
    "# Verify no problematic values remain\n",
    "app_store_cleaned %>%\n",
    "  filter(is.na(Numeric_Reviews) & !is.na(Reviews)) %>%\n",
    "  select(Reviews)  # Should return zero rows\n",
    "\n",
    "# Create rating_per_review column\n",
    "app_store_cleaned <- app_store_cleaned %>%\n",
    "  mutate(\n",
    "    rating_per_review = Rating / Numeric_Reviews\n",
    "  )\n",
    "\n",
    "# View the first few values of rating_per_review\n",
    "head(app_store_cleaned$rating_per_review)"
   ]
  },
  {
   "cell_type": "code",
   "execution_count": 29,
   "id": "0f7c514c-1263-4923-bb34-2e57460f9a2d",
   "metadata": {},
   "outputs": [],
   "source": [
    "library(dplyr)\n",
    "\n",
    "app_store_cleaned <- app_store_cleaned %>%\n",
    "  mutate(\n",
    "    rating_per_review = Rating / Numeric_Reviews\n",
    "  )"
   ]
  },
  {
   "cell_type": "code",
   "execution_count": 30,
   "id": "4b3f7a79-4e4a-4cfb-a240-53ced5d92893",
   "metadata": {},
   "outputs": [
    {
     "data": {
      "text/html": [
       "<style>\n",
       ".list-inline {list-style: none; margin:0; padding: 0}\n",
       ".list-inline>li {display: inline-block}\n",
       ".list-inline>li:not(:last-child)::after {content: \"\\00b7\"; padding: 0 .5ex}\n",
       "</style>\n",
       "<ol class=list-inline><li>0.0257861635220126</li><li>0.00403309203722854</li><li>5.37081476402697e-05</li><li>2.08677264380182e-05</li><li>0.00444674250258532</li><li>0.0263473053892216</li></ol>\n"
      ],
      "text/latex": [
       "\\begin{enumerate*}\n",
       "\\item 0.0257861635220126\n",
       "\\item 0.00403309203722854\n",
       "\\item 5.37081476402697e-05\n",
       "\\item 2.08677264380182e-05\n",
       "\\item 0.00444674250258532\n",
       "\\item 0.0263473053892216\n",
       "\\end{enumerate*}\n"
      ],
      "text/markdown": [
       "1. 0.0257861635220126\n",
       "2. 0.00403309203722854\n",
       "3. 5.37081476402697e-05\n",
       "4. 2.08677264380182e-05\n",
       "5. 0.00444674250258532\n",
       "6. 0.0263473053892216\n",
       "\n",
       "\n"
      ],
      "text/plain": [
       "[1] 2.578616e-02 4.033092e-03 5.370815e-05 2.086773e-05 4.446743e-03\n",
       "[6] 2.634731e-02"
      ]
     },
     "metadata": {},
     "output_type": "display_data"
    }
   ],
   "source": [
    "head(app_store_cleaned$rating_per_review)"
   ]
  },
  {
   "cell_type": "code",
   "execution_count": 31,
   "id": "96e4e070-4ca6-4185-8e80-28618f44ac94",
   "metadata": {},
   "outputs": [
    {
     "data": {
      "text/html": [
       "<style>\n",
       ".dl-inline {width: auto; margin:0; padding: 0}\n",
       ".dl-inline>dt, .dl-inline>dd {float: none; width: auto; display: inline-block}\n",
       ".dl-inline>dt::after {content: \":\\0020\"; padding-right: .5ex}\n",
       ".dl-inline>dt:not(:first-of-type) {padding-left: .5ex}\n",
       "</style><dl class=dl-inline><dt>App</dt><dd>'character'</dd><dt>Category</dt><dd>'character'</dd><dt>Rating</dt><dd>'numeric'</dd><dt>Reviews</dt><dd>'character'</dd><dt>Size</dt><dd>'character'</dd><dt>Installs</dt><dd>'character'</dd><dt>Type</dt><dd>'character'</dd><dt>Price</dt><dd>'character'</dd><dt>Content.Rating</dt><dd>'character'</dd><dt>Genres</dt><dd>'character'</dd><dt>Last.Updated</dt><dd>'character'</dd><dt>Current.Ver</dt><dd>'character'</dd><dt>Android.Ver</dt><dd>'character'</dd><dt>Clean_Reviews</dt><dd>'character'</dd><dt>Numeric_Reviews</dt><dd>'numeric'</dd><dt>rating_per_review</dt><dd>'numeric'</dd></dl>\n"
      ],
      "text/latex": [
       "\\begin{description*}\n",
       "\\item[App] 'character'\n",
       "\\item[Category] 'character'\n",
       "\\item[Rating] 'numeric'\n",
       "\\item[Reviews] 'character'\n",
       "\\item[Size] 'character'\n",
       "\\item[Installs] 'character'\n",
       "\\item[Type] 'character'\n",
       "\\item[Price] 'character'\n",
       "\\item[Content.Rating] 'character'\n",
       "\\item[Genres] 'character'\n",
       "\\item[Last.Updated] 'character'\n",
       "\\item[Current.Ver] 'character'\n",
       "\\item[Android.Ver] 'character'\n",
       "\\item[Clean\\textbackslash{}\\_Reviews] 'character'\n",
       "\\item[Numeric\\textbackslash{}\\_Reviews] 'numeric'\n",
       "\\item[rating\\textbackslash{}\\_per\\textbackslash{}\\_review] 'numeric'\n",
       "\\end{description*}\n"
      ],
      "text/markdown": [
       "App\n",
       ":   'character'Category\n",
       ":   'character'Rating\n",
       ":   'numeric'Reviews\n",
       ":   'character'Size\n",
       ":   'character'Installs\n",
       ":   'character'Type\n",
       ":   'character'Price\n",
       ":   'character'Content.Rating\n",
       ":   'character'Genres\n",
       ":   'character'Last.Updated\n",
       ":   'character'Current.Ver\n",
       ":   'character'Android.Ver\n",
       ":   'character'Clean_Reviews\n",
       ":   'character'Numeric_Reviews\n",
       ":   'numeric'rating_per_review\n",
       ":   'numeric'\n",
       "\n"
      ],
      "text/plain": [
       "              App          Category            Rating           Reviews \n",
       "      \"character\"       \"character\"         \"numeric\"       \"character\" \n",
       "             Size          Installs              Type             Price \n",
       "      \"character\"       \"character\"       \"character\"       \"character\" \n",
       "   Content.Rating            Genres      Last.Updated       Current.Ver \n",
       "      \"character\"       \"character\"       \"character\"       \"character\" \n",
       "      Android.Ver     Clean_Reviews   Numeric_Reviews rating_per_review \n",
       "      \"character\"       \"character\"         \"numeric\"         \"numeric\" "
      ]
     },
     "metadata": {},
     "output_type": "display_data"
    }
   ],
   "source": [
    "# Use sapply to get class of each column\n",
    "column_classes_sapply <- sapply(app_store_cleaned, class)\n",
    "column_classes_sapply"
   ]
  },
  {
   "cell_type": "code",
   "execution_count": 32,
   "id": "f01975c6-6b60-42dc-b512-85e4c331d179",
   "metadata": {
    "scrolled": true
   },
   "outputs": [
    {
     "data": {
      "text/html": [
       "<ol>\n",
       "\t<li>8</li>\n",
       "\t<li>8</li>\n",
       "\t<li>8</li>\n",
       "\t<li>4</li>\n",
       "\t<li>8</li>\n",
       "\t<li>8</li>\n",
       "\t<li>8</li>\n",
       "\t<li>8</li>\n",
       "\t<li>8</li>\n",
       "\t<li>8</li>\n",
       "\t<li>8</li>\n",
       "\t<li>8</li>\n",
       "\t<li>4</li>\n",
       "\t<li>8</li>\n",
       "\t<li>8</li>\n",
       "\t<li>8</li>\n",
       "\t<li>8</li>\n",
       "\t<li>8</li>\n",
       "\t<li>8</li>\n",
       "\t<li>8</li>\n",
       "\t<li>8</li>\n",
       "\t<li>8</li>\n",
       "\t<li>12</li>\n",
       "\t<li>8</li>\n",
       "\t<li>8</li>\n",
       "\t<li>8</li>\n",
       "\t<li>8</li>\n",
       "\t<li>8</li>\n",
       "\t<li>8</li>\n",
       "\t<li>8</li>\n",
       "</ol>\n"
      ],
      "text/latex": [
       "\\begin{enumerate}\n",
       "\\item 8\n",
       "\\item 8\n",
       "\\item 8\n",
       "\\item 4\n",
       "\\item 8\n",
       "\\item 8\n",
       "\\item 8\n",
       "\\item 8\n",
       "\\item 8\n",
       "\\item 8\n",
       "\\item 8\n",
       "\\item 8\n",
       "\\item 4\n",
       "\\item 8\n",
       "\\item 8\n",
       "\\item 8\n",
       "\\item 8\n",
       "\\item 8\n",
       "\\item 8\n",
       "\\item 8\n",
       "\\item 8\n",
       "\\item 8\n",
       "\\item 12\n",
       "\\item 8\n",
       "\\item 8\n",
       "\\item 8\n",
       "\\item 8\n",
       "\\item 8\n",
       "\\item 8\n",
       "\\item 8\n",
       "\\end{enumerate}\n"
      ],
      "text/markdown": [
       "1. 8\n",
       "2. 8\n",
       "3. 8\n",
       "4. 4\n",
       "5. 8\n",
       "6. 8\n",
       "7. 8\n",
       "8. 8\n",
       "9. 8\n",
       "10. 8\n",
       "11. 8\n",
       "12. 8\n",
       "13. 4\n",
       "14. 8\n",
       "15. 8\n",
       "16. 8\n",
       "17. 8\n",
       "18. 8\n",
       "19. 8\n",
       "20. 8\n",
       "21. 8\n",
       "22. 8\n",
       "23. 12\n",
       "24. 8\n",
       "25. 8\n",
       "26. 8\n",
       "27. 8\n",
       "28. 8\n",
       "29. 8\n",
       "30. 8\n",
       "\n",
       "\n"
      ],
      "text/plain": [
       "[[1]]\n",
       "[1] 8\n",
       "\n",
       "[[2]]\n",
       "[1] 8\n",
       "\n",
       "[[3]]\n",
       "[1] 8\n",
       "\n",
       "[[4]]\n",
       "[1] 4\n",
       "\n",
       "[[5]]\n",
       "[1] 8\n",
       "\n",
       "[[6]]\n",
       "[1] 8\n",
       "\n",
       "[[7]]\n",
       "[1] 8\n",
       "\n",
       "[[8]]\n",
       "[1] 8\n",
       "\n",
       "[[9]]\n",
       "[1] 8\n",
       "\n",
       "[[10]]\n",
       "[1] 8\n",
       "\n",
       "[[11]]\n",
       "[1] 8\n",
       "\n",
       "[[12]]\n",
       "[1] 8\n",
       "\n",
       "[[13]]\n",
       "[1] 4\n",
       "\n",
       "[[14]]\n",
       "[1] 8\n",
       "\n",
       "[[15]]\n",
       "[1] 8\n",
       "\n",
       "[[16]]\n",
       "[1] 8\n",
       "\n",
       "[[17]]\n",
       "[1] 8\n",
       "\n",
       "[[18]]\n",
       "[1] 8\n",
       "\n",
       "[[19]]\n",
       "[1] 8\n",
       "\n",
       "[[20]]\n",
       "[1] 8\n",
       "\n",
       "[[21]]\n",
       "[1] 8\n",
       "\n",
       "[[22]]\n",
       "[1] 8\n",
       "\n",
       "[[23]]\n",
       "[1] 12\n",
       "\n",
       "[[24]]\n",
       "[1] 8\n",
       "\n",
       "[[25]]\n",
       "[1] 8\n",
       "\n",
       "[[26]]\n",
       "[1] 8\n",
       "\n",
       "[[27]]\n",
       "[1] 8\n",
       "\n",
       "[[28]]\n",
       "[1] 8\n",
       "\n",
       "[[29]]\n",
       "[1] 8\n",
       "\n",
       "[[30]]\n",
       "[1] 8\n"
      ]
     },
     "metadata": {},
     "output_type": "display_data"
    }
   ],
   "source": [
    "# Number of characters using lapply (returns a list)\n",
    "char_count_lapply <- lapply(app_store_cleaned$Content.Rating, nchar)\n",
    "head(char_count_lapply, n = 30)"
   ]
  },
  {
   "cell_type": "code",
   "execution_count": null,
   "id": "6b8f1b0c-96ce-4275-b36f-fed2a45bb916",
   "metadata": {},
   "outputs": [],
   "source": [
    "# The appple() function is used to apply a function to the rows or columns of a dataframe. It is helpful when performing calculations on every row or column without needing to write a loop. This makes it easier to calculate things like row sums, means, or other summary items"
   ]
  }
 ],
 "metadata": {
  "kernelspec": {
   "display_name": "seminar-r",
   "language": "R",
   "name": "seminar-r"
  },
  "language_info": {
   "codemirror_mode": "r",
   "file_extension": ".r",
   "mimetype": "text/x-r-source",
   "name": "R",
   "pygments_lexer": "r",
   "version": "4.4.3"
  }
 },
 "nbformat": 4,
 "nbformat_minor": 5
}
