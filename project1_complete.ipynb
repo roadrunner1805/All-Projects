{
 "cells": [
  {
   "cell_type": "markdown",
   "id": "be02a957-7133-4d02-818e-fedeb3cecb05",
   "metadata": {},
   "source": [
    "# Project X -- Ethan Nordman"
   ]
  },
  {
   "cell_type": "markdown",
   "id": "a1228853-dd19-4ab2-89e0-0394d7d72de3",
   "metadata": {},
   "source": [
    "**TA Help:** (for instance) John Smith, Alice Jones, etc., list names of any TAs who helped you\n",
    "\n",
    "- For example: Help with figuring out how to write a function (describe the tasks that they helped you with)\n",
    "\n",
    "**Collaboration:** My Friend in CS, My Uncle, Another Student, etc., list names of any other people who helped you\n",
    "\n",
    "(describe the tasks that they helped you with)\n",
    "- For example: helped figuring out how to load the dataset.\n",
    "- Another example: helped debug error with my plot.\n",
    "\n",
    "**Internet Resources:** Stack Exchange, Stack Overflow, etc.\n",
    "\n",
    "(describe any information that you learned from internet resources, including the URLs)\n",
    "- data frames in Pandas versus R from StackOverflow  https://stackoverflow.com/questions/8991709/why-were-pandas-merges-in-python-faster-than-data-table-merges-in-r-in-2012\n",
    "\n",
    "**ChatGPT, Gemini, Claude, etc:** Any language models or generative AI chatbots that helped you.\n",
    "\n",
    "(if you used any such tools, please tell us here)\n",
    "- For example:  I asked ChatGPT how to define a new data frames\n",
    "- Another example:  Gemini told me how to make a function for sorting my data\n",
    "\n",
    "**OVERALL MESSAGE:** Any time that you used anything except your brain to solve the questions in these projects, you need to disclose such resources at the start of the project, with details about your usage of the tools.\n",
    "\n",
    "**YOUR OWN WORK:** Even when you utilize other resources, do NOT just copy and paste.  Write all explanations in your own words, using several sentences in English, which are understandable and which you wrote (and did not just copy and paste)."
   ]
  },
  {
   "cell_type": "markdown",
   "id": "6180e742-8e39-4698-98ff-5b00c8cf8ea0",
   "metadata": {},
   "source": [
    "## Question 1"
   ]
  },
  {
   "cell_type": "code",
   "execution_count": null,
   "id": "347ed1dc-b264-4465-88d9-ec8638d36076",
   "metadata": {
    "vscode": {
     "languageId": "r"
    }
   },
   "outputs": [],
   "source": [
    "myDF <- read.csv(\"/anvil/projects/tdm/data/flights/subset/airports.csv\")"
   ]
  },
  {
   "cell_type": "code",
   "execution_count": null,
   "id": "2250428c-5bff-4cb9-bced-873510f406cc",
   "metadata": {
    "vscode": {
     "languageId": "r"
    }
   },
   "outputs": [
    {
     "data": {
      "text/html": [
       "<table class=\"dataframe\">\n",
       "<caption>A data.frame: 6 x 7</caption>\n",
       "<thead>\n",
       "\t<tr><th></th><th scope=col>iata</th><th scope=col>airport</th><th scope=col>city</th><th scope=col>state</th><th scope=col>country</th><th scope=col>lat</th><th scope=col>long</th></tr>\n",
       "\t<tr><th></th><th scope=col>&lt;chr&gt;</th><th scope=col>&lt;chr&gt;</th><th scope=col>&lt;chr&gt;</th><th scope=col>&lt;chr&gt;</th><th scope=col>&lt;chr&gt;</th><th scope=col>&lt;dbl&gt;</th><th scope=col>&lt;dbl&gt;</th></tr>\n",
       "</thead>\n",
       "<tbody>\n",
       "\t<tr><th scope=row>1</th><td>00M</td><td>Thigpen             </td><td>Bay Springs     </td><td>MS</td><td>USA</td><td>31.95376</td><td> -89.23450</td></tr>\n",
       "\t<tr><th scope=row>2</th><td>00R</td><td>Livingston Municipal</td><td>Livingston      </td><td>TX</td><td>USA</td><td>30.68586</td><td> -95.01793</td></tr>\n",
       "\t<tr><th scope=row>3</th><td>00V</td><td>Meadow Lake         </td><td>Colorado Springs</td><td>CO</td><td>USA</td><td>38.94575</td><td>-104.56989</td></tr>\n",
       "\t<tr><th scope=row>4</th><td>01G</td><td>Perry-Warsaw        </td><td>Perry           </td><td>NY</td><td>USA</td><td>42.74135</td><td> -78.05208</td></tr>\n",
       "\t<tr><th scope=row>5</th><td>01J</td><td>Hilliard Airpark    </td><td>Hilliard        </td><td>FL</td><td>USA</td><td>30.68801</td><td> -81.90594</td></tr>\n",
       "\t<tr><th scope=row>6</th><td>01M</td><td>Tishomingo County   </td><td>Belmont         </td><td>MS</td><td>USA</td><td>34.49167</td><td> -88.20111</td></tr>\n",
       "</tbody>\n",
       "</table>\n"
      ],
      "text/latex": [
       "A data.frame: 6 x 7\n",
       "\\begin{tabular}{r|lllllll}\n",
       "  & iata & airport & city & state & country & lat & long\\\\\n",
       "  & <chr> & <chr> & <chr> & <chr> & <chr> & <dbl> & <dbl>\\\\\n",
       "\\hline\n",
       "\t1 & 00M & Thigpen              & Bay Springs      & MS & USA & 31.95376 &  -89.23450\\\\\n",
       "\t2 & 00R & Livingston Municipal & Livingston       & TX & USA & 30.68586 &  -95.01793\\\\\n",
       "\t3 & 00V & Meadow Lake          & Colorado Springs & CO & USA & 38.94575 & -104.56989\\\\\n",
       "\t4 & 01G & Perry-Warsaw         & Perry            & NY & USA & 42.74135 &  -78.05208\\\\\n",
       "\t5 & 01J & Hilliard Airpark     & Hilliard         & FL & USA & 30.68801 &  -81.90594\\\\\n",
       "\t6 & 01M & Tishomingo County    & Belmont          & MS & USA & 34.49167 &  -88.20111\\\\\n",
       "\\end{tabular}\n"
      ],
      "text/markdown": [
       "\n",
       "A data.frame: 6 x 7\n",
       "\n",
       "| <!--/--> | iata &lt;chr&gt; | airport &lt;chr&gt; | city &lt;chr&gt; | state &lt;chr&gt; | country &lt;chr&gt; | lat &lt;dbl&gt; | long &lt;dbl&gt; |\n",
       "|---|---|---|---|---|---|---|---|\n",
       "| 1 | 00M | Thigpen              | Bay Springs      | MS | USA | 31.95376 |  -89.23450 |\n",
       "| 2 | 00R | Livingston Municipal | Livingston       | TX | USA | 30.68586 |  -95.01793 |\n",
       "| 3 | 00V | Meadow Lake          | Colorado Springs | CO | USA | 38.94575 | -104.56989 |\n",
       "| 4 | 01G | Perry-Warsaw         | Perry            | NY | USA | 42.74135 |  -78.05208 |\n",
       "| 5 | 01J | Hilliard Airpark     | Hilliard         | FL | USA | 30.68801 |  -81.90594 |\n",
       "| 6 | 01M | Tishomingo County    | Belmont          | MS | USA | 34.49167 |  -88.20111 |\n",
       "\n"
      ],
      "text/plain": [
       "  iata airport              city             state country lat      long      \n",
       "1 00M  Thigpen              Bay Springs      MS    USA     31.95376  -89.23450\n",
       "2 00R  Livingston Municipal Livingston       TX    USA     30.68586  -95.01793\n",
       "3 00V  Meadow Lake          Colorado Springs CO    USA     38.94575 -104.56989\n",
       "4 01G  Perry-Warsaw         Perry            NY    USA     42.74135  -78.05208\n",
       "5 01J  Hilliard Airpark     Hilliard         FL    USA     30.68801  -81.90594\n",
       "6 01M  Tishomingo County    Belmont          MS    USA     34.49167  -88.20111"
      ]
     },
     "metadata": {},
     "output_type": "display_data"
    }
   ],
   "source": [
    "head(myDF)"
   ]
  },
  {
   "cell_type": "markdown",
   "id": "b456e57c-4a12-464b-999a-ef2df5af80c1",
   "metadata": {},
   "source": [
    "We are coding in R and we loaded in the pre made database. myDF is showing us the default set 6 rows in the data. "
   ]
  },
  {
   "cell_type": "markdown",
   "id": "fc601975-35ed-4680-a4e1-0273ee3cc047",
   "metadata": {},
   "source": [
    "## Question 2"
   ]
  },
  {
   "cell_type": "code",
   "execution_count": null,
   "id": "fa6fa7bb-560d-4492-9d0f-95e5c6fe0216",
   "metadata": {
    "vscode": {
     "languageId": "r"
    }
   },
   "outputs": [
    {
     "data": {
      "text/html": [
       "<table class=\"dataframe\">\n",
       "<caption>A data.frame: 12 x 7</caption>\n",
       "<thead>\n",
       "\t<tr><th></th><th scope=col>iata</th><th scope=col>airport</th><th scope=col>city</th><th scope=col>state</th><th scope=col>country</th><th scope=col>lat</th><th scope=col>long</th></tr>\n",
       "\t<tr><th></th><th scope=col>&lt;chr&gt;</th><th scope=col>&lt;chr&gt;</th><th scope=col>&lt;chr&gt;</th><th scope=col>&lt;chr&gt;</th><th scope=col>&lt;chr&gt;</th><th scope=col>&lt;dbl&gt;</th><th scope=col>&lt;dbl&gt;</th></tr>\n",
       "</thead>\n",
       "<tbody>\n",
       "\t<tr><th scope=row>1</th><td>00M</td><td>Thigpen             </td><td>Bay Springs     </td><td>MS</td><td>USA</td><td>31.95376</td><td> -89.23450</td></tr>\n",
       "\t<tr><th scope=row>2</th><td>00R</td><td>Livingston Municipal</td><td>Livingston      </td><td>TX</td><td>USA</td><td>30.68586</td><td> -95.01793</td></tr>\n",
       "\t<tr><th scope=row>3</th><td>00V</td><td>Meadow Lake         </td><td>Colorado Springs</td><td>CO</td><td>USA</td><td>38.94575</td><td>-104.56989</td></tr>\n",
       "\t<tr><th scope=row>4</th><td>01G</td><td>Perry-Warsaw        </td><td>Perry           </td><td>NY</td><td>USA</td><td>42.74135</td><td> -78.05208</td></tr>\n",
       "\t<tr><th scope=row>5</th><td>01J</td><td>Hilliard Airpark    </td><td>Hilliard        </td><td>FL</td><td>USA</td><td>30.68801</td><td> -81.90594</td></tr>\n",
       "\t<tr><th scope=row>6</th><td>01M</td><td>Tishomingo County   </td><td>Belmont         </td><td>MS</td><td>USA</td><td>34.49167</td><td> -88.20111</td></tr>\n",
       "\t<tr><th scope=row>7</th><td>02A</td><td>Gragg-Wade          </td><td>Clanton         </td><td>AL</td><td>USA</td><td>32.85049</td><td> -86.61145</td></tr>\n",
       "\t<tr><th scope=row>8</th><td>02C</td><td>Capitol             </td><td>Brookfield      </td><td>WI</td><td>USA</td><td>43.08751</td><td> -88.17787</td></tr>\n",
       "\t<tr><th scope=row>9</th><td>02G</td><td>Columbiana County   </td><td>East Liverpool  </td><td>OH</td><td>USA</td><td>40.67331</td><td> -80.64141</td></tr>\n",
       "\t<tr><th scope=row>10</th><td>03D</td><td>Memphis Memorial    </td><td>Memphis         </td><td>MO</td><td>USA</td><td>40.44726</td><td> -92.22696</td></tr>\n",
       "\t<tr><th scope=row>11</th><td>04M</td><td>Calhoun County      </td><td>Pittsboro       </td><td>MS</td><td>USA</td><td>33.93011</td><td> -89.34285</td></tr>\n",
       "\t<tr><th scope=row>12</th><td>04Y</td><td>Hawley Municipal    </td><td>Hawley          </td><td>MN</td><td>USA</td><td>46.88385</td><td> -96.35090</td></tr>\n",
       "</tbody>\n",
       "</table>\n"
      ],
      "text/latex": [
       "A data.frame: 12 x 7\n",
       "\\begin{tabular}{r|lllllll}\n",
       "  & iata & airport & city & state & country & lat & long\\\\\n",
       "  & <chr> & <chr> & <chr> & <chr> & <chr> & <dbl> & <dbl>\\\\\n",
       "\\hline\n",
       "\t1 & 00M & Thigpen              & Bay Springs      & MS & USA & 31.95376 &  -89.23450\\\\\n",
       "\t2 & 00R & Livingston Municipal & Livingston       & TX & USA & 30.68586 &  -95.01793\\\\\n",
       "\t3 & 00V & Meadow Lake          & Colorado Springs & CO & USA & 38.94575 & -104.56989\\\\\n",
       "\t4 & 01G & Perry-Warsaw         & Perry            & NY & USA & 42.74135 &  -78.05208\\\\\n",
       "\t5 & 01J & Hilliard Airpark     & Hilliard         & FL & USA & 30.68801 &  -81.90594\\\\\n",
       "\t6 & 01M & Tishomingo County    & Belmont          & MS & USA & 34.49167 &  -88.20111\\\\\n",
       "\t7 & 02A & Gragg-Wade           & Clanton          & AL & USA & 32.85049 &  -86.61145\\\\\n",
       "\t8 & 02C & Capitol              & Brookfield       & WI & USA & 43.08751 &  -88.17787\\\\\n",
       "\t9 & 02G & Columbiana County    & East Liverpool   & OH & USA & 40.67331 &  -80.64141\\\\\n",
       "\t10 & 03D & Memphis Memorial     & Memphis          & MO & USA & 40.44726 &  -92.22696\\\\\n",
       "\t11 & 04M & Calhoun County       & Pittsboro        & MS & USA & 33.93011 &  -89.34285\\\\\n",
       "\t12 & 04Y & Hawley Municipal     & Hawley           & MN & USA & 46.88385 &  -96.35090\\\\\n",
       "\\end{tabular}\n"
      ],
      "text/markdown": [
       "\n",
       "A data.frame: 12 x 7\n",
       "\n",
       "| <!--/--> | iata &lt;chr&gt; | airport &lt;chr&gt; | city &lt;chr&gt; | state &lt;chr&gt; | country &lt;chr&gt; | lat &lt;dbl&gt; | long &lt;dbl&gt; |\n",
       "|---|---|---|---|---|---|---|---|\n",
       "| 1 | 00M | Thigpen              | Bay Springs      | MS | USA | 31.95376 |  -89.23450 |\n",
       "| 2 | 00R | Livingston Municipal | Livingston       | TX | USA | 30.68586 |  -95.01793 |\n",
       "| 3 | 00V | Meadow Lake          | Colorado Springs | CO | USA | 38.94575 | -104.56989 |\n",
       "| 4 | 01G | Perry-Warsaw         | Perry            | NY | USA | 42.74135 |  -78.05208 |\n",
       "| 5 | 01J | Hilliard Airpark     | Hilliard         | FL | USA | 30.68801 |  -81.90594 |\n",
       "| 6 | 01M | Tishomingo County    | Belmont          | MS | USA | 34.49167 |  -88.20111 |\n",
       "| 7 | 02A | Gragg-Wade           | Clanton          | AL | USA | 32.85049 |  -86.61145 |\n",
       "| 8 | 02C | Capitol              | Brookfield       | WI | USA | 43.08751 |  -88.17787 |\n",
       "| 9 | 02G | Columbiana County    | East Liverpool   | OH | USA | 40.67331 |  -80.64141 |\n",
       "| 10 | 03D | Memphis Memorial     | Memphis          | MO | USA | 40.44726 |  -92.22696 |\n",
       "| 11 | 04M | Calhoun County       | Pittsboro        | MS | USA | 33.93011 |  -89.34285 |\n",
       "| 12 | 04Y | Hawley Municipal     | Hawley           | MN | USA | 46.88385 |  -96.35090 |\n",
       "\n"
      ],
      "text/plain": [
       "   iata airport              city             state country lat      long      \n",
       "1  00M  Thigpen              Bay Springs      MS    USA     31.95376  -89.23450\n",
       "2  00R  Livingston Municipal Livingston       TX    USA     30.68586  -95.01793\n",
       "3  00V  Meadow Lake          Colorado Springs CO    USA     38.94575 -104.56989\n",
       "4  01G  Perry-Warsaw         Perry            NY    USA     42.74135  -78.05208\n",
       "5  01J  Hilliard Airpark     Hilliard         FL    USA     30.68801  -81.90594\n",
       "6  01M  Tishomingo County    Belmont          MS    USA     34.49167  -88.20111\n",
       "7  02A  Gragg-Wade           Clanton          AL    USA     32.85049  -86.61145\n",
       "8  02C  Capitol              Brookfield       WI    USA     43.08751  -88.17787\n",
       "9  02G  Columbiana County    East Liverpool   OH    USA     40.67331  -80.64141\n",
       "10 03D  Memphis Memorial     Memphis          MO    USA     40.44726  -92.22696\n",
       "11 04M  Calhoun County       Pittsboro        MS    USA     33.93011  -89.34285\n",
       "12 04Y  Hawley Municipal     Hawley           MN    USA     46.88385  -96.35090"
      ]
     },
     "metadata": {},
     "output_type": "display_data"
    }
   ],
   "source": [
    "head(myDF, n=12)"
   ]
  },
  {
   "cell_type": "code",
   "execution_count": null,
   "id": "a566d687-6443-4d2f-bde1-93c97a213c2f",
   "metadata": {
    "vscode": {
     "languageId": "r"
    }
   },
   "outputs": [],
   "source": [
    "myIndyDF <- subset(myDF, state==\"IN\")"
   ]
  },
  {
   "cell_type": "code",
   "execution_count": null,
   "id": "4bb5c3cb-e07f-49b1-9231-a7ac1aaf2eac",
   "metadata": {
    "vscode": {
     "languageId": "r"
    }
   },
   "outputs": [
    {
     "data": {
      "text/html": [
       "<table class=\"dataframe\">\n",
       "<caption>A data.frame: 6 x 7</caption>\n",
       "<thead>\n",
       "\t<tr><th></th><th scope=col>iata</th><th scope=col>airport</th><th scope=col>city</th><th scope=col>state</th><th scope=col>country</th><th scope=col>lat</th><th scope=col>long</th></tr>\n",
       "\t<tr><th></th><th scope=col>&lt;chr&gt;</th><th scope=col>&lt;chr&gt;</th><th scope=col>&lt;chr&gt;</th><th scope=col>&lt;chr&gt;</th><th scope=col>&lt;chr&gt;</th><th scope=col>&lt;dbl&gt;</th><th scope=col>&lt;dbl&gt;</th></tr>\n",
       "</thead>\n",
       "<tbody>\n",
       "\t<tr><th scope=row>13</th><td>05C</td><td>Griffith-Merrillville </td><td>Griffith   </td><td>IN</td><td>USA</td><td>41.51962</td><td>-87.40109</td></tr>\n",
       "\t<tr><th scope=row>22</th><td>07C</td><td>Dekalb County         </td><td>Auburn     </td><td>IN</td><td>USA</td><td>41.30717</td><td>-85.06433</td></tr>\n",
       "\t<tr><th scope=row>163</th><td>1I9</td><td>Delphi Municipal      </td><td>Delphi     </td><td>IN</td><td>USA</td><td>40.54281</td><td>-86.68167</td></tr>\n",
       "\t<tr><th scope=row>437</th><td>4I7</td><td>Putnam County         </td><td>Greencastle</td><td>IN</td><td>USA</td><td>39.63360</td><td>-86.81383</td></tr>\n",
       "\t<tr><th scope=row>478</th><td>50I</td><td>Kentland Municipal    </td><td>Kentland   </td><td>IN</td><td>USA</td><td>40.75873</td><td>-87.42822</td></tr>\n",
       "\t<tr><th scope=row>515</th><td>5I4</td><td>Sheridan              </td><td>Sheridan   </td><td>IN</td><td>USA</td><td>40.17793</td><td>-86.21730</td></tr>\n",
       "</tbody>\n",
       "</table>\n"
      ],
      "text/latex": [
       "A data.frame: 6 x 7\n",
       "\\begin{tabular}{r|lllllll}\n",
       "  & iata & airport & city & state & country & lat & long\\\\\n",
       "  & <chr> & <chr> & <chr> & <chr> & <chr> & <dbl> & <dbl>\\\\\n",
       "\\hline\n",
       "\t13 & 05C & Griffith-Merrillville  & Griffith    & IN & USA & 41.51962 & -87.40109\\\\\n",
       "\t22 & 07C & Dekalb County          & Auburn      & IN & USA & 41.30717 & -85.06433\\\\\n",
       "\t163 & 1I9 & Delphi Municipal       & Delphi      & IN & USA & 40.54281 & -86.68167\\\\\n",
       "\t437 & 4I7 & Putnam County          & Greencastle & IN & USA & 39.63360 & -86.81383\\\\\n",
       "\t478 & 50I & Kentland Municipal     & Kentland    & IN & USA & 40.75873 & -87.42822\\\\\n",
       "\t515 & 5I4 & Sheridan               & Sheridan    & IN & USA & 40.17793 & -86.21730\\\\\n",
       "\\end{tabular}\n"
      ],
      "text/markdown": [
       "\n",
       "A data.frame: 6 x 7\n",
       "\n",
       "| <!--/--> | iata &lt;chr&gt; | airport &lt;chr&gt; | city &lt;chr&gt; | state &lt;chr&gt; | country &lt;chr&gt; | lat &lt;dbl&gt; | long &lt;dbl&gt; |\n",
       "|---|---|---|---|---|---|---|---|\n",
       "| 13 | 05C | Griffith-Merrillville  | Griffith    | IN | USA | 41.51962 | -87.40109 |\n",
       "| 22 | 07C | Dekalb County          | Auburn      | IN | USA | 41.30717 | -85.06433 |\n",
       "| 163 | 1I9 | Delphi Municipal       | Delphi      | IN | USA | 40.54281 | -86.68167 |\n",
       "| 437 | 4I7 | Putnam County          | Greencastle | IN | USA | 39.63360 | -86.81383 |\n",
       "| 478 | 50I | Kentland Municipal     | Kentland    | IN | USA | 40.75873 | -87.42822 |\n",
       "| 515 | 5I4 | Sheridan               | Sheridan    | IN | USA | 40.17793 | -86.21730 |\n",
       "\n"
      ],
      "text/plain": [
       "    iata airport                city        state country lat      long     \n",
       "13  05C  Griffith-Merrillville  Griffith    IN    USA     41.51962 -87.40109\n",
       "22  07C  Dekalb County          Auburn      IN    USA     41.30717 -85.06433\n",
       "163 1I9  Delphi Municipal       Delphi      IN    USA     40.54281 -86.68167\n",
       "437 4I7  Putnam County          Greencastle IN    USA     39.63360 -86.81383\n",
       "478 50I  Kentland Municipal     Kentland    IN    USA     40.75873 -87.42822\n",
       "515 5I4  Sheridan               Sheridan    IN    USA     40.17793 -86.21730"
      ]
     },
     "metadata": {},
     "output_type": "display_data"
    }
   ],
   "source": [
    "head(myIndyDF)"
   ]
  },
  {
   "cell_type": "code",
   "execution_count": null,
   "id": "1b088781-7384-4309-92f6-51bbd4e4179e",
   "metadata": {
    "vscode": {
     "languageId": "r"
    }
   },
   "outputs": [
    {
     "data": {
      "text/html": [
       "<table class=\"dataframe\">\n",
       "<caption>A data.frame: 10 x 7</caption>\n",
       "<thead>\n",
       "\t<tr><th></th><th scope=col>iata</th><th scope=col>airport</th><th scope=col>city</th><th scope=col>state</th><th scope=col>country</th><th scope=col>lat</th><th scope=col>long</th></tr>\n",
       "\t<tr><th></th><th scope=col>&lt;chr&gt;</th><th scope=col>&lt;chr&gt;</th><th scope=col>&lt;chr&gt;</th><th scope=col>&lt;chr&gt;</th><th scope=col>&lt;chr&gt;</th><th scope=col>&lt;dbl&gt;</th><th scope=col>&lt;dbl&gt;</th></tr>\n",
       "</thead>\n",
       "<tbody>\n",
       "\t<tr><th scope=row>13</th><td>05C</td><td>Griffith-Merrillville   </td><td>Griffith   </td><td>IN</td><td>USA</td><td>41.51962</td><td>-87.40109</td></tr>\n",
       "\t<tr><th scope=row>22</th><td>07C</td><td>Dekalb County           </td><td>Auburn     </td><td>IN</td><td>USA</td><td>41.30717</td><td>-85.06433</td></tr>\n",
       "\t<tr><th scope=row>163</th><td>1I9</td><td>Delphi Municipal        </td><td>Delphi     </td><td>IN</td><td>USA</td><td>40.54281</td><td>-86.68167</td></tr>\n",
       "\t<tr><th scope=row>437</th><td>4I7</td><td>Putnam County           </td><td>Greencastle</td><td>IN</td><td>USA</td><td>39.63360</td><td>-86.81383</td></tr>\n",
       "\t<tr><th scope=row>478</th><td>50I</td><td>Kentland Municipal      </td><td>Kentland   </td><td>IN</td><td>USA</td><td>40.75873</td><td>-87.42822</td></tr>\n",
       "\t<tr><th scope=row>515</th><td>5I4</td><td>Sheridan                </td><td>Sheridan   </td><td>IN</td><td>USA</td><td>40.17793</td><td>-86.21730</td></tr>\n",
       "\t<tr><th scope=row>803</th><td>AID</td><td>Anderson Municipal      </td><td>Anderson   </td><td>IN</td><td>USA</td><td>40.10862</td><td>-85.61299</td></tr>\n",
       "\t<tr><th scope=row>844</th><td>ANQ</td><td>Steuben County-Tri State</td><td>Angola     </td><td>IN</td><td>USA</td><td>41.63970</td><td>-85.08349</td></tr>\n",
       "\t<tr><th scope=row>877</th><td>ASW</td><td>Warsaw Municipal        </td><td>Warsaw     </td><td>IN</td><td>USA</td><td>41.27470</td><td>-85.84006</td></tr>\n",
       "\t<tr><th scope=row>919</th><td>BAK</td><td>Columbus Municipal      </td><td>Columbus   </td><td>IN</td><td>USA</td><td>39.26192</td><td>-85.89635</td></tr>\n",
       "</tbody>\n",
       "</table>\n"
      ],
      "text/latex": [
       "A data.frame: 10 x 7\n",
       "\\begin{tabular}{r|lllllll}\n",
       "  & iata & airport & city & state & country & lat & long\\\\\n",
       "  & <chr> & <chr> & <chr> & <chr> & <chr> & <dbl> & <dbl>\\\\\n",
       "\\hline\n",
       "\t13 & 05C & Griffith-Merrillville    & Griffith    & IN & USA & 41.51962 & -87.40109\\\\\n",
       "\t22 & 07C & Dekalb County            & Auburn      & IN & USA & 41.30717 & -85.06433\\\\\n",
       "\t163 & 1I9 & Delphi Municipal         & Delphi      & IN & USA & 40.54281 & -86.68167\\\\\n",
       "\t437 & 4I7 & Putnam County            & Greencastle & IN & USA & 39.63360 & -86.81383\\\\\n",
       "\t478 & 50I & Kentland Municipal       & Kentland    & IN & USA & 40.75873 & -87.42822\\\\\n",
       "\t515 & 5I4 & Sheridan                 & Sheridan    & IN & USA & 40.17793 & -86.21730\\\\\n",
       "\t803 & AID & Anderson Municipal       & Anderson    & IN & USA & 40.10862 & -85.61299\\\\\n",
       "\t844 & ANQ & Steuben County-Tri State & Angola      & IN & USA & 41.63970 & -85.08349\\\\\n",
       "\t877 & ASW & Warsaw Municipal         & Warsaw      & IN & USA & 41.27470 & -85.84006\\\\\n",
       "\t919 & BAK & Columbus Municipal       & Columbus    & IN & USA & 39.26192 & -85.89635\\\\\n",
       "\\end{tabular}\n"
      ],
      "text/markdown": [
       "\n",
       "A data.frame: 10 x 7\n",
       "\n",
       "| <!--/--> | iata &lt;chr&gt; | airport &lt;chr&gt; | city &lt;chr&gt; | state &lt;chr&gt; | country &lt;chr&gt; | lat &lt;dbl&gt; | long &lt;dbl&gt; |\n",
       "|---|---|---|---|---|---|---|---|\n",
       "| 13 | 05C | Griffith-Merrillville    | Griffith    | IN | USA | 41.51962 | -87.40109 |\n",
       "| 22 | 07C | Dekalb County            | Auburn      | IN | USA | 41.30717 | -85.06433 |\n",
       "| 163 | 1I9 | Delphi Municipal         | Delphi      | IN | USA | 40.54281 | -86.68167 |\n",
       "| 437 | 4I7 | Putnam County            | Greencastle | IN | USA | 39.63360 | -86.81383 |\n",
       "| 478 | 50I | Kentland Municipal       | Kentland    | IN | USA | 40.75873 | -87.42822 |\n",
       "| 515 | 5I4 | Sheridan                 | Sheridan    | IN | USA | 40.17793 | -86.21730 |\n",
       "| 803 | AID | Anderson Municipal       | Anderson    | IN | USA | 40.10862 | -85.61299 |\n",
       "| 844 | ANQ | Steuben County-Tri State | Angola      | IN | USA | 41.63970 | -85.08349 |\n",
       "| 877 | ASW | Warsaw Municipal         | Warsaw      | IN | USA | 41.27470 | -85.84006 |\n",
       "| 919 | BAK | Columbus Municipal       | Columbus    | IN | USA | 39.26192 | -85.89635 |\n",
       "\n"
      ],
      "text/plain": [
       "    iata airport                  city        state country lat      long     \n",
       "13  05C  Griffith-Merrillville    Griffith    IN    USA     41.51962 -87.40109\n",
       "22  07C  Dekalb County            Auburn      IN    USA     41.30717 -85.06433\n",
       "163 1I9  Delphi Municipal         Delphi      IN    USA     40.54281 -86.68167\n",
       "437 4I7  Putnam County            Greencastle IN    USA     39.63360 -86.81383\n",
       "478 50I  Kentland Municipal       Kentland    IN    USA     40.75873 -87.42822\n",
       "515 5I4  Sheridan                 Sheridan    IN    USA     40.17793 -86.21730\n",
       "803 AID  Anderson Municipal       Anderson    IN    USA     40.10862 -85.61299\n",
       "844 ANQ  Steuben County-Tri State Angola      IN    USA     41.63970 -85.08349\n",
       "877 ASW  Warsaw Municipal         Warsaw      IN    USA     41.27470 -85.84006\n",
       "919 BAK  Columbus Municipal       Columbus    IN    USA     39.26192 -85.89635"
      ]
     },
     "metadata": {},
     "output_type": "display_data"
    }
   ],
   "source": [
    "head(myIndyDF, n=10)   # This will show us the first 10 airports in Indiana"
   ]
  },
  {
   "cell_type": "code",
   "execution_count": null,
   "id": "fffb3888-c6e7-479f-b89a-36030b418069",
   "metadata": {
    "vscode": {
     "languageId": "r"
    }
   },
   "outputs": [],
   "source": [
    "dim(myDF)     # This is showing us that we had 3376 rows of data and 7 columns in the original dataset "
   ]
  },
  {
   "cell_type": "code",
   "execution_count": null,
   "id": "83b7423c-b16d-47cf-9994-329ccf72cf18",
   "metadata": {
    "vscode": {
     "languageId": "r"
    }
   },
   "outputs": [],
   "source": [
    "dim(myIndyDF)    # This is showing that we have 65 rows and 7 columns of data containing Indiana in the data frame "
   ]
  },
  {
   "cell_type": "markdown",
   "id": "14dc22d4-ddc3-41cc-a91a-cb0025bc0c80",
   "metadata": {},
   "source": [
    "In this question I learned about how to find the dimension fo the data field and how it can save you a lot of time. I also learned how to find specific data frames.\n",
    "\n",
    "- there are 65 airports in Indiana\n",
    "  "
   ]
  },
  {
   "cell_type": "markdown",
   "id": "8e586edd-ff26-4ce2-8f6b-2424b26f2929",
   "metadata": {},
   "source": [
    "## Question 3"
   ]
  },
  {
   "cell_type": "code",
   "execution_count": null,
   "id": "bbe0f40d-9655-4653-9ca8-886bdb61cb91",
   "metadata": {
    "vscode": {
     "languageId": "r"
    }
   },
   "outputs": [],
   "source": [
    "library(data.table)"
   ]
  },
  {
   "cell_type": "code",
   "execution_count": null,
   "id": "0483295b-e5ed-44a8-b217-522cf020cc23",
   "metadata": {
    "vscode": {
     "languageId": "r"
    }
   },
   "outputs": [],
   "source": [
    "options(repr.matrix.max.cols=50)   # This is allowing us to see 50 columns and make the data more managable"
   ]
  },
  {
   "cell_type": "code",
   "execution_count": null,
   "id": "cf38b999-4b30-4405-a9c3-cf2df69e0f2b",
   "metadata": {
    "vscode": {
     "languageId": "r"
    }
   },
   "outputs": [],
   "source": [
    "myDF <- fread(\"/anvil/projects/tdm/data/flights/subset/2007.csv\")"
   ]
  },
  {
   "cell_type": "code",
   "execution_count": null,
   "id": "0ffd5487-c0d3-43e3-b02d-6e027167e3ad",
   "metadata": {
    "vscode": {
     "languageId": "r"
    }
   },
   "outputs": [
    {
     "data": {
      "text/html": [
       "<table class=\"dataframe\">\n",
       "<caption>A data.table: 6 x 29</caption>\n",
       "<thead>\n",
       "\t<tr><th scope=col>Year</th><th scope=col>Month</th><th scope=col>DayofMonth</th><th scope=col>DayOfWeek</th><th scope=col>DepTime</th><th scope=col>CRSDepTime</th><th scope=col>ArrTime</th><th scope=col>CRSArrTime</th><th scope=col>UniqueCarrier</th><th scope=col>FlightNum</th><th scope=col>TailNum</th><th scope=col>ActualElapsedTime</th><th scope=col>CRSElapsedTime</th><th scope=col>AirTime</th><th scope=col>ArrDelay</th><th scope=col>DepDelay</th><th scope=col>Origin</th><th scope=col>Dest</th><th scope=col>Distance</th><th scope=col>TaxiIn</th><th scope=col>TaxiOut</th><th scope=col>Cancelled</th><th scope=col>CancellationCode</th><th scope=col>Diverted</th><th scope=col>CarrierDelay</th><th scope=col>WeatherDelay</th><th scope=col>NASDelay</th><th scope=col>SecurityDelay</th><th scope=col>LateAircraftDelay</th></tr>\n",
       "\t<tr><th scope=col>&lt;int&gt;</th><th scope=col>&lt;int&gt;</th><th scope=col>&lt;int&gt;</th><th scope=col>&lt;int&gt;</th><th scope=col>&lt;int&gt;</th><th scope=col>&lt;int&gt;</th><th scope=col>&lt;int&gt;</th><th scope=col>&lt;int&gt;</th><th scope=col>&lt;chr&gt;</th><th scope=col>&lt;int&gt;</th><th scope=col>&lt;chr&gt;</th><th scope=col>&lt;int&gt;</th><th scope=col>&lt;int&gt;</th><th scope=col>&lt;int&gt;</th><th scope=col>&lt;int&gt;</th><th scope=col>&lt;int&gt;</th><th scope=col>&lt;chr&gt;</th><th scope=col>&lt;chr&gt;</th><th scope=col>&lt;int&gt;</th><th scope=col>&lt;int&gt;</th><th scope=col>&lt;int&gt;</th><th scope=col>&lt;int&gt;</th><th scope=col>&lt;chr&gt;</th><th scope=col>&lt;int&gt;</th><th scope=col>&lt;int&gt;</th><th scope=col>&lt;int&gt;</th><th scope=col>&lt;int&gt;</th><th scope=col>&lt;int&gt;</th><th scope=col>&lt;int&gt;</th></tr>\n",
       "</thead>\n",
       "<tbody>\n",
       "\t<tr><td>2007</td><td>1</td><td>1</td><td>1</td><td>1232</td><td>1225</td><td>1341</td><td>1340</td><td>WN</td><td>2891</td><td>N351  </td><td>69</td><td>75</td><td>54</td><td> 1</td><td> 7</td><td>SMF</td><td>ONT</td><td>389</td><td>4</td><td>11</td><td>0</td><td></td><td>0</td><td> 0</td><td>0</td><td>0</td><td>0</td><td> 0</td></tr>\n",
       "\t<tr><td>2007</td><td>1</td><td>1</td><td>1</td><td>1918</td><td>1905</td><td>2043</td><td>2035</td><td>WN</td><td> 462</td><td>N370  </td><td>85</td><td>90</td><td>74</td><td> 8</td><td>13</td><td>SMF</td><td>PDX</td><td>479</td><td>5</td><td> 6</td><td>0</td><td></td><td>0</td><td> 0</td><td>0</td><td>0</td><td>0</td><td> 0</td></tr>\n",
       "\t<tr><td>2007</td><td>1</td><td>1</td><td>1</td><td>2206</td><td>2130</td><td>2334</td><td>2300</td><td>WN</td><td>1229</td><td>N685  </td><td>88</td><td>90</td><td>73</td><td>34</td><td>36</td><td>SMF</td><td>PDX</td><td>479</td><td>6</td><td> 9</td><td>0</td><td></td><td>0</td><td> 3</td><td>0</td><td>0</td><td>0</td><td>31</td></tr>\n",
       "\t<tr><td>2007</td><td>1</td><td>1</td><td>1</td><td>1230</td><td>1200</td><td>1356</td><td>1330</td><td>WN</td><td>1355</td><td>N364  </td><td>86</td><td>90</td><td>75</td><td>26</td><td>30</td><td>SMF</td><td>PDX</td><td>479</td><td>3</td><td> 8</td><td>0</td><td></td><td>0</td><td>23</td><td>0</td><td>0</td><td>0</td><td> 3</td></tr>\n",
       "\t<tr><td>2007</td><td>1</td><td>1</td><td>1</td><td> 831</td><td> 830</td><td> 957</td><td>1000</td><td>WN</td><td>2278</td><td>N480  </td><td>86</td><td>90</td><td>74</td><td>-3</td><td> 1</td><td>SMF</td><td>PDX</td><td>479</td><td>3</td><td> 9</td><td>0</td><td></td><td>0</td><td> 0</td><td>0</td><td>0</td><td>0</td><td> 0</td></tr>\n",
       "\t<tr><td>2007</td><td>1</td><td>1</td><td>1</td><td>1430</td><td>1420</td><td>1553</td><td>1550</td><td>WN</td><td>2386</td><td>N611SW</td><td>83</td><td>90</td><td>74</td><td> 3</td><td>10</td><td>SMF</td><td>PDX</td><td>479</td><td>2</td><td> 7</td><td>0</td><td></td><td>0</td><td> 0</td><td>0</td><td>0</td><td>0</td><td> 0</td></tr>\n",
       "</tbody>\n",
       "</table>\n"
      ],
      "text/latex": [
       "A data.table: 6 x 29\n",
       "\\begin{tabular}{lllllllllllllllllllllllllllll}\n",
       " Year & Month & DayofMonth & DayOfWeek & DepTime & CRSDepTime & ArrTime & CRSArrTime & UniqueCarrier & FlightNum & TailNum & ActualElapsedTime & CRSElapsedTime & AirTime & ArrDelay & DepDelay & Origin & Dest & Distance & TaxiIn & TaxiOut & Cancelled & CancellationCode & Diverted & CarrierDelay & WeatherDelay & NASDelay & SecurityDelay & LateAircraftDelay\\\\\n",
       " <int> & <int> & <int> & <int> & <int> & <int> & <int> & <int> & <chr> & <int> & <chr> & <int> & <int> & <int> & <int> & <int> & <chr> & <chr> & <int> & <int> & <int> & <int> & <chr> & <int> & <int> & <int> & <int> & <int> & <int>\\\\\n",
       "\\hline\n",
       "\t 2007 & 1 & 1 & 1 & 1232 & 1225 & 1341 & 1340 & WN & 2891 & N351   & 69 & 75 & 54 &  1 &  7 & SMF & ONT & 389 & 4 & 11 & 0 &  & 0 &  0 & 0 & 0 & 0 &  0\\\\\n",
       "\t 2007 & 1 & 1 & 1 & 1918 & 1905 & 2043 & 2035 & WN &  462 & N370   & 85 & 90 & 74 &  8 & 13 & SMF & PDX & 479 & 5 &  6 & 0 &  & 0 &  0 & 0 & 0 & 0 &  0\\\\\n",
       "\t 2007 & 1 & 1 & 1 & 2206 & 2130 & 2334 & 2300 & WN & 1229 & N685   & 88 & 90 & 73 & 34 & 36 & SMF & PDX & 479 & 6 &  9 & 0 &  & 0 &  3 & 0 & 0 & 0 & 31\\\\\n",
       "\t 2007 & 1 & 1 & 1 & 1230 & 1200 & 1356 & 1330 & WN & 1355 & N364   & 86 & 90 & 75 & 26 & 30 & SMF & PDX & 479 & 3 &  8 & 0 &  & 0 & 23 & 0 & 0 & 0 &  3\\\\\n",
       "\t 2007 & 1 & 1 & 1 &  831 &  830 &  957 & 1000 & WN & 2278 & N480   & 86 & 90 & 74 & -3 &  1 & SMF & PDX & 479 & 3 &  9 & 0 &  & 0 &  0 & 0 & 0 & 0 &  0\\\\\n",
       "\t 2007 & 1 & 1 & 1 & 1430 & 1420 & 1553 & 1550 & WN & 2386 & N611SW & 83 & 90 & 74 &  3 & 10 & SMF & PDX & 479 & 2 &  7 & 0 &  & 0 &  0 & 0 & 0 & 0 &  0\\\\\n",
       "\\end{tabular}\n"
      ],
      "text/markdown": [
       "\n",
       "A data.table: 6 x 29\n",
       "\n",
       "| Year &lt;int&gt; | Month &lt;int&gt; | DayofMonth &lt;int&gt; | DayOfWeek &lt;int&gt; | DepTime &lt;int&gt; | CRSDepTime &lt;int&gt; | ArrTime &lt;int&gt; | CRSArrTime &lt;int&gt; | UniqueCarrier &lt;chr&gt; | FlightNum &lt;int&gt; | TailNum &lt;chr&gt; | ActualElapsedTime &lt;int&gt; | CRSElapsedTime &lt;int&gt; | AirTime &lt;int&gt; | ArrDelay &lt;int&gt; | DepDelay &lt;int&gt; | Origin &lt;chr&gt; | Dest &lt;chr&gt; | Distance &lt;int&gt; | TaxiIn &lt;int&gt; | TaxiOut &lt;int&gt; | Cancelled &lt;int&gt; | CancellationCode &lt;chr&gt; | Diverted &lt;int&gt; | CarrierDelay &lt;int&gt; | WeatherDelay &lt;int&gt; | NASDelay &lt;int&gt; | SecurityDelay &lt;int&gt; | LateAircraftDelay &lt;int&gt; |\n",
       "|---|---|---|---|---|---|---|---|---|---|---|---|---|---|---|---|---|---|---|---|---|---|---|---|---|---|---|---|---|\n",
       "| 2007 | 1 | 1 | 1 | 1232 | 1225 | 1341 | 1340 | WN | 2891 | N351   | 69 | 75 | 54 |  1 |  7 | SMF | ONT | 389 | 4 | 11 | 0 | <!----> | 0 |  0 | 0 | 0 | 0 |  0 |\n",
       "| 2007 | 1 | 1 | 1 | 1918 | 1905 | 2043 | 2035 | WN |  462 | N370   | 85 | 90 | 74 |  8 | 13 | SMF | PDX | 479 | 5 |  6 | 0 | <!----> | 0 |  0 | 0 | 0 | 0 |  0 |\n",
       "| 2007 | 1 | 1 | 1 | 2206 | 2130 | 2334 | 2300 | WN | 1229 | N685   | 88 | 90 | 73 | 34 | 36 | SMF | PDX | 479 | 6 |  9 | 0 | <!----> | 0 |  3 | 0 | 0 | 0 | 31 |\n",
       "| 2007 | 1 | 1 | 1 | 1230 | 1200 | 1356 | 1330 | WN | 1355 | N364   | 86 | 90 | 75 | 26 | 30 | SMF | PDX | 479 | 3 |  8 | 0 | <!----> | 0 | 23 | 0 | 0 | 0 |  3 |\n",
       "| 2007 | 1 | 1 | 1 |  831 |  830 |  957 | 1000 | WN | 2278 | N480   | 86 | 90 | 74 | -3 |  1 | SMF | PDX | 479 | 3 |  9 | 0 | <!----> | 0 |  0 | 0 | 0 | 0 |  0 |\n",
       "| 2007 | 1 | 1 | 1 | 1430 | 1420 | 1553 | 1550 | WN | 2386 | N611SW | 83 | 90 | 74 |  3 | 10 | SMF | PDX | 479 | 2 |  7 | 0 | <!----> | 0 |  0 | 0 | 0 | 0 |  0 |\n",
       "\n"
      ],
      "text/plain": [
       "  Year Month DayofMonth DayOfWeek DepTime CRSDepTime ArrTime CRSArrTime\n",
       "1 2007 1     1          1         1232    1225       1341    1340      \n",
       "2 2007 1     1          1         1918    1905       2043    2035      \n",
       "3 2007 1     1          1         2206    2130       2334    2300      \n",
       "4 2007 1     1          1         1230    1200       1356    1330      \n",
       "5 2007 1     1          1          831     830        957    1000      \n",
       "6 2007 1     1          1         1430    1420       1553    1550      \n",
       "  UniqueCarrier FlightNum TailNum ActualElapsedTime CRSElapsedTime AirTime\n",
       "1 WN            2891      N351    69                75             54     \n",
       "2 WN             462      N370    85                90             74     \n",
       "3 WN            1229      N685    88                90             73     \n",
       "4 WN            1355      N364    86                90             75     \n",
       "5 WN            2278      N480    86                90             74     \n",
       "6 WN            2386      N611SW  83                90             74     \n",
       "  ArrDelay DepDelay Origin Dest Distance TaxiIn TaxiOut Cancelled\n",
       "1  1        7       SMF    ONT  389      4      11      0        \n",
       "2  8       13       SMF    PDX  479      5       6      0        \n",
       "3 34       36       SMF    PDX  479      6       9      0        \n",
       "4 26       30       SMF    PDX  479      3       8      0        \n",
       "5 -3        1       SMF    PDX  479      3       9      0        \n",
       "6  3       10       SMF    PDX  479      2       7      0        \n",
       "  CancellationCode Diverted CarrierDelay WeatherDelay NASDelay SecurityDelay\n",
       "1                  0         0           0            0        0            \n",
       "2                  0         0           0            0        0            \n",
       "3                  0         3           0            0        0            \n",
       "4                  0        23           0            0        0            \n",
       "5                  0         0           0            0        0            \n",
       "6                  0         0           0            0        0            \n",
       "  LateAircraftDelay\n",
       "1  0               \n",
       "2  0               \n",
       "3 31               \n",
       "4  3               \n",
       "5  0               \n",
       "6  0               "
      ]
     },
     "metadata": {},
     "output_type": "display_data"
    }
   ],
   "source": [
    "head(myDF)"
   ]
  },
  {
   "cell_type": "code",
   "execution_count": null,
   "id": "1ea3881e-a5b9-416a-8d42-20efdc5d2085",
   "metadata": {
    "vscode": {
     "languageId": "r"
    }
   },
   "outputs": [
    {
     "data": {
      "text/html": [
       "<style>\n",
       ".list-inline {list-style: none; margin:0; padding: 0}\n",
       ".list-inline>li {display: inline-block}\n",
       ".list-inline>li:not(:last-child)::after {content: \"\\00b7\"; padding: 0 .5ex}\n",
       "</style>\n",
       "<ol class=list-inline><li>7453215</li><li>29</li></ol>\n"
      ],
      "text/latex": [
       "\\begin{enumerate*}\n",
       "\\item 7453215\n",
       "\\item 29\n",
       "\\end{enumerate*}\n"
      ],
      "text/markdown": [
       "1. 7453215\n",
       "2. 29\n",
       "\n",
       "\n"
      ],
      "text/plain": [
       "[1] 7453215      29"
      ]
     },
     "metadata": {},
     "output_type": "display_data"
    }
   ],
   "source": [
    "dim(myDF)"
   ]
  },
  {
   "cell_type": "code",
   "execution_count": null,
   "id": "3540f95d-2ed5-4623-95dc-afb0e91febd6",
   "metadata": {
    "scrolled": true,
    "vscode": {
     "languageId": "r"
    }
   },
   "outputs": [
    {
     "data": {
      "text/plain": [
       "\n",
       "   BWI    CVG    LGA    JFK    CLT    BOS    MCO    SFO    SLC    EWR    MSP \n",
       "109385 110509 122899 126366 127108 128320 129778 138491 147808 154113 155846 \n",
       "   DTW    LAS    IAH    PHX    LAX    DEN    DFW    ORD    ATL \n",
       "177478 183668 200420 211072 237597 240928 297345 375784 413851 "
      ]
     },
     "metadata": {},
     "output_type": "display_data"
    }
   ],
   "source": [
    "tail(sort(table(myDF$Origin)), n=20)"
   ]
  },
  {
   "cell_type": "markdown",
   "id": "47c6229f-35f7-400c-8366-c442baa5cf47",
   "metadata": {},
   "source": [
    "The 20 most popular airports in terms of origin are BWI, CVG, LGA, JFK, CLT, BOS, MCO, SFO, SLC, EWR, MSP, DTW, LAS, IAH, PHX, LAX, DEN, DFW, ORD, ATL "
   ]
  },
  {
   "cell_type": "markdown",
   "id": "da22f29c-d245-4d2b-9fc1-ca14cb6087d9",
   "metadata": {},
   "source": [
    "## Question 4"
   ]
  },
  {
   "cell_type": "code",
   "execution_count": null,
   "id": "8cffc767-d1c8-4d64-b7dc-f0d2ee8a80d1",
   "metadata": {
    "vscode": {
     "languageId": "r"
    }
   },
   "outputs": [],
   "source": [
    "myDF <- read.csv(\"/anvil/projects/tdm/data/olympics/athlete_events.csv\")"
   ]
  },
  {
   "cell_type": "code",
   "execution_count": null,
   "id": "f151db65-4da7-4b2d-a706-c1db5386e16e",
   "metadata": {
    "vscode": {
     "languageId": "r"
    }
   },
   "outputs": [
    {
     "data": {
      "text/html": [
       "<table class=\"dataframe\">\n",
       "<caption>A data.frame: 6 x 15</caption>\n",
       "<thead>\n",
       "\t<tr><th></th><th scope=col>ID</th><th scope=col>Name</th><th scope=col>Sex</th><th scope=col>Age</th><th scope=col>Height</th><th scope=col>Weight</th><th scope=col>Team</th><th scope=col>NOC</th><th scope=col>Games</th><th scope=col>Year</th><th scope=col>Season</th><th scope=col>City</th><th scope=col>Sport</th><th scope=col>Event</th><th scope=col>Medal</th></tr>\n",
       "\t<tr><th></th><th scope=col>&lt;int&gt;</th><th scope=col>&lt;chr&gt;</th><th scope=col>&lt;chr&gt;</th><th scope=col>&lt;int&gt;</th><th scope=col>&lt;int&gt;</th><th scope=col>&lt;dbl&gt;</th><th scope=col>&lt;chr&gt;</th><th scope=col>&lt;chr&gt;</th><th scope=col>&lt;chr&gt;</th><th scope=col>&lt;int&gt;</th><th scope=col>&lt;chr&gt;</th><th scope=col>&lt;chr&gt;</th><th scope=col>&lt;chr&gt;</th><th scope=col>&lt;chr&gt;</th><th scope=col>&lt;chr&gt;</th></tr>\n",
       "</thead>\n",
       "<tbody>\n",
       "\t<tr><th scope=row>1</th><td>1</td><td>A Dijiang               </td><td>M</td><td>24</td><td>180</td><td>80</td><td>China         </td><td>CHN</td><td>1992 Summer</td><td>1992</td><td>Summer</td><td>Barcelona</td><td>Basketball   </td><td>Basketball Men's Basketball       </td><td>NA  </td></tr>\n",
       "\t<tr><th scope=row>2</th><td>2</td><td>A Lamusi                </td><td>M</td><td>23</td><td>170</td><td>60</td><td>China         </td><td>CHN</td><td>2012 Summer</td><td>2012</td><td>Summer</td><td>London   </td><td>Judo         </td><td>Judo Men's Extra-Lightweight      </td><td>NA  </td></tr>\n",
       "\t<tr><th scope=row>3</th><td>3</td><td>Gunnar Nielsen Aaby     </td><td>M</td><td>24</td><td> NA</td><td>NA</td><td>Denmark       </td><td>DEN</td><td>1920 Summer</td><td>1920</td><td>Summer</td><td>Antwerpen</td><td>Football     </td><td>Football Men's Football           </td><td>NA  </td></tr>\n",
       "\t<tr><th scope=row>4</th><td>4</td><td>Edgar Lindenau Aabye    </td><td>M</td><td>34</td><td> NA</td><td>NA</td><td>Denmark/Sweden</td><td>DEN</td><td>1900 Summer</td><td>1900</td><td>Summer</td><td>Paris    </td><td>Tug-Of-War   </td><td>Tug-Of-War Men's Tug-Of-War       </td><td>Gold</td></tr>\n",
       "\t<tr><th scope=row>5</th><td>5</td><td>Christine Jacoba Aaftink</td><td>F</td><td>21</td><td>185</td><td>82</td><td>Netherlands   </td><td>NED</td><td>1988 Winter</td><td>1988</td><td>Winter</td><td>Calgary  </td><td>Speed Skating</td><td>Speed Skating Women's 500 metres  </td><td>NA  </td></tr>\n",
       "\t<tr><th scope=row>6</th><td>5</td><td>Christine Jacoba Aaftink</td><td>F</td><td>21</td><td>185</td><td>82</td><td>Netherlands   </td><td>NED</td><td>1988 Winter</td><td>1988</td><td>Winter</td><td>Calgary  </td><td>Speed Skating</td><td>Speed Skating Women's 1,000 metres</td><td>NA  </td></tr>\n",
       "</tbody>\n",
       "</table>\n"
      ],
      "text/latex": [
       "A data.frame: 6 x 15\n",
       "\\begin{tabular}{r|lllllllllllllll}\n",
       "  & ID & Name & Sex & Age & Height & Weight & Team & NOC & Games & Year & Season & City & Sport & Event & Medal\\\\\n",
       "  & <int> & <chr> & <chr> & <int> & <int> & <dbl> & <chr> & <chr> & <chr> & <int> & <chr> & <chr> & <chr> & <chr> & <chr>\\\\\n",
       "\\hline\n",
       "\t1 & 1 & A Dijiang                & M & 24 & 180 & 80 & China          & CHN & 1992 Summer & 1992 & Summer & Barcelona & Basketball    & Basketball Men's Basketball        & NA  \\\\\n",
       "\t2 & 2 & A Lamusi                 & M & 23 & 170 & 60 & China          & CHN & 2012 Summer & 2012 & Summer & London    & Judo          & Judo Men's Extra-Lightweight       & NA  \\\\\n",
       "\t3 & 3 & Gunnar Nielsen Aaby      & M & 24 &  NA & NA & Denmark        & DEN & 1920 Summer & 1920 & Summer & Antwerpen & Football      & Football Men's Football            & NA  \\\\\n",
       "\t4 & 4 & Edgar Lindenau Aabye     & M & 34 &  NA & NA & Denmark/Sweden & DEN & 1900 Summer & 1900 & Summer & Paris     & Tug-Of-War    & Tug-Of-War Men's Tug-Of-War        & Gold\\\\\n",
       "\t5 & 5 & Christine Jacoba Aaftink & F & 21 & 185 & 82 & Netherlands    & NED & 1988 Winter & 1988 & Winter & Calgary   & Speed Skating & Speed Skating Women's 500 metres   & NA  \\\\\n",
       "\t6 & 5 & Christine Jacoba Aaftink & F & 21 & 185 & 82 & Netherlands    & NED & 1988 Winter & 1988 & Winter & Calgary   & Speed Skating & Speed Skating Women's 1,000 metres & NA  \\\\\n",
       "\\end{tabular}\n"
      ],
      "text/markdown": [
       "\n",
       "A data.frame: 6 x 15\n",
       "\n",
       "| <!--/--> | ID &lt;int&gt; | Name &lt;chr&gt; | Sex &lt;chr&gt; | Age &lt;int&gt; | Height &lt;int&gt; | Weight &lt;dbl&gt; | Team &lt;chr&gt; | NOC &lt;chr&gt; | Games &lt;chr&gt; | Year &lt;int&gt; | Season &lt;chr&gt; | City &lt;chr&gt; | Sport &lt;chr&gt; | Event &lt;chr&gt; | Medal &lt;chr&gt; |\n",
       "|---|---|---|---|---|---|---|---|---|---|---|---|---|---|---|---|\n",
       "| 1 | 1 | A Dijiang                | M | 24 | 180 | 80 | China          | CHN | 1992 Summer | 1992 | Summer | Barcelona | Basketball    | Basketball Men's Basketball        | NA   |\n",
       "| 2 | 2 | A Lamusi                 | M | 23 | 170 | 60 | China          | CHN | 2012 Summer | 2012 | Summer | London    | Judo          | Judo Men's Extra-Lightweight       | NA   |\n",
       "| 3 | 3 | Gunnar Nielsen Aaby      | M | 24 |  NA | NA | Denmark        | DEN | 1920 Summer | 1920 | Summer | Antwerpen | Football      | Football Men's Football            | NA   |\n",
       "| 4 | 4 | Edgar Lindenau Aabye     | M | 34 |  NA | NA | Denmark/Sweden | DEN | 1900 Summer | 1900 | Summer | Paris     | Tug-Of-War    | Tug-Of-War Men's Tug-Of-War        | Gold |\n",
       "| 5 | 5 | Christine Jacoba Aaftink | F | 21 | 185 | 82 | Netherlands    | NED | 1988 Winter | 1988 | Winter | Calgary   | Speed Skating | Speed Skating Women's 500 metres   | NA   |\n",
       "| 6 | 5 | Christine Jacoba Aaftink | F | 21 | 185 | 82 | Netherlands    | NED | 1988 Winter | 1988 | Winter | Calgary   | Speed Skating | Speed Skating Women's 1,000 metres | NA   |\n",
       "\n"
      ],
      "text/plain": [
       "  ID Name                     Sex Age Height Weight Team           NOC\n",
       "1 1  A Dijiang                M   24  180    80     China          CHN\n",
       "2 2  A Lamusi                 M   23  170    60     China          CHN\n",
       "3 3  Gunnar Nielsen Aaby      M   24   NA    NA     Denmark        DEN\n",
       "4 4  Edgar Lindenau Aabye     M   34   NA    NA     Denmark/Sweden DEN\n",
       "5 5  Christine Jacoba Aaftink F   21  185    82     Netherlands    NED\n",
       "6 5  Christine Jacoba Aaftink F   21  185    82     Netherlands    NED\n",
       "  Games       Year Season City      Sport        \n",
       "1 1992 Summer 1992 Summer Barcelona Basketball   \n",
       "2 2012 Summer 2012 Summer London    Judo         \n",
       "3 1920 Summer 1920 Summer Antwerpen Football     \n",
       "4 1900 Summer 1900 Summer Paris     Tug-Of-War   \n",
       "5 1988 Winter 1988 Winter Calgary   Speed Skating\n",
       "6 1988 Winter 1988 Winter Calgary   Speed Skating\n",
       "  Event                              Medal\n",
       "1 Basketball Men's Basketball        NA   \n",
       "2 Judo Men's Extra-Lightweight       NA   \n",
       "3 Football Men's Football            NA   \n",
       "4 Tug-Of-War Men's Tug-Of-War        Gold \n",
       "5 Speed Skating Women's 500 metres   NA   \n",
       "6 Speed Skating Women's 1,000 metres NA   "
      ]
     },
     "metadata": {},
     "output_type": "display_data"
    }
   ],
   "source": [
    "head(myDF)"
   ]
  },
  {
   "cell_type": "code",
   "execution_count": null,
   "id": "b702a4d6-3acc-4aba-a5b9-43e4e5ce2cfe",
   "metadata": {
    "scrolled": true,
    "vscode": {
     "languageId": "r"
    }
   },
   "outputs": [
    {
     "data": {
      "text/plain": [
       "\n",
       "      Hungary     Australia        Sweden         Japan        Canada \n",
       "         6547          7513          8052          8289          9279 \n",
       "      Germany         Italy Great Britain        France United States \n",
       "         9326         10260         11404         11988         17847 "
      ]
     },
     "metadata": {},
     "output_type": "display_data"
    }
   ],
   "source": [
    "tail(sort(table(myDF$Team)), n=10   # for this problem I applied the tail and sort functions to find the 10 most popular cities."
   ]
  },
  {
   "cell_type": "markdown",
   "id": "0d552245-b4d6-474a-9cc9-fa7b8e674d55",
   "metadata": {},
   "source": [
    "The ten most popular Cities are as follows: Hungary - 6547, Australia - 7513, Sweeden - 8052, Japan - 8289, Canada - 9279, Germany - 9326, Italy - 10260, Great Britain - 11404, France - 11988, United States - 17847"
   ]
  },
  {
   "cell_type": "markdown",
   "id": "88c9cdac-3e92-498f-83fa-e089bfc44ac8",
   "metadata": {},
   "source": [
    "## Question 5"
   ]
  },
  {
   "cell_type": "code",
   "execution_count": null,
   "id": "2d9bc42a-6ded-439d-b388-7f9b5666db08",
   "metadata": {
    "vscode": {
     "languageId": "r"
    }
   },
   "outputs": [
    {
     "data": {
      "text/html": [
       "<table class=\"dataframe\">\n",
       "<caption>A data.table: 6 x 29</caption>\n",
       "<thead>\n",
       "\t<tr><th scope=col>Year</th><th scope=col>Month</th><th scope=col>DayofMonth</th><th scope=col>DayOfWeek</th><th scope=col>DepTime</th><th scope=col>CRSDepTime</th><th scope=col>ArrTime</th><th scope=col>CRSArrTime</th><th scope=col>UniqueCarrier</th><th scope=col>FlightNum</th><th scope=col>TailNum</th><th scope=col>ActualElapsedTime</th><th scope=col>CRSElapsedTime</th><th scope=col>AirTime</th><th scope=col>ArrDelay</th><th scope=col>DepDelay</th><th scope=col>Origin</th><th scope=col>Dest</th><th scope=col>Distance</th><th scope=col>TaxiIn</th><th scope=col>TaxiOut</th><th scope=col>Cancelled</th><th scope=col>CancellationCode</th><th scope=col>Diverted</th><th scope=col>CarrierDelay</th><th scope=col>WeatherDelay</th><th scope=col>NASDelay</th><th scope=col>SecurityDelay</th><th scope=col>LateAircraftDelay</th></tr>\n",
       "\t<tr><th scope=col>&lt;int&gt;</th><th scope=col>&lt;int&gt;</th><th scope=col>&lt;int&gt;</th><th scope=col>&lt;int&gt;</th><th scope=col>&lt;int&gt;</th><th scope=col>&lt;int&gt;</th><th scope=col>&lt;int&gt;</th><th scope=col>&lt;int&gt;</th><th scope=col>&lt;chr&gt;</th><th scope=col>&lt;int&gt;</th><th scope=col>&lt;chr&gt;</th><th scope=col>&lt;int&gt;</th><th scope=col>&lt;int&gt;</th><th scope=col>&lt;int&gt;</th><th scope=col>&lt;int&gt;</th><th scope=col>&lt;int&gt;</th><th scope=col>&lt;chr&gt;</th><th scope=col>&lt;chr&gt;</th><th scope=col>&lt;int&gt;</th><th scope=col>&lt;int&gt;</th><th scope=col>&lt;int&gt;</th><th scope=col>&lt;int&gt;</th><th scope=col>&lt;chr&gt;</th><th scope=col>&lt;int&gt;</th><th scope=col>&lt;int&gt;</th><th scope=col>&lt;int&gt;</th><th scope=col>&lt;int&gt;</th><th scope=col>&lt;int&gt;</th><th scope=col>&lt;int&gt;</th></tr>\n",
       "</thead>\n",
       "<tbody>\n",
       "\t<tr><td>2007</td><td>1</td><td>1</td><td>1</td><td>1232</td><td>1225</td><td>1341</td><td>1340</td><td>WN</td><td>2891</td><td>N351  </td><td>69</td><td>75</td><td>54</td><td> 1</td><td> 7</td><td>SMF</td><td>ONT</td><td>389</td><td>4</td><td>11</td><td>0</td><td></td><td>0</td><td> 0</td><td>0</td><td>0</td><td>0</td><td> 0</td></tr>\n",
       "\t<tr><td>2007</td><td>1</td><td>1</td><td>1</td><td>1918</td><td>1905</td><td>2043</td><td>2035</td><td>WN</td><td> 462</td><td>N370  </td><td>85</td><td>90</td><td>74</td><td> 8</td><td>13</td><td>SMF</td><td>PDX</td><td>479</td><td>5</td><td> 6</td><td>0</td><td></td><td>0</td><td> 0</td><td>0</td><td>0</td><td>0</td><td> 0</td></tr>\n",
       "\t<tr><td>2007</td><td>1</td><td>1</td><td>1</td><td>2206</td><td>2130</td><td>2334</td><td>2300</td><td>WN</td><td>1229</td><td>N685  </td><td>88</td><td>90</td><td>73</td><td>34</td><td>36</td><td>SMF</td><td>PDX</td><td>479</td><td>6</td><td> 9</td><td>0</td><td></td><td>0</td><td> 3</td><td>0</td><td>0</td><td>0</td><td>31</td></tr>\n",
       "\t<tr><td>2007</td><td>1</td><td>1</td><td>1</td><td>1230</td><td>1200</td><td>1356</td><td>1330</td><td>WN</td><td>1355</td><td>N364  </td><td>86</td><td>90</td><td>75</td><td>26</td><td>30</td><td>SMF</td><td>PDX</td><td>479</td><td>3</td><td> 8</td><td>0</td><td></td><td>0</td><td>23</td><td>0</td><td>0</td><td>0</td><td> 3</td></tr>\n",
       "\t<tr><td>2007</td><td>1</td><td>1</td><td>1</td><td> 831</td><td> 830</td><td> 957</td><td>1000</td><td>WN</td><td>2278</td><td>N480  </td><td>86</td><td>90</td><td>74</td><td>-3</td><td> 1</td><td>SMF</td><td>PDX</td><td>479</td><td>3</td><td> 9</td><td>0</td><td></td><td>0</td><td> 0</td><td>0</td><td>0</td><td>0</td><td> 0</td></tr>\n",
       "\t<tr><td>2007</td><td>1</td><td>1</td><td>1</td><td>1430</td><td>1420</td><td>1553</td><td>1550</td><td>WN</td><td>2386</td><td>N611SW</td><td>83</td><td>90</td><td>74</td><td> 3</td><td>10</td><td>SMF</td><td>PDX</td><td>479</td><td>2</td><td> 7</td><td>0</td><td></td><td>0</td><td> 0</td><td>0</td><td>0</td><td>0</td><td> 0</td></tr>\n",
       "</tbody>\n",
       "</table>\n"
      ],
      "text/latex": [
       "A data.table: 6 x 29\n",
       "\\begin{tabular}{lllllllllllllllllllllllllllll}\n",
       " Year & Month & DayofMonth & DayOfWeek & DepTime & CRSDepTime & ArrTime & CRSArrTime & UniqueCarrier & FlightNum & TailNum & ActualElapsedTime & CRSElapsedTime & AirTime & ArrDelay & DepDelay & Origin & Dest & Distance & TaxiIn & TaxiOut & Cancelled & CancellationCode & Diverted & CarrierDelay & WeatherDelay & NASDelay & SecurityDelay & LateAircraftDelay\\\\\n",
       " <int> & <int> & <int> & <int> & <int> & <int> & <int> & <int> & <chr> & <int> & <chr> & <int> & <int> & <int> & <int> & <int> & <chr> & <chr> & <int> & <int> & <int> & <int> & <chr> & <int> & <int> & <int> & <int> & <int> & <int>\\\\\n",
       "\\hline\n",
       "\t 2007 & 1 & 1 & 1 & 1232 & 1225 & 1341 & 1340 & WN & 2891 & N351   & 69 & 75 & 54 &  1 &  7 & SMF & ONT & 389 & 4 & 11 & 0 &  & 0 &  0 & 0 & 0 & 0 &  0\\\\\n",
       "\t 2007 & 1 & 1 & 1 & 1918 & 1905 & 2043 & 2035 & WN &  462 & N370   & 85 & 90 & 74 &  8 & 13 & SMF & PDX & 479 & 5 &  6 & 0 &  & 0 &  0 & 0 & 0 & 0 &  0\\\\\n",
       "\t 2007 & 1 & 1 & 1 & 2206 & 2130 & 2334 & 2300 & WN & 1229 & N685   & 88 & 90 & 73 & 34 & 36 & SMF & PDX & 479 & 6 &  9 & 0 &  & 0 &  3 & 0 & 0 & 0 & 31\\\\\n",
       "\t 2007 & 1 & 1 & 1 & 1230 & 1200 & 1356 & 1330 & WN & 1355 & N364   & 86 & 90 & 75 & 26 & 30 & SMF & PDX & 479 & 3 &  8 & 0 &  & 0 & 23 & 0 & 0 & 0 &  3\\\\\n",
       "\t 2007 & 1 & 1 & 1 &  831 &  830 &  957 & 1000 & WN & 2278 & N480   & 86 & 90 & 74 & -3 &  1 & SMF & PDX & 479 & 3 &  9 & 0 &  & 0 &  0 & 0 & 0 & 0 &  0\\\\\n",
       "\t 2007 & 1 & 1 & 1 & 1430 & 1420 & 1553 & 1550 & WN & 2386 & N611SW & 83 & 90 & 74 &  3 & 10 & SMF & PDX & 479 & 2 &  7 & 0 &  & 0 &  0 & 0 & 0 & 0 &  0\\\\\n",
       "\\end{tabular}\n"
      ],
      "text/markdown": [
       "\n",
       "A data.table: 6 x 29\n",
       "\n",
       "| Year &lt;int&gt; | Month &lt;int&gt; | DayofMonth &lt;int&gt; | DayOfWeek &lt;int&gt; | DepTime &lt;int&gt; | CRSDepTime &lt;int&gt; | ArrTime &lt;int&gt; | CRSArrTime &lt;int&gt; | UniqueCarrier &lt;chr&gt; | FlightNum &lt;int&gt; | TailNum &lt;chr&gt; | ActualElapsedTime &lt;int&gt; | CRSElapsedTime &lt;int&gt; | AirTime &lt;int&gt; | ArrDelay &lt;int&gt; | DepDelay &lt;int&gt; | Origin &lt;chr&gt; | Dest &lt;chr&gt; | Distance &lt;int&gt; | TaxiIn &lt;int&gt; | TaxiOut &lt;int&gt; | Cancelled &lt;int&gt; | CancellationCode &lt;chr&gt; | Diverted &lt;int&gt; | CarrierDelay &lt;int&gt; | WeatherDelay &lt;int&gt; | NASDelay &lt;int&gt; | SecurityDelay &lt;int&gt; | LateAircraftDelay &lt;int&gt; |\n",
       "|---|---|---|---|---|---|---|---|---|---|---|---|---|---|---|---|---|---|---|---|---|---|---|---|---|---|---|---|---|\n",
       "| 2007 | 1 | 1 | 1 | 1232 | 1225 | 1341 | 1340 | WN | 2891 | N351   | 69 | 75 | 54 |  1 |  7 | SMF | ONT | 389 | 4 | 11 | 0 | <!----> | 0 |  0 | 0 | 0 | 0 |  0 |\n",
       "| 2007 | 1 | 1 | 1 | 1918 | 1905 | 2043 | 2035 | WN |  462 | N370   | 85 | 90 | 74 |  8 | 13 | SMF | PDX | 479 | 5 |  6 | 0 | <!----> | 0 |  0 | 0 | 0 | 0 |  0 |\n",
       "| 2007 | 1 | 1 | 1 | 2206 | 2130 | 2334 | 2300 | WN | 1229 | N685   | 88 | 90 | 73 | 34 | 36 | SMF | PDX | 479 | 6 |  9 | 0 | <!----> | 0 |  3 | 0 | 0 | 0 | 31 |\n",
       "| 2007 | 1 | 1 | 1 | 1230 | 1200 | 1356 | 1330 | WN | 1355 | N364   | 86 | 90 | 75 | 26 | 30 | SMF | PDX | 479 | 3 |  8 | 0 | <!----> | 0 | 23 | 0 | 0 | 0 |  3 |\n",
       "| 2007 | 1 | 1 | 1 |  831 |  830 |  957 | 1000 | WN | 2278 | N480   | 86 | 90 | 74 | -3 |  1 | SMF | PDX | 479 | 3 |  9 | 0 | <!----> | 0 |  0 | 0 | 0 | 0 |  0 |\n",
       "| 2007 | 1 | 1 | 1 | 1430 | 1420 | 1553 | 1550 | WN | 2386 | N611SW | 83 | 90 | 74 |  3 | 10 | SMF | PDX | 479 | 2 |  7 | 0 | <!----> | 0 |  0 | 0 | 0 | 0 |  0 |\n",
       "\n"
      ],
      "text/plain": [
       "  Year Month DayofMonth DayOfWeek DepTime CRSDepTime ArrTime CRSArrTime\n",
       "1 2007 1     1          1         1232    1225       1341    1340      \n",
       "2 2007 1     1          1         1918    1905       2043    2035      \n",
       "3 2007 1     1          1         2206    2130       2334    2300      \n",
       "4 2007 1     1          1         1230    1200       1356    1330      \n",
       "5 2007 1     1          1          831     830        957    1000      \n",
       "6 2007 1     1          1         1430    1420       1553    1550      \n",
       "  UniqueCarrier FlightNum TailNum ActualElapsedTime CRSElapsedTime AirTime\n",
       "1 WN            2891      N351    69                75             54     \n",
       "2 WN             462      N370    85                90             74     \n",
       "3 WN            1229      N685    88                90             73     \n",
       "4 WN            1355      N364    86                90             75     \n",
       "5 WN            2278      N480    86                90             74     \n",
       "6 WN            2386      N611SW  83                90             74     \n",
       "  ArrDelay DepDelay Origin Dest Distance TaxiIn TaxiOut Cancelled\n",
       "1  1        7       SMF    ONT  389      4      11      0        \n",
       "2  8       13       SMF    PDX  479      5       6      0        \n",
       "3 34       36       SMF    PDX  479      6       9      0        \n",
       "4 26       30       SMF    PDX  479      3       8      0        \n",
       "5 -3        1       SMF    PDX  479      3       9      0        \n",
       "6  3       10       SMF    PDX  479      2       7      0        \n",
       "  CancellationCode Diverted CarrierDelay WeatherDelay NASDelay SecurityDelay\n",
       "1                  0         0           0            0        0            \n",
       "2                  0         0           0            0        0            \n",
       "3                  0         3           0            0        0            \n",
       "4                  0        23           0            0        0            \n",
       "5                  0         0           0            0        0            \n",
       "6                  0         0           0            0        0            \n",
       "  LateAircraftDelay\n",
       "1  0               \n",
       "2  0               \n",
       "3 31               \n",
       "4  3               \n",
       "5  0               \n",
       "6  0               "
      ]
     },
     "metadata": {},
     "output_type": "display_data"
    },
    {
     "name": "stderr",
     "output_type": "stream",
     "text": [
      "Warning message in dotchart(tail(sort(table(myDF$Origin)), n = 20)):\n",
      "\"'x' is neither a vector nor a matrix: using as.numeric(x)\"\n"
     ]
    },
    {
     "data": {
      "image/png": "[encoded data removed]",
      "text/plain": [
       "plot without title"
      ]
     },
     "metadata": {
      "image/png": {
       "height": 420,
       "width": 420
      }
     },
     "output_type": "display_data"
    }
   ],
   "source": [
    "library(data.table)\n",
    "options(repr.matrix.max.cols=50)\n",
    "myDF <- fread(\"/anvil/projects/tdm/data/flights/subset/2007.csv\")\n",
    "head(myDF)\n",
    "\n",
    "dotchart(tail(sort(table(myDF$Origin)), n=20))"
   ]
  },
  {
   "cell_type": "code",
   "execution_count": null,
   "id": "02746624-7dac-43f7-a3db-80978ceea014",
   "metadata": {
    "vscode": {
     "languageId": "r"
    }
   },
   "outputs": [
    {
     "data": {
      "text/html": [
       "<table class=\"dataframe\">\n",
       "<caption>A data.frame: 6 x 15</caption>\n",
       "<thead>\n",
       "\t<tr><th></th><th scope=col>ID</th><th scope=col>Name</th><th scope=col>Sex</th><th scope=col>Age</th><th scope=col>Height</th><th scope=col>Weight</th><th scope=col>Team</th><th scope=col>NOC</th><th scope=col>Games</th><th scope=col>Year</th><th scope=col>Season</th><th scope=col>City</th><th scope=col>Sport</th><th scope=col>Event</th><th scope=col>Medal</th></tr>\n",
       "\t<tr><th></th><th scope=col>&lt;int&gt;</th><th scope=col>&lt;chr&gt;</th><th scope=col>&lt;chr&gt;</th><th scope=col>&lt;int&gt;</th><th scope=col>&lt;int&gt;</th><th scope=col>&lt;dbl&gt;</th><th scope=col>&lt;chr&gt;</th><th scope=col>&lt;chr&gt;</th><th scope=col>&lt;chr&gt;</th><th scope=col>&lt;int&gt;</th><th scope=col>&lt;chr&gt;</th><th scope=col>&lt;chr&gt;</th><th scope=col>&lt;chr&gt;</th><th scope=col>&lt;chr&gt;</th><th scope=col>&lt;chr&gt;</th></tr>\n",
       "</thead>\n",
       "<tbody>\n",
       "\t<tr><th scope=row>1</th><td>1</td><td>A Dijiang               </td><td>M</td><td>24</td><td>180</td><td>80</td><td>China         </td><td>CHN</td><td>1992 Summer</td><td>1992</td><td>Summer</td><td>Barcelona</td><td>Basketball   </td><td>Basketball Men's Basketball       </td><td>NA  </td></tr>\n",
       "\t<tr><th scope=row>2</th><td>2</td><td>A Lamusi                </td><td>M</td><td>23</td><td>170</td><td>60</td><td>China         </td><td>CHN</td><td>2012 Summer</td><td>2012</td><td>Summer</td><td>London   </td><td>Judo         </td><td>Judo Men's Extra-Lightweight      </td><td>NA  </td></tr>\n",
       "\t<tr><th scope=row>3</th><td>3</td><td>Gunnar Nielsen Aaby     </td><td>M</td><td>24</td><td> NA</td><td>NA</td><td>Denmark       </td><td>DEN</td><td>1920 Summer</td><td>1920</td><td>Summer</td><td>Antwerpen</td><td>Football     </td><td>Football Men's Football           </td><td>NA  </td></tr>\n",
       "\t<tr><th scope=row>4</th><td>4</td><td>Edgar Lindenau Aabye    </td><td>M</td><td>34</td><td> NA</td><td>NA</td><td>Denmark/Sweden</td><td>DEN</td><td>1900 Summer</td><td>1900</td><td>Summer</td><td>Paris    </td><td>Tug-Of-War   </td><td>Tug-Of-War Men's Tug-Of-War       </td><td>Gold</td></tr>\n",
       "\t<tr><th scope=row>5</th><td>5</td><td>Christine Jacoba Aaftink</td><td>F</td><td>21</td><td>185</td><td>82</td><td>Netherlands   </td><td>NED</td><td>1988 Winter</td><td>1988</td><td>Winter</td><td>Calgary  </td><td>Speed Skating</td><td>Speed Skating Women's 500 metres  </td><td>NA  </td></tr>\n",
       "\t<tr><th scope=row>6</th><td>5</td><td>Christine Jacoba Aaftink</td><td>F</td><td>21</td><td>185</td><td>82</td><td>Netherlands   </td><td>NED</td><td>1988 Winter</td><td>1988</td><td>Winter</td><td>Calgary  </td><td>Speed Skating</td><td>Speed Skating Women's 1,000 metres</td><td>NA  </td></tr>\n",
       "</tbody>\n",
       "</table>\n"
      ],
      "text/latex": [
       "A data.frame: 6 x 15\n",
       "\\begin{tabular}{r|lllllllllllllll}\n",
       "  & ID & Name & Sex & Age & Height & Weight & Team & NOC & Games & Year & Season & City & Sport & Event & Medal\\\\\n",
       "  & <int> & <chr> & <chr> & <int> & <int> & <dbl> & <chr> & <chr> & <chr> & <int> & <chr> & <chr> & <chr> & <chr> & <chr>\\\\\n",
       "\\hline\n",
       "\t1 & 1 & A Dijiang                & M & 24 & 180 & 80 & China          & CHN & 1992 Summer & 1992 & Summer & Barcelona & Basketball    & Basketball Men's Basketball        & NA  \\\\\n",
       "\t2 & 2 & A Lamusi                 & M & 23 & 170 & 60 & China          & CHN & 2012 Summer & 2012 & Summer & London    & Judo          & Judo Men's Extra-Lightweight       & NA  \\\\\n",
       "\t3 & 3 & Gunnar Nielsen Aaby      & M & 24 &  NA & NA & Denmark        & DEN & 1920 Summer & 1920 & Summer & Antwerpen & Football      & Football Men's Football            & NA  \\\\\n",
       "\t4 & 4 & Edgar Lindenau Aabye     & M & 34 &  NA & NA & Denmark/Sweden & DEN & 1900 Summer & 1900 & Summer & Paris     & Tug-Of-War    & Tug-Of-War Men's Tug-Of-War        & Gold\\\\\n",
       "\t5 & 5 & Christine Jacoba Aaftink & F & 21 & 185 & 82 & Netherlands    & NED & 1988 Winter & 1988 & Winter & Calgary   & Speed Skating & Speed Skating Women's 500 metres   & NA  \\\\\n",
       "\t6 & 5 & Christine Jacoba Aaftink & F & 21 & 185 & 82 & Netherlands    & NED & 1988 Winter & 1988 & Winter & Calgary   & Speed Skating & Speed Skating Women's 1,000 metres & NA  \\\\\n",
       "\\end{tabular}\n"
      ],
      "text/markdown": [
       "\n",
       "A data.frame: 6 x 15\n",
       "\n",
       "| <!--/--> | ID &lt;int&gt; | Name &lt;chr&gt; | Sex &lt;chr&gt; | Age &lt;int&gt; | Height &lt;int&gt; | Weight &lt;dbl&gt; | Team &lt;chr&gt; | NOC &lt;chr&gt; | Games &lt;chr&gt; | Year &lt;int&gt; | Season &lt;chr&gt; | City &lt;chr&gt; | Sport &lt;chr&gt; | Event &lt;chr&gt; | Medal &lt;chr&gt; |\n",
       "|---|---|---|---|---|---|---|---|---|---|---|---|---|---|---|---|\n",
       "| 1 | 1 | A Dijiang                | M | 24 | 180 | 80 | China          | CHN | 1992 Summer | 1992 | Summer | Barcelona | Basketball    | Basketball Men's Basketball        | NA   |\n",
       "| 2 | 2 | A Lamusi                 | M | 23 | 170 | 60 | China          | CHN | 2012 Summer | 2012 | Summer | London    | Judo          | Judo Men's Extra-Lightweight       | NA   |\n",
       "| 3 | 3 | Gunnar Nielsen Aaby      | M | 24 |  NA | NA | Denmark        | DEN | 1920 Summer | 1920 | Summer | Antwerpen | Football      | Football Men's Football            | NA   |\n",
       "| 4 | 4 | Edgar Lindenau Aabye     | M | 34 |  NA | NA | Denmark/Sweden | DEN | 1900 Summer | 1900 | Summer | Paris     | Tug-Of-War    | Tug-Of-War Men's Tug-Of-War        | Gold |\n",
       "| 5 | 5 | Christine Jacoba Aaftink | F | 21 | 185 | 82 | Netherlands    | NED | 1988 Winter | 1988 | Winter | Calgary   | Speed Skating | Speed Skating Women's 500 metres   | NA   |\n",
       "| 6 | 5 | Christine Jacoba Aaftink | F | 21 | 185 | 82 | Netherlands    | NED | 1988 Winter | 1988 | Winter | Calgary   | Speed Skating | Speed Skating Women's 1,000 metres | NA   |\n",
       "\n"
      ],
      "text/plain": [
       "  ID Name                     Sex Age Height Weight Team           NOC\n",
       "1 1  A Dijiang                M   24  180    80     China          CHN\n",
       "2 2  A Lamusi                 M   23  170    60     China          CHN\n",
       "3 3  Gunnar Nielsen Aaby      M   24   NA    NA     Denmark        DEN\n",
       "4 4  Edgar Lindenau Aabye     M   34   NA    NA     Denmark/Sweden DEN\n",
       "5 5  Christine Jacoba Aaftink F   21  185    82     Netherlands    NED\n",
       "6 5  Christine Jacoba Aaftink F   21  185    82     Netherlands    NED\n",
       "  Games       Year Season City      Sport        \n",
       "1 1992 Summer 1992 Summer Barcelona Basketball   \n",
       "2 2012 Summer 2012 Summer London    Judo         \n",
       "3 1920 Summer 1920 Summer Antwerpen Football     \n",
       "4 1900 Summer 1900 Summer Paris     Tug-Of-War   \n",
       "5 1988 Winter 1988 Winter Calgary   Speed Skating\n",
       "6 1988 Winter 1988 Winter Calgary   Speed Skating\n",
       "  Event                              Medal\n",
       "1 Basketball Men's Basketball        NA   \n",
       "2 Judo Men's Extra-Lightweight       NA   \n",
       "3 Football Men's Football            NA   \n",
       "4 Tug-Of-War Men's Tug-Of-War        Gold \n",
       "5 Speed Skating Women's 500 metres   NA   \n",
       "6 Speed Skating Women's 1,000 metres NA   "
      ]
     },
     "metadata": {},
     "output_type": "display_data"
    },
    {
     "name": "stderr",
     "output_type": "stream",
     "text": [
      "Warning message in dotchart(tail(sort(table(myDF$Team)), n = 10)):\n",
      "\"'x' is neither a vector nor a matrix: using as.numeric(x)\"\n"
     ]
    },
    {
     "data": {
      "image/png": "[encoded data removed]",
      "text/plain": [
       "plot without title"
      ]
     },
     "metadata": {
      "image/png": {
       "height": 420,
       "width": 420
      }
     },
     "output_type": "display_data"
    }
   ],
   "source": [
    "myDF <- read.csv(\"/anvil/projects/tdm/data/olympics/athlete_events.csv\")\n",
    "head(myDF)\n",
    "\n",
    "dotchart(tail(sort(table(myDF$Team)), n=10))"
   ]
  },
  {
   "cell_type": "markdown",
   "id": "9fbf00fb-2418-460f-ae94-2a32b0c28952",
   "metadata": {},
   "source": [
    "For this question I essentially copied the data from the previous question and then applied the concept of the dotchart into this problem."
   ]
  },
  {
   "cell_type": "markdown",
   "id": "f76442d6-d02e-4f26-b9d6-c3183e1d6929",
   "metadata": {},
   "source": [
    "## Pledge\n",
    "\n",
    "By submitting this work I hereby pledge that this is my own, personal work. I've acknowledged in the designated place at the top of this file all sources that I used to complete said work, including but not limited to: online resources, books, and electronic communications. I've noted all collaboration with fellow students and/or TA's. I did not copy or plagiarize another's work.\n",
    "\n",
    "> As a Boilermaker pursuing academic excellence, I pledge to be honest and true in all that I do. Accountable together – We are Purdue.\n",
    "\n",
    "https://www.purdue.edu/odos/osrr/honor-pledge/\n"
   ]
  }
 ],
 "metadata": {
  "kernelspec": {
   "display_name": "seminar-r",
   "language": "R",
   "name": "seminar-r"
  },
  "language_info": {
   "codemirror_mode": "r",
   "file_extension": ".r",
   "mimetype": "text/x-r-source",
   "name": "R",
   "pygments_lexer": "r",
   "version": "4.4.3"
  }
 },
 "nbformat": 4,
 "nbformat_minor": 5
}
