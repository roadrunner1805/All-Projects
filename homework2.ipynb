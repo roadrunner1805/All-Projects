{
 "cells": [
  {
   "cell_type": "code",
   "execution_count": 9,
   "id": "5ef62444",
   "metadata": {},
   "outputs": [
    {
     "name": "stdout",
     "output_type": "stream",
     "text": [
      "Hammers $11.50\n",
      "Shovels $25.00\n",
      "Picks $13.45\n",
      "Buckets $2.95\n",
      "Rope $9.99\n"
     ]
    }
   ],
   "source": [
    "# Product List \n",
    "products = ['Hammers', 'Shovels', 'Picks', 'Buckets', 'Rope']\n",
    "prices = ['$11.50', '$25.00', '$13.45', '$2.95', '$9.99']\n",
    "\n",
    "# creating the dictionary \n",
    "product_prices = dict(zip(products, prices))\n",
    "\n",
    "# printing the products and prices\n",
    "for product, price in product_prices.items():\n",
    "    print(f\"{product} {price}\")"
   ]
  }
 ],
 "metadata": {
  "kernelspec": {
   "display_name": "base",
   "language": "python",
   "name": "python3"
  },
  "language_info": {
   "codemirror_mode": {
    "name": "ipython",
    "version": 3
   },
   "file_extension": ".py",
   "mimetype": "text/x-python",
   "name": "python",
   "nbconvert_exporter": "python",
   "pygments_lexer": "ipython3",
   "version": "3.13.5"
  }
 },
 "nbformat": 4,
 "nbformat_minor": 5
}
