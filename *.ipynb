{
 "cells": [
  {
   "cell_type": "markdown",
   "id": "70d8a39a",
   "metadata": {},
   "source": [
    "# This is HW 1"
   ]
  },
  {
   "cell_type": "code",
   "execution_count": null,
   "id": "4144189b",
   "metadata": {},
   "outputs": [
    {
     "name": "stdout",
     "output_type": "stream",
     "text": [
      "It is cold\n"
     ]
    }
   ],
   "source": [
    "# First I need the user to input the current temperature in Fahrenheit\n",
    "userTemp = int(input(\"Please enter your current temperature in Fahrenheit: \"))\n",
    "\n",
    "# If the temperature is above 85 degree, it is hot \n",
    "if userTemp > 85:\n",
    "    print(\"It is hot\")\n",
    "\n",
    "# If the temperature is between 60 and 85 degrees, it is warm\n",
    "elif userTemp >= 60 and userTemp < 85:\n",
    "    print(\"It is warm\")\n",
    "\n",
    "# If the temperature is below 60 degrees, it is cold \n",
    "else:\n",
    "    print(\"It is cold\")"
   ]
  }
 ],
 "metadata": {
  "kernelspec": {
   "display_name": "base",
   "language": "python",
   "name": "python3"
  },
  "language_info": {
   "codemirror_mode": {
    "name": "ipython",
    "version": 3
   },
   "file_extension": ".py",
   "mimetype": "text/x-python",
   "name": "python",
   "nbconvert_exporter": "python",
   "pygments_lexer": "ipython3",
   "version": "3.13.5"
  }
 },
 "nbformat": 4,
 "nbformat_minor": 5
}
